{
 "cells": [
  {
   "cell_type": "markdown",
   "id": "979fd544",
   "metadata": {},
   "source": [
    "# Fashion-MNIST Classification with Dense Neural Networks (using Tensorflow)\n",
    "\n",
    "### Student Name: Sudharsan\n",
    "### Student Number: 8977532"
   ]
  },
  {
   "cell_type": "markdown",
   "id": "1a614a11",
   "metadata": {},
   "source": [
    "In this assignment we will use the Fashion MNIST Dataset from Kaggle from tensorflow and perform classification. The dimensions and organization of the original MNIST dataset, but instead of handwritten numbers, it includes pictures of clothing items. It has 10,000 test examples and 60,000 training examples, each of which is a 28 x 28 pixel grayscale image. Fashion-MNIST is a direct replacement for MNIST, providing a broad and difficult benchmark for assessing machine learning algorithms in the AI/ML/Data Science community. It has ten classes that represent various fashion items. Its adoption emphasizes how crucial it is to test algorithms on a variety of datasets, since performance on MNIST may not always translate to real-world tasks."
   ]
  },
  {
   "cell_type": "markdown",
   "id": "f1679414",
   "metadata": {},
   "source": [
    "### Import the Required Libraries"
   ]
  },
  {
   "cell_type": "code",
   "execution_count": 77,
   "id": "9224b7c9",
   "metadata": {},
   "outputs": [],
   "source": [
    "#import the required Libraries\n",
    "import numpy as np\n",
    "import pandas as pd\n",
    "from matplotlib import pyplot as plt\n",
    "from sklearn.model_selection import train_test_split"
   ]
  },
  {
   "cell_type": "markdown",
   "id": "64dc9377",
   "metadata": {},
   "source": [
    "### Load the Training and Testing Dataset\n",
    "\n",
    "   The dataset is provided as separate CSV files for both training and testing sets. We'll proceed by loading the data into pandas DataFrame objects, examining its structure, making inferences, and then converting it into numpy arrays for further analysis.\n"
   ]
  },
  {
   "cell_type": "code",
   "execution_count": 78,
   "id": "3a520745",
   "metadata": {},
   "outputs": [],
   "source": [
    "fmnist_train_df = pd.read_csv(\"fashion-mnist_train.csv\")\n",
    "fmnist_test_df = pd.read_csv(\"fashion-mnist_test.csv\")"
   ]
  },
  {
   "cell_type": "code",
   "execution_count": 79,
   "id": "7415472c",
   "metadata": {},
   "outputs": [
    {
     "data": {
      "text/html": [
       "<div>\n",
       "<style scoped>\n",
       "    .dataframe tbody tr th:only-of-type {\n",
       "        vertical-align: middle;\n",
       "    }\n",
       "\n",
       "    .dataframe tbody tr th {\n",
       "        vertical-align: top;\n",
       "    }\n",
       "\n",
       "    .dataframe thead th {\n",
       "        text-align: right;\n",
       "    }\n",
       "</style>\n",
       "<table border=\"1\" class=\"dataframe\">\n",
       "  <thead>\n",
       "    <tr style=\"text-align: right;\">\n",
       "      <th></th>\n",
       "      <th>label</th>\n",
       "      <th>pixel1</th>\n",
       "      <th>pixel2</th>\n",
       "      <th>pixel3</th>\n",
       "      <th>pixel4</th>\n",
       "      <th>pixel5</th>\n",
       "      <th>pixel6</th>\n",
       "      <th>pixel7</th>\n",
       "      <th>pixel8</th>\n",
       "      <th>pixel9</th>\n",
       "      <th>...</th>\n",
       "      <th>pixel775</th>\n",
       "      <th>pixel776</th>\n",
       "      <th>pixel777</th>\n",
       "      <th>pixel778</th>\n",
       "      <th>pixel779</th>\n",
       "      <th>pixel780</th>\n",
       "      <th>pixel781</th>\n",
       "      <th>pixel782</th>\n",
       "      <th>pixel783</th>\n",
       "      <th>pixel784</th>\n",
       "    </tr>\n",
       "  </thead>\n",
       "  <tbody>\n",
       "    <tr>\n",
       "      <th>0</th>\n",
       "      <td>2</td>\n",
       "      <td>0</td>\n",
       "      <td>0</td>\n",
       "      <td>0</td>\n",
       "      <td>0</td>\n",
       "      <td>0</td>\n",
       "      <td>0</td>\n",
       "      <td>0</td>\n",
       "      <td>0</td>\n",
       "      <td>0</td>\n",
       "      <td>...</td>\n",
       "      <td>0</td>\n",
       "      <td>0</td>\n",
       "      <td>0</td>\n",
       "      <td>0</td>\n",
       "      <td>0</td>\n",
       "      <td>0</td>\n",
       "      <td>0</td>\n",
       "      <td>0</td>\n",
       "      <td>0</td>\n",
       "      <td>0</td>\n",
       "    </tr>\n",
       "    <tr>\n",
       "      <th>1</th>\n",
       "      <td>9</td>\n",
       "      <td>0</td>\n",
       "      <td>0</td>\n",
       "      <td>0</td>\n",
       "      <td>0</td>\n",
       "      <td>0</td>\n",
       "      <td>0</td>\n",
       "      <td>0</td>\n",
       "      <td>0</td>\n",
       "      <td>0</td>\n",
       "      <td>...</td>\n",
       "      <td>0</td>\n",
       "      <td>0</td>\n",
       "      <td>0</td>\n",
       "      <td>0</td>\n",
       "      <td>0</td>\n",
       "      <td>0</td>\n",
       "      <td>0</td>\n",
       "      <td>0</td>\n",
       "      <td>0</td>\n",
       "      <td>0</td>\n",
       "    </tr>\n",
       "    <tr>\n",
       "      <th>2</th>\n",
       "      <td>6</td>\n",
       "      <td>0</td>\n",
       "      <td>0</td>\n",
       "      <td>0</td>\n",
       "      <td>0</td>\n",
       "      <td>0</td>\n",
       "      <td>0</td>\n",
       "      <td>0</td>\n",
       "      <td>5</td>\n",
       "      <td>0</td>\n",
       "      <td>...</td>\n",
       "      <td>0</td>\n",
       "      <td>0</td>\n",
       "      <td>0</td>\n",
       "      <td>30</td>\n",
       "      <td>43</td>\n",
       "      <td>0</td>\n",
       "      <td>0</td>\n",
       "      <td>0</td>\n",
       "      <td>0</td>\n",
       "      <td>0</td>\n",
       "    </tr>\n",
       "    <tr>\n",
       "      <th>3</th>\n",
       "      <td>0</td>\n",
       "      <td>0</td>\n",
       "      <td>0</td>\n",
       "      <td>0</td>\n",
       "      <td>1</td>\n",
       "      <td>2</td>\n",
       "      <td>0</td>\n",
       "      <td>0</td>\n",
       "      <td>0</td>\n",
       "      <td>0</td>\n",
       "      <td>...</td>\n",
       "      <td>3</td>\n",
       "      <td>0</td>\n",
       "      <td>0</td>\n",
       "      <td>0</td>\n",
       "      <td>0</td>\n",
       "      <td>1</td>\n",
       "      <td>0</td>\n",
       "      <td>0</td>\n",
       "      <td>0</td>\n",
       "      <td>0</td>\n",
       "    </tr>\n",
       "    <tr>\n",
       "      <th>4</th>\n",
       "      <td>3</td>\n",
       "      <td>0</td>\n",
       "      <td>0</td>\n",
       "      <td>0</td>\n",
       "      <td>0</td>\n",
       "      <td>0</td>\n",
       "      <td>0</td>\n",
       "      <td>0</td>\n",
       "      <td>0</td>\n",
       "      <td>0</td>\n",
       "      <td>...</td>\n",
       "      <td>0</td>\n",
       "      <td>0</td>\n",
       "      <td>0</td>\n",
       "      <td>0</td>\n",
       "      <td>0</td>\n",
       "      <td>0</td>\n",
       "      <td>0</td>\n",
       "      <td>0</td>\n",
       "      <td>0</td>\n",
       "      <td>0</td>\n",
       "    </tr>\n",
       "  </tbody>\n",
       "</table>\n",
       "<p>5 rows × 785 columns</p>\n",
       "</div>"
      ],
      "text/plain": [
       "   label  pixel1  pixel2  pixel3  pixel4  pixel5  pixel6  pixel7  pixel8   \n",
       "0      2       0       0       0       0       0       0       0       0  \\\n",
       "1      9       0       0       0       0       0       0       0       0   \n",
       "2      6       0       0       0       0       0       0       0       5   \n",
       "3      0       0       0       0       1       2       0       0       0   \n",
       "4      3       0       0       0       0       0       0       0       0   \n",
       "\n",
       "   pixel9  ...  pixel775  pixel776  pixel777  pixel778  pixel779  pixel780   \n",
       "0       0  ...         0         0         0         0         0         0  \\\n",
       "1       0  ...         0         0         0         0         0         0   \n",
       "2       0  ...         0         0         0        30        43         0   \n",
       "3       0  ...         3         0         0         0         0         1   \n",
       "4       0  ...         0         0         0         0         0         0   \n",
       "\n",
       "   pixel781  pixel782  pixel783  pixel784  \n",
       "0         0         0         0         0  \n",
       "1         0         0         0         0  \n",
       "2         0         0         0         0  \n",
       "3         0         0         0         0  \n",
       "4         0         0         0         0  \n",
       "\n",
       "[5 rows x 785 columns]"
      ]
     },
     "execution_count": 79,
     "metadata": {},
     "output_type": "execute_result"
    }
   ],
   "source": [
    "fmnist_train_df.head()"
   ]
  },
  {
   "cell_type": "code",
   "execution_count": 80,
   "id": "c6d83bfe",
   "metadata": {},
   "outputs": [
    {
     "data": {
      "text/html": [
       "<div>\n",
       "<style scoped>\n",
       "    .dataframe tbody tr th:only-of-type {\n",
       "        vertical-align: middle;\n",
       "    }\n",
       "\n",
       "    .dataframe tbody tr th {\n",
       "        vertical-align: top;\n",
       "    }\n",
       "\n",
       "    .dataframe thead th {\n",
       "        text-align: right;\n",
       "    }\n",
       "</style>\n",
       "<table border=\"1\" class=\"dataframe\">\n",
       "  <thead>\n",
       "    <tr style=\"text-align: right;\">\n",
       "      <th></th>\n",
       "      <th>label</th>\n",
       "      <th>pixel1</th>\n",
       "      <th>pixel2</th>\n",
       "      <th>pixel3</th>\n",
       "      <th>pixel4</th>\n",
       "      <th>pixel5</th>\n",
       "      <th>pixel6</th>\n",
       "      <th>pixel7</th>\n",
       "      <th>pixel8</th>\n",
       "      <th>pixel9</th>\n",
       "      <th>...</th>\n",
       "      <th>pixel775</th>\n",
       "      <th>pixel776</th>\n",
       "      <th>pixel777</th>\n",
       "      <th>pixel778</th>\n",
       "      <th>pixel779</th>\n",
       "      <th>pixel780</th>\n",
       "      <th>pixel781</th>\n",
       "      <th>pixel782</th>\n",
       "      <th>pixel783</th>\n",
       "      <th>pixel784</th>\n",
       "    </tr>\n",
       "  </thead>\n",
       "  <tbody>\n",
       "    <tr>\n",
       "      <th>0</th>\n",
       "      <td>0</td>\n",
       "      <td>0</td>\n",
       "      <td>0</td>\n",
       "      <td>0</td>\n",
       "      <td>0</td>\n",
       "      <td>0</td>\n",
       "      <td>0</td>\n",
       "      <td>0</td>\n",
       "      <td>9</td>\n",
       "      <td>8</td>\n",
       "      <td>...</td>\n",
       "      <td>103</td>\n",
       "      <td>87</td>\n",
       "      <td>56</td>\n",
       "      <td>0</td>\n",
       "      <td>0</td>\n",
       "      <td>0</td>\n",
       "      <td>0</td>\n",
       "      <td>0</td>\n",
       "      <td>0</td>\n",
       "      <td>0</td>\n",
       "    </tr>\n",
       "    <tr>\n",
       "      <th>1</th>\n",
       "      <td>1</td>\n",
       "      <td>0</td>\n",
       "      <td>0</td>\n",
       "      <td>0</td>\n",
       "      <td>0</td>\n",
       "      <td>0</td>\n",
       "      <td>0</td>\n",
       "      <td>0</td>\n",
       "      <td>0</td>\n",
       "      <td>0</td>\n",
       "      <td>...</td>\n",
       "      <td>34</td>\n",
       "      <td>0</td>\n",
       "      <td>0</td>\n",
       "      <td>0</td>\n",
       "      <td>0</td>\n",
       "      <td>0</td>\n",
       "      <td>0</td>\n",
       "      <td>0</td>\n",
       "      <td>0</td>\n",
       "      <td>0</td>\n",
       "    </tr>\n",
       "    <tr>\n",
       "      <th>2</th>\n",
       "      <td>2</td>\n",
       "      <td>0</td>\n",
       "      <td>0</td>\n",
       "      <td>0</td>\n",
       "      <td>0</td>\n",
       "      <td>0</td>\n",
       "      <td>0</td>\n",
       "      <td>14</td>\n",
       "      <td>53</td>\n",
       "      <td>99</td>\n",
       "      <td>...</td>\n",
       "      <td>0</td>\n",
       "      <td>0</td>\n",
       "      <td>0</td>\n",
       "      <td>0</td>\n",
       "      <td>63</td>\n",
       "      <td>53</td>\n",
       "      <td>31</td>\n",
       "      <td>0</td>\n",
       "      <td>0</td>\n",
       "      <td>0</td>\n",
       "    </tr>\n",
       "    <tr>\n",
       "      <th>3</th>\n",
       "      <td>2</td>\n",
       "      <td>0</td>\n",
       "      <td>0</td>\n",
       "      <td>0</td>\n",
       "      <td>0</td>\n",
       "      <td>0</td>\n",
       "      <td>0</td>\n",
       "      <td>0</td>\n",
       "      <td>0</td>\n",
       "      <td>0</td>\n",
       "      <td>...</td>\n",
       "      <td>137</td>\n",
       "      <td>126</td>\n",
       "      <td>140</td>\n",
       "      <td>0</td>\n",
       "      <td>133</td>\n",
       "      <td>224</td>\n",
       "      <td>222</td>\n",
       "      <td>56</td>\n",
       "      <td>0</td>\n",
       "      <td>0</td>\n",
       "    </tr>\n",
       "    <tr>\n",
       "      <th>4</th>\n",
       "      <td>3</td>\n",
       "      <td>0</td>\n",
       "      <td>0</td>\n",
       "      <td>0</td>\n",
       "      <td>0</td>\n",
       "      <td>0</td>\n",
       "      <td>0</td>\n",
       "      <td>0</td>\n",
       "      <td>0</td>\n",
       "      <td>0</td>\n",
       "      <td>...</td>\n",
       "      <td>0</td>\n",
       "      <td>0</td>\n",
       "      <td>0</td>\n",
       "      <td>0</td>\n",
       "      <td>0</td>\n",
       "      <td>0</td>\n",
       "      <td>0</td>\n",
       "      <td>0</td>\n",
       "      <td>0</td>\n",
       "      <td>0</td>\n",
       "    </tr>\n",
       "  </tbody>\n",
       "</table>\n",
       "<p>5 rows × 785 columns</p>\n",
       "</div>"
      ],
      "text/plain": [
       "   label  pixel1  pixel2  pixel3  pixel4  pixel5  pixel6  pixel7  pixel8   \n",
       "0      0       0       0       0       0       0       0       0       9  \\\n",
       "1      1       0       0       0       0       0       0       0       0   \n",
       "2      2       0       0       0       0       0       0      14      53   \n",
       "3      2       0       0       0       0       0       0       0       0   \n",
       "4      3       0       0       0       0       0       0       0       0   \n",
       "\n",
       "   pixel9  ...  pixel775  pixel776  pixel777  pixel778  pixel779  pixel780   \n",
       "0       8  ...       103        87        56         0         0         0  \\\n",
       "1       0  ...        34         0         0         0         0         0   \n",
       "2      99  ...         0         0         0         0        63        53   \n",
       "3       0  ...       137       126       140         0       133       224   \n",
       "4       0  ...         0         0         0         0         0         0   \n",
       "\n",
       "   pixel781  pixel782  pixel783  pixel784  \n",
       "0         0         0         0         0  \n",
       "1         0         0         0         0  \n",
       "2        31         0         0         0  \n",
       "3       222        56         0         0  \n",
       "4         0         0         0         0  \n",
       "\n",
       "[5 rows x 785 columns]"
      ]
     },
     "execution_count": 80,
     "metadata": {},
     "output_type": "execute_result"
    }
   ],
   "source": [
    "fmnist_test_df.head()"
   ]
  },
  {
   "cell_type": "markdown",
   "id": "369d3a75",
   "metadata": {},
   "source": [
    "### 1. Load the data into a Numpy Arrays"
   ]
  },
  {
   "cell_type": "code",
   "execution_count": 81,
   "id": "1e400053",
   "metadata": {},
   "outputs": [],
   "source": [
    "# Convert data to NumPy arrays\n",
    "X_train_fmnist = fmnist_train_df.drop(\"label\", axis=1).values\n",
    "y_train_fmnist = fmnist_train_df[\"label\"].values\n",
    "X_test_fmnist = fmnist_test_df.drop(\"label\", axis=1).values\n",
    "y_test_fmnist = fmnist_test_df[\"label\"].values"
   ]
  },
  {
   "cell_type": "markdown",
   "id": "71634b22",
   "metadata": {},
   "source": [
    "### Split the dataset into Validation and testing part"
   ]
  },
  {
   "cell_type": "code",
   "execution_count": 82,
   "id": "3cad952e",
   "metadata": {},
   "outputs": [],
   "source": [
    "# Split the dataset into Validation and testing part\n",
    "X_vald_fmnist, X_test_fmnist, y_vald_fmnist, y_test_fmnist = train_test_split(X_test_fmnist, y_test_fmnist, test_size=0.5, random_state=42)"
   ]
  },
  {
   "cell_type": "markdown",
   "id": "f19a506e",
   "metadata": {},
   "source": [
    "### 2. Exploratory Data Analysis Process (EDA)"
   ]
  },
  {
   "cell_type": "code",
   "execution_count": 83,
   "id": "29b93af6",
   "metadata": {},
   "outputs": [],
   "source": [
    "def plot_digit(image_data):\n",
    "    image = image_data.reshape(28, 28)\n",
    "    plt.imshow(image, cmap=\"binary\")\n",
    "    plt.axis(\"off\")"
   ]
  },
  {
   "cell_type": "code",
   "execution_count": 84,
   "id": "a2ac6eb0",
   "metadata": {},
   "outputs": [
    {
     "data": {
      "image/png": "[encoded data removed]",
      "text/plain": [
       "<Figure size 640x480 with 1 Axes>"
      ]
     },
     "metadata": {},
     "output_type": "display_data"
    }
   ],
   "source": [
    "some_digit = X_train_fmnist[1]  # Assuming you want to use the first image in the dataset\n",
    "some_digit_image = some_digit.reshape(28, 28)  # Reshape the flattened image to its original dimensions\n",
    "plt.imshow(some_digit_image, cmap='viridis')  # Using the 'viridis' colormap\n",
    "plt.axis('off')\n",
    "plt.show()\n"
   ]
  },
  {
   "cell_type": "code",
   "execution_count": 85,
   "id": "ad6fb057",
   "metadata": {},
   "outputs": [
    {
     "data": {
      "image/png": "[encoded data removed]",
      "text/plain": [
       "<Figure size 2000x200 with 10 Axes>"
      ]
     },
     "metadata": {},
     "output_type": "display_data"
    }
   ],
   "source": [
    "fig, ax = plt.subplots(1, 10, figsize=(20, 2))\n",
    "for val in range(0,10):\n",
    "    digit_indices = np.where(y_train_fmnist.astype('int8') == val)[0]\n",
    "    a_image = np.mean(X_train_fmnist[digit_indices], axis=0).reshape(28, 28)\n",
    "    ax[val].imshow(a_image, cmap='viridis')  # You can choose any colormap you prefer\n",
    "    ax[val].set_title(str(val))\n",
    "    ax[val].axis('off')\n",
    "plt.show()\n"
   ]
  },
  {
   "cell_type": "markdown",
   "id": "135a6f73",
   "metadata": {},
   "source": [
    "#### Comments: \n",
    "A variety of fashion images, such as pullovers, t-shirts, shoes, handbags, and pants, are displayed above. There are several entries in each category, each of which represents a variation of that particular fashion item.\n"
   ]
  },
  {
   "cell_type": "markdown",
   "id": "f4f0750a",
   "metadata": {},
   "source": [
    "### 3. Define and Train a fully-connected feedforward neural network"
   ]
  },
  {
   "cell_type": "markdown",
   "id": "6ffe27c2",
   "metadata": {},
   "source": [
    "#### Import the Neural Network Required Libraries:"
   ]
  },
  {
   "cell_type": "code",
   "execution_count": 87,
   "id": "230011ee",
   "metadata": {},
   "outputs": [],
   "source": [
    "import tensorflow as tf\n",
    "from tensorflow.keras import layers, models"
   ]
  },
  {
   "cell_type": "markdown",
   "id": "612faccf",
   "metadata": {},
   "source": [
    "#### Model Architecture"
   ]
  },
  {
   "cell_type": "code",
   "execution_count": 88,
   "id": "4b8bd1c5",
   "metadata": {},
   "outputs": [],
   "source": [
    "# Define the model architecture with modified dense layer sizes\n",
    "model = models.Sequential([\n",
    "    layers.Dense(256, activation='relu', input_shape=(784,)),  \n",
    "    layers.Dense(128, activation='relu'),  \n",
    "    layers.Dense(20, activation='softmax') \n",
    "])\n"
   ]
  },
  {
   "cell_type": "markdown",
   "id": "f21f8b71",
   "metadata": {},
   "source": [
    "#### Compile the model with RMSprop optimizer\n",
    "During neural network training, the RMSprop optimizer—short for Root Mean Square Propagation—is used to minimize the loss function. By dividing the learning rate by an exponentially decaying average of squared gradients, it modifies the learning rate for each parameter separately. This makes it possible to achieve better results and faster convergence, particularly when working with sparse datasets or non-stationary objectives. RMSprop helps to effectively train neural networks on challenging fashion image classification tasks by efficiently updating the model's parameters, which improves accuracy and convergence when applied to the Fashion-MNIST dataset.\n"
   ]
  },
  {
   "cell_type": "code",
   "execution_count": 89,
   "id": "eaeaa012",
   "metadata": {},
   "outputs": [],
   "source": [
    "# Compile the model with RMSprop optimizer\n",
    "model.compile(optimizer='rmsprop',\n",
    "              loss='sparse_categorical_crossentropy',\n",
    "              metrics=['accuracy'])\n"
   ]
  },
  {
   "cell_type": "markdown",
   "id": "c0984187",
   "metadata": {},
   "source": [
    "#### Train the Above model"
   ]
  },
  {
   "cell_type": "code",
   "execution_count": 90,
   "id": "d10e2fb4",
   "metadata": {},
   "outputs": [
    {
     "name": "stdout",
     "output_type": "stream",
     "text": [
      "Epoch 1/10\n",
      "469/469 [==============================] - 26s 52ms/step - loss: 6.6272 - accuracy: 0.7021 - val_loss: 0.8646 - val_accuracy: 0.7708\n",
      "Epoch 2/10\n",
      "469/469 [==============================] - 21s 45ms/step - loss: 0.7594 - accuracy: 0.7809 - val_loss: 0.5844 - val_accuracy: 0.8088\n",
      "Epoch 3/10\n",
      "469/469 [==============================] - 22s 46ms/step - loss: 0.5657 - accuracy: 0.8156 - val_loss: 0.5464 - val_accuracy: 0.8298\n",
      "Epoch 4/10\n",
      "469/469 [==============================] - 21s 46ms/step - loss: 0.5036 - accuracy: 0.8334 - val_loss: 0.5610 - val_accuracy: 0.8266\n",
      "Epoch 5/10\n",
      "469/469 [==============================] - 21s 45ms/step - loss: 0.4466 - accuracy: 0.8481 - val_loss: 0.5222 - val_accuracy: 0.8398\n",
      "Epoch 6/10\n",
      "469/469 [==============================] - 22s 46ms/step - loss: 0.4171 - accuracy: 0.8545 - val_loss: 0.4865 - val_accuracy: 0.8406\n",
      "Epoch 7/10\n",
      "469/469 [==============================] - 21s 46ms/step - loss: 0.3984 - accuracy: 0.8609 - val_loss: 0.4614 - val_accuracy: 0.8642\n",
      "Epoch 8/10\n",
      "469/469 [==============================] - 22s 46ms/step - loss: 0.3894 - accuracy: 0.8667 - val_loss: 0.5252 - val_accuracy: 0.8558\n",
      "Epoch 9/10\n",
      "469/469 [==============================] - 21s 44ms/step - loss: 0.3764 - accuracy: 0.8686 - val_loss: 0.4865 - val_accuracy: 0.8500\n",
      "Epoch 10/10\n",
      "469/469 [==============================] - 21s 46ms/step - loss: 0.3678 - accuracy: 0.8712 - val_loss: 0.5304 - val_accuracy: 0.8456\n"
     ]
    }
   ],
   "source": [
    "# Train the model\n",
    "history = model.fit(X_train_fmnist, y_train_fmnist, epochs=10, batch_size=128, validation_data=(X_vald_fmnist, y_vald_fmnist))"
   ]
  },
  {
   "cell_type": "markdown",
   "id": "335772d9",
   "metadata": {},
   "source": [
    "#### Epochs Result comments :\n",
    "  Over the course of epochs, the model consistently improves its training accuracy; after ten epochs, it peaks at about 87.60%. Although the validation accuracy varies between 84 and 87%, it stays relatively near to the training accuracy, suggesting a slight overfitting. While fluctuations in validation loss indicate possible difficulties in generalizing to unseen data, a steady decrease in training loss indicates effective learning. Regularization, dropout, and architectural modifications are examples of additional optimization techniques that could improve the model's performance, especially in terms of improving generalization to the validation set.\n"
   ]
  },
  {
   "cell_type": "markdown",
   "id": "dbd08265",
   "metadata": {},
   "source": [
    "### 4. Evaluate the Model:"
   ]
  },
  {
   "cell_type": "code",
   "execution_count": 91,
   "id": "aff3b90b",
   "metadata": {},
   "outputs": [],
   "source": [
    "from sklearn.metrics import accuracy_score, precision_score, recall_score, f1_score"
   ]
  },
  {
   "cell_type": "code",
   "execution_count": 92,
   "id": "c9e6d839",
   "metadata": {},
   "outputs": [
    {
     "name": "stdout",
     "output_type": "stream",
     "text": [
      "157/157 [==============================] - 2s 10ms/step\n",
      "Accuracy: 0.8456\n",
      "Precision: 0.8504066546203274\n",
      "Recall: 0.8456\n",
      "F1 Score: 0.8354582288831652\n"
     ]
    }
   ],
   "source": [
    "# Predict on validation set\n",
    "y_val_pred = np.argmax(model.predict(X_vald_fmnist), axis=-1)\n",
    "\n",
    "# Calculate metrics\n",
    "accuracy = accuracy_score(y_vald_fmnist, y_val_pred)\n",
    "precision = precision_score(y_vald_fmnist, y_val_pred, average='weighted')\n",
    "recall = recall_score(y_vald_fmnist, y_val_pred, average='weighted')\n",
    "f1 = f1_score(y_vald_fmnist, y_val_pred, average='weighted')\n",
    "\n",
    "print(\"Accuracy:\", accuracy)\n",
    "print(\"Precision:\", precision)\n",
    "print(\"Recall:\", recall)\n",
    "print(\"F1 Score:\", f1)"
   ]
  },
  {
   "cell_type": "markdown",
   "id": "7d1f959c",
   "metadata": {},
   "source": [
    "##### Result  comments:\n",
    "The model's accuracy of 84.5%, alongside precision, recall, and F1 score all hovering around 83%, underscores its robustness in accurately classifying fashion items.This metric measures the overall correctness of the model's predictions. These metrics collectively affirm the model's effectiveness in discerning various fashion categories, showcasing its reliability in real-world applications."
   ]
  },
  {
   "cell_type": "markdown",
   "id": "9b273bb1",
   "metadata": {},
   "source": [
    "### 5. Run the Model on Test Set"
   ]
  },
  {
   "cell_type": "code",
   "execution_count": 93,
   "id": "815fd6db",
   "metadata": {},
   "outputs": [
    {
     "name": "stdout",
     "output_type": "stream",
     "text": [
      "157/157 [==============================] - 2s 10ms/step - loss: 0.4995 - accuracy: 0.8440\n"
     ]
    }
   ],
   "source": [
    "# Run model on test set\n",
    "test_loss, test_accuracy = model.evaluate(X_test_fmnist, y_test_fmnist)"
   ]
  },
  {
   "cell_type": "markdown",
   "id": "baa01413",
   "metadata": {},
   "source": [
    "The model's predictions and actual values diverge. Better performance is indicated by a lower loss, which shows that the model is successful in lowering prediction errors. In terms of overall prediction accuracy, the model's accuracy of 0.8440 indicates that it correctly classified approximately 84.4% of the test samples."
   ]
  },
  {
   "cell_type": "markdown",
   "id": "b0cd9e65",
   "metadata": {},
   "source": [
    "### 6. Increase Precision:\n",
    "\n",
    "\n",
    "We're changing how we classify some instances labeled as '5' to improve how accurately we predict class '5'. By doing this, we hope to reduce incorrect predictions while being careful not to miss any instances. It's important to test different thresholds to find the right balance between getting things right and not missing anything important."
   ]
  },
  {
   "cell_type": "code",
   "execution_count": 94,
   "id": "db6ba2f4",
   "metadata": {},
   "outputs": [
    {
     "name": "stdout",
     "output_type": "stream",
     "text": [
      "157/157 [==============================] - 1s 9ms/step\n"
     ]
    }
   ],
   "source": [
    "# Adjust threshold to increase precision for class '5'\n",
    "threshold = 0.5\n",
    "y_pred_proba = model.predict(X_test_fmnist)\n",
    "y_pred_adjusted = np.argmax(y_pred_proba, axis=-1)\n",
    "y_pred_adjusted[y_pred_proba[:, 5] < threshold] = 0  "
   ]
  },
  {
   "cell_type": "code",
   "execution_count": 95,
   "id": "6e13738d",
   "metadata": {},
   "outputs": [
    {
     "name": "stdout",
     "output_type": "stream",
     "text": [
      "Precision for class '5' after adjustment: 0.9721030042918455\n"
     ]
    }
   ],
   "source": [
    "# Calculate precision for class '5' after adjustment\n",
    "precision_class_5 = precision_score(y_test_fmnist, y_pred_adjusted, labels=[5], average='weighted')\n",
    "\n",
    "print(\"Precision for class '5' after adjustment:\", precision_class_5)"
   ]
  },
  {
   "cell_type": "markdown",
   "id": "8c5dec28",
   "metadata": {},
   "source": [
    "Following the modification, precision for a specific class increased substantially from 0.85 to 0.972, marking an impressive gain of approximately 14%. This enhancement underscores the model's improved ability to make accurate positive predictions for that class, signifying a notable advancement in its performance."
   ]
  },
  {
   "cell_type": "markdown",
   "id": "0c254bd9",
   "metadata": {},
   "source": [
    "## 7. Increase Recall:"
   ]
  },
  {
   "cell_type": "code",
   "execution_count": 96,
   "id": "06d355fb",
   "metadata": {},
   "outputs": [
    {
     "name": "stdout",
     "output_type": "stream",
     "text": [
      "157/157 [==============================] - 1s 8ms/step\n"
     ]
    }
   ],
   "source": [
    "# Adjust decision threshold to increase recall for class '5'\n",
    "y_pred_proba = model.predict(X_test_fmnist)\n",
    "y_pred_adjusted = np.argmax(y_pred_proba, axis=-1)\n",
    "y_pred_adjusted[y_pred_proba[:, 5] > threshold] = 5  # Set instances with high confidence as '5'"
   ]
  },
  {
   "cell_type": "code",
   "execution_count": 97,
   "id": "b3010480",
   "metadata": {},
   "outputs": [
    {
     "name": "stdout",
     "output_type": "stream",
     "text": [
      "Recall for class '5' after adjustment: 0.9301848049281314\n"
     ]
    }
   ],
   "source": [
    "# Calculate recall for class '5' after adjustment\n",
    "recall_class_5 = recall_score(y_test_fmnist, y_pred_adjusted, labels=[5], average='weighted')\n",
    "\n",
    "print(\"Recall for class '5' after adjustment:\", recall_class_5)"
   ]
  },
  {
   "cell_type": "markdown",
   "id": "40735434",
   "metadata": {},
   "source": [
    "After adjustment, the recall for class '5' significantly increased from 0.84 to 0.9301. This indicates that the model now captures a higher proportion of true positive instances for class '5', reflecting improved performance. The adjustment likely focused on correctly identifying more instances of class '5', enhancing the model's ability to detect this specific category."
   ]
  },
  {
   "cell_type": "markdown",
   "id": "c4a3b36a",
   "metadata": {},
   "source": [
    "## Lab 9 - Avoiding Overfitting by Saving a Model"
   ]
  },
  {
   "cell_type": "markdown",
   "id": "708863fe",
   "metadata": {},
   "source": [
    "## Explore 3 different neural networks:\n",
    "\n",
    "To determine which neural network performs best, we will create three distinct neural networks with varying configurations. All of them will have the same input shape, but they will differ in terms of the number of neurons in each layer and the type of function that determines whether a neuron fires.\n"
   ]
  },
  {
   "cell_type": "code",
   "execution_count": 98,
   "id": "be6fecd3",
   "metadata": {},
   "outputs": [],
   "source": [
    "from tensorflow.keras import layers, models\n",
    "\n",
    "model_1 = models.Sequential([\n",
    "    layers.Dense(256, activation='relu', input_shape=(784,)),  # Changed the number of units in the first dense layer to 256\n",
    "    layers.Dropout(0.3),  # Changed dropout rate to 0.3\n",
    "    layers.Dense(128, activation='relu'),  # Changed the number of units in the second dense layer to 128\n",
    "    layers.Dropout(0.3),  # Changed dropout rate to 0.3\n",
    "    layers.Dense(10, activation='softmax')\n",
    "])"
   ]
  },
  {
   "cell_type": "code",
   "execution_count": 99,
   "id": "10b7efae",
   "metadata": {},
   "outputs": [],
   "source": [
    "model_2 = models.Sequential([\n",
    "    layers.Dense(512, activation='relu', input_shape=(784,)),  # Increased units in the first layer to 512\n",
    "    layers.Dense(256, activation='relu'),  # Increased units in the second layer to 256\n",
    "    layers.Dense(128, activation='relu'),  # Decreased units in the third layer to 128\n",
    "    layers.Dense(64, activation='relu'), \n",
    "    layers.Dense(10, activation='softmax')\n",
    "])"
   ]
  },
  {
   "cell_type": "code",
   "execution_count": 100,
   "id": "1285e6ac",
   "metadata": {},
   "outputs": [],
   "source": [
    "model_3 = models.Sequential([\n",
    "    layers.Dense(256, activation='relu', input_shape=(784,)),\n",
    "    layers.Dropout(0.2),\n",
    "    layers.Dense(128, activation='relu'),\n",
    "    layers.Dropout(0.2),\n",
    "    layers.Dense(64, activation='relu'),\n",
    "    layers.Dropout(0.2),\n",
    "    layers.Dense(10, activation='softmax')\n",
    "])"
   ]
  },
  {
   "cell_type": "markdown",
   "id": "074aa573",
   "metadata": {},
   "source": [
    "To enable the models to learn from data, we must configure them. We'll accomplish this by deciding how they assess their performanc. how they make necessary adjustments to improve, and how they monitor their progress throughout the learning process. We want them to concentrate on doing things as accurately as they can.\n"
   ]
  },
  {
   "cell_type": "code",
   "execution_count": 101,
   "id": "69243f3a",
   "metadata": {},
   "outputs": [],
   "source": [
    "model_1.compile(optimizer='rmsprop',\n",
    "                loss='sparse_categorical_crossentropy',\n",
    "                metrics=['accuracy'])\n",
    "\n",
    "model_2.compile(optimizer='rmsprop',\n",
    "                loss='sparse_categorical_crossentropy',\n",
    "                metrics=['accuracy'])\n",
    "\n",
    "model_3.compile(optimizer='rmsprop',\n",
    "                loss='sparse_categorical_crossentropy',\n",
    "                metrics=['accuracy'])"
   ]
  },
  {
   "cell_type": "markdown",
   "id": "fdc451c5",
   "metadata": {},
   "source": [
    "### Function for  Plot Training and validation Loss and Accuracy:"
   ]
  },
  {
   "cell_type": "code",
   "execution_count": 102,
   "id": "152238af",
   "metadata": {},
   "outputs": [],
   "source": [
    "# function to plot history\n",
    "def plot_history(history, model_name):\n",
    "    # Plot training & validation accuracy values\n",
    "    plt.plot(history.history['accuracy'])\n",
    "    plt.plot(history.history['val_accuracy'])\n",
    "    plt.title(f'{model_name} Model Accuracy')\n",
    "    plt.ylabel('Accuracy')\n",
    "    plt.xlabel('Epoch')\n",
    "    plt.legend(['Train', 'Validation'], loc='upper left')\n",
    "    plt.show()\n",
    "\n",
    "    # Plot training & validation loss values\n",
    "    plt.plot(history.history['loss'])\n",
    "    plt.plot(history.history['val_loss'])\n",
    "    plt.title(f'{model_name} Model Loss')\n",
    "    plt.ylabel('Loss')\n",
    "    plt.xlabel('Epoch')\n",
    "    plt.legend(['Train', 'Validation'], loc='upper left')\n",
    "    plt.show()"
   ]
  },
  {
   "cell_type": "code",
   "execution_count": 103,
   "id": "57d65699",
   "metadata": {},
   "outputs": [],
   "source": [
    "from keras.callbacks import ModelCheckpoint\n",
    "\n",
    "model_checkpoint_callback = ModelCheckpoint(\n",
    "    filepath='best_model.hdf5',\n",
    "    save_weights_only=False,  # Optionally save only weights instead of the full model\n",
    "    monitor='val_loss',\n",
    "    mode='min',  # Monitor validation loss and save on minimum\n",
    "    save_best_only=True)"
   ]
  },
  {
   "cell_type": "markdown",
   "id": "9a637c45",
   "metadata": {},
   "source": [
    "### Traning the Model 1 and plot the epoch"
   ]
  },
  {
   "cell_type": "code",
   "execution_count": 104,
   "id": "acec2835",
   "metadata": {},
   "outputs": [
    {
     "name": "stdout",
     "output_type": "stream",
     "text": [
      "Epoch 1/10\n",
      "469/469 [==============================] - 23s 46ms/step - loss: 4.6289 - accuracy: 0.5570 - val_loss: 1.0333 - val_accuracy: 0.6522\n",
      "Epoch 2/10\n",
      "469/469 [==============================] - 23s 49ms/step - loss: 1.0787 - accuracy: 0.6384 - val_loss: 0.8167 - val_accuracy: 0.7088\n",
      "Epoch 3/10\n",
      "469/469 [==============================] - 21s 45ms/step - loss: 0.8786 - accuracy: 0.6821 - val_loss: 0.7040 - val_accuracy: 0.7234\n",
      "Epoch 4/10\n",
      "469/469 [==============================] - 21s 45ms/step - loss: 0.7888 - accuracy: 0.7050 - val_loss: 0.6613 - val_accuracy: 0.7378\n",
      "Epoch 5/10\n",
      "469/469 [==============================] - 22s 47ms/step - loss: 0.7429 - accuracy: 0.7177 - val_loss: 0.6273 - val_accuracy: 0.7526\n",
      "Epoch 6/10\n",
      "469/469 [==============================] - 24s 51ms/step - loss: 0.7111 - accuracy: 0.7266 - val_loss: 0.6172 - val_accuracy: 0.7542\n",
      "Epoch 7/10\n",
      "469/469 [==============================] - 23s 50ms/step - loss: 0.6964 - accuracy: 0.7338 - val_loss: 0.6109 - val_accuracy: 0.7606\n",
      "Epoch 8/10\n",
      "469/469 [==============================] - 22s 47ms/step - loss: 0.6784 - accuracy: 0.7389 - val_loss: 0.5959 - val_accuracy: 0.7670\n",
      "Epoch 9/10\n",
      "469/469 [==============================] - 27s 58ms/step - loss: 0.6670 - accuracy: 0.7411 - val_loss: 0.6069 - val_accuracy: 0.7734\n",
      "Epoch 10/10\n",
      "469/469 [==============================] - 25s 52ms/step - loss: 0.6668 - accuracy: 0.7444 - val_loss: 0.6301 - val_accuracy: 0.7672\n"
     ]
    },
    {
     "data": {
      "image/png": "[encoded data removed]",
      "text/plain": [
       "<Figure size 640x480 with 1 Axes>"
      ]
     },
     "metadata": {},
     "output_type": "display_data"
    },
    {
     "data": {
      "image/png": "[encoded data removed]",
      "text/plain": [
       "<Figure size 640x480 with 1 Axes>"
      ]
     },
     "metadata": {},
     "output_type": "display_data"
    }
   ],
   "source": [
    "# Train and plot metrics for Model 1\n",
    "training_1 = model_1.fit(X_train_fmnist, y_train_fmnist, epochs=10, batch_size=128, validation_data=(X_vald_fmnist, y_vald_fmnist), callbacks=[model_checkpoint_callback])\n",
    "plot_history(training_1, 'Model 1')"
   ]
  },
  {
   "cell_type": "markdown",
   "id": "991ca3b7",
   "metadata": {},
   "source": [
    "#### Comment:\n",
    "When compared to the training data, the Training 1 model appears to perform better with the validation data. It typically has an accuracy of between 55% and 74% for the training data and between 65% and 76% for the validation data. Furthermore, compared to the training data, the validation data has a smaller loss. This implies that the model performs well and has less error."
   ]
  },
  {
   "cell_type": "markdown",
   "id": "84bc26d1",
   "metadata": {},
   "source": [
    "### Traning the Model 2 and plot the epoch"
   ]
  },
  {
   "cell_type": "code",
   "execution_count": 105,
   "id": "228f3d04",
   "metadata": {},
   "outputs": [
    {
     "name": "stdout",
     "output_type": "stream",
     "text": [
      "Epoch 1/10\n",
      "469/469 [==============================] - 55s 113ms/step - loss: 3.8518 - accuracy: 0.6612 - val_loss: 0.6244 - val_accuracy: 0.7538\n",
      "Epoch 2/10\n",
      "469/469 [==============================] - 50s 107ms/step - loss: 0.6048 - accuracy: 0.7854 - val_loss: 0.4855 - val_accuracy: 0.8292\n",
      "Epoch 3/10\n",
      "469/469 [==============================] - 59s 126ms/step - loss: 0.4914 - accuracy: 0.8261 - val_loss: 0.5357 - val_accuracy: 0.7952\n",
      "Epoch 4/10\n",
      "469/469 [==============================] - 52s 110ms/step - loss: 0.4366 - accuracy: 0.8457 - val_loss: 0.5177 - val_accuracy: 0.8438\n",
      "Epoch 5/10\n",
      "469/469 [==============================] - 54s 114ms/step - loss: 0.4107 - accuracy: 0.8564 - val_loss: 0.4486 - val_accuracy: 0.8494\n",
      "Epoch 6/10\n",
      "469/469 [==============================] - 55s 117ms/step - loss: 0.3944 - accuracy: 0.8633 - val_loss: 0.5601 - val_accuracy: 0.8142\n",
      "Epoch 7/10\n",
      "469/469 [==============================] - 54s 115ms/step - loss: 0.3800 - accuracy: 0.8673 - val_loss: 0.3704 - val_accuracy: 0.8690\n",
      "Epoch 8/10\n",
      "469/469 [==============================] - 53s 112ms/step - loss: 0.3684 - accuracy: 0.8711 - val_loss: 0.5012 - val_accuracy: 0.8754\n",
      "Epoch 9/10\n",
      "469/469 [==============================] - 53s 112ms/step - loss: 0.3594 - accuracy: 0.8743 - val_loss: 0.3816 - val_accuracy: 0.8686\n",
      "Epoch 10/10\n",
      "469/469 [==============================] - 52s 110ms/step - loss: 0.3528 - accuracy: 0.8782 - val_loss: 0.3595 - val_accuracy: 0.8818\n"
     ]
    },
    {
     "data": {
      "image/png": "[encoded data removed]",
      "text/plain": [
       "<Figure size 640x480 with 1 Axes>"
      ]
     },
     "metadata": {},
     "output_type": "display_data"
    },
    {
     "data": {
      "image/png": "[encoded data removed]",
      "text/plain": [
       "<Figure size 640x480 with 1 Axes>"
      ]
     },
     "metadata": {},
     "output_type": "display_data"
    }
   ],
   "source": [
    "# Train and plot metrics for Model 2\n",
    "training_2 = model_2.fit(X_train_fmnist, y_train_fmnist, epochs=10, batch_size=128, validation_data=(X_vald_fmnist, y_vald_fmnist), callbacks=[model_checkpoint_callback])\n",
    "plot_history(training_2, 'Model 2')"
   ]
  },
  {
   "cell_type": "markdown",
   "id": "9efc5ca0",
   "metadata": {},
   "source": [
    "#### Comment:\n",
    "he model's accuracy steadily improves during training, reaching about 87%. Validation accuracy also increases, peaking at around 88% with minor fluctuations. Both training and validation loss decrease, indicating effective learning. Although slight fluctuations suggest potential overfitting, overall, the model learns and generalizes well. Additional monitoring and potential regularization techniques may be considered to optimize performance further.\n"
   ]
  },
  {
   "cell_type": "markdown",
   "id": "9f8d02b1",
   "metadata": {},
   "source": [
    "### Traning the Model 3 and plot the epoch"
   ]
  },
  {
   "cell_type": "code",
   "execution_count": 106,
   "id": "65d4b4b4",
   "metadata": {},
   "outputs": [
    {
     "name": "stdout",
     "output_type": "stream",
     "text": [
      "Epoch 1/10\n",
      "469/469 [==============================] - 25s 50ms/step - loss: 3.9975 - accuracy: 0.5781 - val_loss: 0.8845 - val_accuracy: 0.6896\n",
      "Epoch 2/10\n",
      "469/469 [==============================] - 23s 49ms/step - loss: 0.8522 - accuracy: 0.6937 - val_loss: 0.6255 - val_accuracy: 0.7550\n",
      "Epoch 3/10\n",
      "469/469 [==============================] - 22s 47ms/step - loss: 0.7424 - accuracy: 0.7412 - val_loss: 0.5975 - val_accuracy: 0.7810\n",
      "Epoch 4/10\n",
      "469/469 [==============================] - 24s 52ms/step - loss: 0.6791 - accuracy: 0.7616 - val_loss: 0.5439 - val_accuracy: 0.8176\n",
      "Epoch 5/10\n",
      "469/469 [==============================] - 26s 55ms/step - loss: 0.6516 - accuracy: 0.7769 - val_loss: 0.5259 - val_accuracy: 0.8358\n",
      "Epoch 6/10\n",
      "469/469 [==============================] - 24s 52ms/step - loss: 0.6224 - accuracy: 0.7882 - val_loss: 0.5494 - val_accuracy: 0.8330\n",
      "Epoch 7/10\n",
      "469/469 [==============================] - 24s 51ms/step - loss: 0.6111 - accuracy: 0.7983 - val_loss: 0.5364 - val_accuracy: 0.8348\n",
      "Epoch 8/10\n",
      "469/469 [==============================] - 23s 49ms/step - loss: 0.5885 - accuracy: 0.8055 - val_loss: 0.4503 - val_accuracy: 0.8506\n",
      "Epoch 9/10\n",
      "469/469 [==============================] - 24s 51ms/step - loss: 0.5837 - accuracy: 0.8081 - val_loss: 0.4801 - val_accuracy: 0.8464\n",
      "Epoch 10/10\n",
      "469/469 [==============================] - 26s 55ms/step - loss: 0.5715 - accuracy: 0.8153 - val_loss: 0.4954 - val_accuracy: 0.8618\n"
     ]
    },
    {
     "data": {
      "image/png": "[encoded data removed]",
      "text/plain": [
       "<Figure size 640x480 with 1 Axes>"
      ]
     },
     "metadata": {},
     "output_type": "display_data"
    },
    {
     "data": {
      "image/png": "[encoded data removed]",
      "text/plain": [
       "<Figure size 640x480 with 1 Axes>"
      ]
     },
     "metadata": {},
     "output_type": "display_data"
    }
   ],
   "source": [
    "# Train and plot metrics for Model 3\n",
    "training_3 = model_3.fit(X_train_fmnist, y_train_fmnist, epochs=10, batch_size=128, validation_data=(X_vald_fmnist, y_vald_fmnist), callbacks=[model_checkpoint_callback])\n",
    "plot_history(training_3, 'Model 3')"
   ]
  },
  {
   "cell_type": "markdown",
   "id": "11fec15c",
   "metadata": {},
   "source": [
    "#### Comment\n",
    "The model's accuracy improves steadily during training, reaching around 81%. Validation accuracy also increases but with some fluctuations, settling around 86%. Both training and validation loss decrease over epochs, indicating effective learning. Overall, the model learns well and generalizes reasonably, but slight fluctuations suggest potential for overfitting."
   ]
  },
  {
   "cell_type": "markdown",
   "id": "5e925ac7",
   "metadata": {},
   "source": [
    "### Determine which epoch works best for each model."
   ]
  },
  {
   "cell_type": "code",
   "execution_count": 107,
   "id": "fea3fb00",
   "metadata": {},
   "outputs": [
    {
     "name": "stdout",
     "output_type": "stream",
     "text": [
      "Best epoch for Model 2: 10\n",
      "Best epoch for Model 3: 8\n"
     ]
    }
   ],
   "source": [
    "# Determine which epoch works best for each model.\n",
    "\n",
    "fitted_epoch_2 = np.argmin(training_2.history['val_loss']) + 1\n",
    "fitted_epoch_3 = np.argmin(training_3.history['val_loss']) + 1\n",
    "\n",
    "print(\"Best epoch for Model 2:\", fitted_epoch_2)\n",
    "print(\"Best epoch for Model 3:\", fitted_epoch_3)"
   ]
  },
  {
   "cell_type": "markdown",
   "id": "c9d31ace",
   "metadata": {},
   "source": [
    "#### Comment :\n",
    "We are unable to draw any conclusions from this data because the best epochs for the two models are the same. To determine which of the two models is the best, we will examine the loss values for each.\n"
   ]
  },
  {
   "cell_type": "code",
   "execution_count": 112,
   "id": "1034d48c",
   "metadata": {},
   "outputs": [
    {
     "name": "stdout",
     "output_type": "stream",
     "text": [
      "Best model chosen: 2\n",
      "Best epoch chosen: 10\n"
     ]
    }
   ],
   "source": [
    "# Choose the best model based on the best epoch and validation performance\n",
    "best_model = 0\n",
    "best_epoch = None\n",
    "\n",
    "if training_2.history['val_loss'][fitted_epoch_2- 1] < training_3.history['val_loss'][fitted_epoch_3 - 1]:\n",
    "    best_model = 2\n",
    "    best_epoch = fitted_epoch_2\n",
    "else:\n",
    "    best_model = 3\n",
    "    best_epoch = fitted_epoch_3\n",
    "\n",
    "print(\"Best model chosen:\", best_model)\n",
    "print(\"Best epoch chosen:\", best_epoch)"
   ]
  },
  {
   "cell_type": "markdown",
   "id": "a77a42d7",
   "metadata": {},
   "source": [
    "We have determined that Model 3 is the best model based on the loss value. Epoch 4 is that model's best epoch.\n"
   ]
  },
  {
   "cell_type": "code",
   "execution_count": 113,
   "id": "1b4f2931",
   "metadata": {},
   "outputs": [],
   "source": [
    "from keras.models import load_model\n",
    "\n",
    "# Read the best model saved in file\n",
    "fitted_model = load_model('best_model.hdf5')"
   ]
  },
  {
   "cell_type": "markdown",
   "id": "578a3939",
   "metadata": {},
   "source": [
    "### Evaluate the best model using the test set"
   ]
  },
  {
   "cell_type": "code",
   "execution_count": 114,
   "id": "0a9ebf8b",
   "metadata": {},
   "outputs": [
    {
     "name": "stdout",
     "output_type": "stream",
     "text": [
      "157/157 [==============================] - 3s 18ms/step - loss: 0.3641 - accuracy: 0.8788\n",
      "Test Accuracy of the Best fitted Model: 0.8787999749183655\n"
     ]
    }
   ],
   "source": [
    "# Evaluate the best model using the test set\n",
    "test_loss, test_accuracy = fitted_model.evaluate(X_test_fmnist, y_test_fmnist)\n",
    "print(\"Test Accuracy of the Best fitted Model:\", test_accuracy)"
   ]
  },
  {
   "cell_type": "code",
   "execution_count": 115,
   "id": "64b8b5ef",
   "metadata": {},
   "outputs": [
    {
     "name": "stdout",
     "output_type": "stream",
     "text": [
      "157/157 [==============================] - 1s 8ms/step\n",
      "Accuracy: 0.8456\n",
      "Precision: 0.8504066546203274\n",
      "Recall: 0.8456\n",
      "F1 Score: 0.8354582288831652\n"
     ]
    }
   ],
   "source": [
    "y_val_pred = np.argmax(model.predict(X_vald_fmnist), axis=-1)\n",
    "\n",
    "# Calculate metrics\n",
    "accuracy = accuracy_score(y_vald_fmnist, y_val_pred)\n",
    "precision = precision_score(y_vald_fmnist, y_val_pred, average='weighted')\n",
    "recall = recall_score(y_vald_fmnist, y_val_pred, average='weighted')\n",
    "f1 = f1_score(y_vald_fmnist, y_val_pred, average='weighted')\n",
    "\n",
    "print(\"Accuracy:\", accuracy)\n",
    "print(\"Precision:\", precision)\n",
    "print(\"Recall:\", recall)\n",
    "print(\"F1 Score:\", f1)"
   ]
  }
 ],
 "metadata": {
  "kernelspec": {
   "display_name": "Python 3 (ipykernel)",
   "language": "python",
   "name": "python3"
  },
  "language_info": {
   "codemirror_mode": {
    "name": "ipython",
    "version": 3
   },
   "file_extension": ".py",
   "mimetype": "text/x-python",
   "name": "python",
   "nbconvert_exporter": "python",
   "pygments_lexer": "ipython3",
   "version": "3.10.11"
  }
 },
 "nbformat": 4,
 "nbformat_minor": 5
}
