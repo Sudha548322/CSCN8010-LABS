{
 "cells": [
  {
   "cell_type": "markdown",
   "metadata": {},
   "source": [
    "**Sudharsan Tirumal**\n",
    "\n",
    "**Student ID** : 8977532"
   ]
  },
  {
   "cell_type": "markdown",
   "metadata": {},
   "source": [
    "## **Practical Lab 4 - Polynomial Regression, and Evaluation using R-Squared, MAPE and MAE**.\n",
    "\n",
    "In this lab, I have to run univariate polynomial regression models, and evaluate them using R-squared, Mean Absolute Percentage Error (MAPE) and Mean Absolute Error (MAE) metrices. The dataset will be Scikit-Learn Diabetes dataset."
   ]
  },
  {
   "cell_type": "markdown",
   "metadata": {},
   "source": [
    "**1. Frame the Problem** :\n",
    "The goal is to build a model that can __best predict the risk of diabetes progression__, given the __body mass index  (BMI)__ feature in the dataset. This will be used as a screening tool to help physicians with identifying patients at risk."
   ]
  },
  {
   "cell_type": "markdown",
   "metadata": {},
   "source": [
    "## **Importing the library**"
   ]
  },
  {
   "cell_type": "code",
   "execution_count": 5,
   "metadata": {},
   "outputs": [],
   "source": [
    "import numpy as np\n",
    "import pandas as pd\n",
    "import matplotlib.pyplot as plt\n",
    "from sklearn.model_selection import train_test_split\n",
    "from sklearn.preprocessing import PolynomialFeatures\n",
    "from sklearn.linear_model import LinearRegression\n",
    "from sklearn.metrics import mean_squared_error, r2_score, mean_absolute_error"
   ]
  },
  {
   "cell_type": "markdown",
   "metadata": {},
   "source": [
    "## **2. Get the Data**"
   ]
  },
  {
   "cell_type": "code",
   "execution_count": 6,
   "metadata": {},
   "outputs": [],
   "source": [
    "from sklearn import datasets\n",
    "diabetes = datasets.load_diabetes(return_X_y=False, as_frame=False, scaled=False)\n",
    "x = diabetes.data[:, np.newaxis, 2]\n",
    "y = diabetes.target "
   ]
  },
  {
   "cell_type": "markdown",
   "metadata": {},
   "source": [
    "**3. EDA - Describe the data, explore it, and provide insights about it. This should include at least: statistics, histograms, and a correlation matrix**"
   ]
  },
  {
   "cell_type": "code",
   "execution_count": 7,
   "metadata": {},
   "outputs": [
    {
     "data": {
      "text/html": [
       "<div>\n",
       "<style scoped>\n",
       "    .dataframe tbody tr th:only-of-type {\n",
       "        vertical-align: middle;\n",
       "    }\n",
       "\n",
       "    .dataframe tbody tr th {\n",
       "        vertical-align: top;\n",
       "    }\n",
       "\n",
       "    .dataframe thead th {\n",
       "        text-align: right;\n",
       "    }\n",
       "</style>\n",
       "<table border=\"1\" class=\"dataframe\">\n",
       "  <thead>\n",
       "    <tr style=\"text-align: right;\">\n",
       "      <th></th>\n",
       "      <th>age</th>\n",
       "      <th>sex</th>\n",
       "      <th>bmi</th>\n",
       "      <th>bp</th>\n",
       "      <th>s1</th>\n",
       "      <th>s2</th>\n",
       "      <th>s3</th>\n",
       "      <th>s4</th>\n",
       "      <th>s5</th>\n",
       "      <th>s6</th>\n",
       "    </tr>\n",
       "  </thead>\n",
       "  <tbody>\n",
       "    <tr>\n",
       "      <th>count</th>\n",
       "      <td>442.000000</td>\n",
       "      <td>442.000000</td>\n",
       "      <td>442.000000</td>\n",
       "      <td>442.000000</td>\n",
       "      <td>442.000000</td>\n",
       "      <td>442.000000</td>\n",
       "      <td>442.000000</td>\n",
       "      <td>442.000000</td>\n",
       "      <td>442.000000</td>\n",
       "      <td>442.000000</td>\n",
       "    </tr>\n",
       "    <tr>\n",
       "      <th>mean</th>\n",
       "      <td>48.518100</td>\n",
       "      <td>1.468326</td>\n",
       "      <td>26.375792</td>\n",
       "      <td>94.647014</td>\n",
       "      <td>189.140271</td>\n",
       "      <td>115.439140</td>\n",
       "      <td>49.788462</td>\n",
       "      <td>4.070249</td>\n",
       "      <td>4.641411</td>\n",
       "      <td>91.260181</td>\n",
       "    </tr>\n",
       "    <tr>\n",
       "      <th>std</th>\n",
       "      <td>13.109028</td>\n",
       "      <td>0.499561</td>\n",
       "      <td>4.418122</td>\n",
       "      <td>13.831283</td>\n",
       "      <td>34.608052</td>\n",
       "      <td>30.413081</td>\n",
       "      <td>12.934202</td>\n",
       "      <td>1.290450</td>\n",
       "      <td>0.522391</td>\n",
       "      <td>11.496335</td>\n",
       "    </tr>\n",
       "    <tr>\n",
       "      <th>min</th>\n",
       "      <td>19.000000</td>\n",
       "      <td>1.000000</td>\n",
       "      <td>18.000000</td>\n",
       "      <td>62.000000</td>\n",
       "      <td>97.000000</td>\n",
       "      <td>41.600000</td>\n",
       "      <td>22.000000</td>\n",
       "      <td>2.000000</td>\n",
       "      <td>3.258100</td>\n",
       "      <td>58.000000</td>\n",
       "    </tr>\n",
       "    <tr>\n",
       "      <th>25%</th>\n",
       "      <td>38.250000</td>\n",
       "      <td>1.000000</td>\n",
       "      <td>23.200000</td>\n",
       "      <td>84.000000</td>\n",
       "      <td>164.250000</td>\n",
       "      <td>96.050000</td>\n",
       "      <td>40.250000</td>\n",
       "      <td>3.000000</td>\n",
       "      <td>4.276700</td>\n",
       "      <td>83.250000</td>\n",
       "    </tr>\n",
       "    <tr>\n",
       "      <th>50%</th>\n",
       "      <td>50.000000</td>\n",
       "      <td>1.000000</td>\n",
       "      <td>25.700000</td>\n",
       "      <td>93.000000</td>\n",
       "      <td>186.000000</td>\n",
       "      <td>113.000000</td>\n",
       "      <td>48.000000</td>\n",
       "      <td>4.000000</td>\n",
       "      <td>4.620050</td>\n",
       "      <td>91.000000</td>\n",
       "    </tr>\n",
       "    <tr>\n",
       "      <th>75%</th>\n",
       "      <td>59.000000</td>\n",
       "      <td>2.000000</td>\n",
       "      <td>29.275000</td>\n",
       "      <td>105.000000</td>\n",
       "      <td>209.750000</td>\n",
       "      <td>134.500000</td>\n",
       "      <td>57.750000</td>\n",
       "      <td>5.000000</td>\n",
       "      <td>4.997200</td>\n",
       "      <td>98.000000</td>\n",
       "    </tr>\n",
       "    <tr>\n",
       "      <th>max</th>\n",
       "      <td>79.000000</td>\n",
       "      <td>2.000000</td>\n",
       "      <td>42.200000</td>\n",
       "      <td>133.000000</td>\n",
       "      <td>301.000000</td>\n",
       "      <td>242.400000</td>\n",
       "      <td>99.000000</td>\n",
       "      <td>9.090000</td>\n",
       "      <td>6.107000</td>\n",
       "      <td>124.000000</td>\n",
       "    </tr>\n",
       "  </tbody>\n",
       "</table>\n",
       "</div>"
      ],
      "text/plain": [
       "              age         sex         bmi          bp          s1          s2   \n",
       "count  442.000000  442.000000  442.000000  442.000000  442.000000  442.000000  \\\n",
       "mean    48.518100    1.468326   26.375792   94.647014  189.140271  115.439140   \n",
       "std     13.109028    0.499561    4.418122   13.831283   34.608052   30.413081   \n",
       "min     19.000000    1.000000   18.000000   62.000000   97.000000   41.600000   \n",
       "25%     38.250000    1.000000   23.200000   84.000000  164.250000   96.050000   \n",
       "50%     50.000000    1.000000   25.700000   93.000000  186.000000  113.000000   \n",
       "75%     59.000000    2.000000   29.275000  105.000000  209.750000  134.500000   \n",
       "max     79.000000    2.000000   42.200000  133.000000  301.000000  242.400000   \n",
       "\n",
       "               s3          s4          s5          s6  \n",
       "count  442.000000  442.000000  442.000000  442.000000  \n",
       "mean    49.788462    4.070249    4.641411   91.260181  \n",
       "std     12.934202    1.290450    0.522391   11.496335  \n",
       "min     22.000000    2.000000    3.258100   58.000000  \n",
       "25%     40.250000    3.000000    4.276700   83.250000  \n",
       "50%     48.000000    4.000000    4.620050   91.000000  \n",
       "75%     57.750000    5.000000    4.997200   98.000000  \n",
       "max     99.000000    9.090000    6.107000  124.000000  "
      ]
     },
     "execution_count": 7,
     "metadata": {},
     "output_type": "execute_result"
    }
   ],
   "source": [
    "# Showing statistics by describing dataset\n",
    "df = pd.DataFrame(diabetes.data, columns=diabetes.feature_names)\n",
    "df.describe()\n"
   ]
  },
  {
   "cell_type": "markdown",
   "metadata": {},
   "source": [
    "# **_Attribute Information:_**\n",
    "- age = age in years\n",
    "- sex\n",
    "- bmi = body mass index\n",
    "- bp  = average blood pressure\n",
    "- s1  = total serum cholesterol\n",
    "- s2  = low-density lipoproteins\n",
    "- s3  = high-density lipoproteins\n",
    "- s4  = total cholesterol / HDL\n",
    "- s5  = possibly log of serum triglycerides level\n",
    "- s6  = blood sugar level"
   ]
  },
  {
   "cell_type": "code",
   "execution_count": 8,
   "metadata": {},
   "outputs": [
    {
     "ename": "NameError",
     "evalue": "name 'sns' is not defined",
     "output_type": "error",
     "traceback": [
      "\u001b[1;31m---------------------------------------------------------------------------\u001b[0m",
      "\u001b[1;31mNameError\u001b[0m                                 Traceback (most recent call last)",
      "Cell \u001b[1;32mIn[8], line 6\u001b[0m\n\u001b[0;32m      4\u001b[0m plt\u001b[38;5;241m.\u001b[39mfigure(figsize\u001b[38;5;241m=\u001b[39m(\u001b[38;5;241m12\u001b[39m, \u001b[38;5;241m6\u001b[39m))\n\u001b[0;32m      5\u001b[0m plt\u001b[38;5;241m.\u001b[39msubplot(\u001b[38;5;241m1\u001b[39m, \u001b[38;5;241m2\u001b[39m, \u001b[38;5;241m1\u001b[39m)\n\u001b[1;32m----> 6\u001b[0m \u001b[43msns\u001b[49m\u001b[38;5;241m.\u001b[39mhistplot(df[\u001b[38;5;124m'\u001b[39m\u001b[38;5;124mtarget\u001b[39m\u001b[38;5;124m'\u001b[39m], bins\u001b[38;5;241m=\u001b[39m\u001b[38;5;241m30\u001b[39m, color\u001b[38;5;241m=\u001b[39m\u001b[38;5;124m'\u001b[39m\u001b[38;5;124mblue\u001b[39m\u001b[38;5;124m'\u001b[39m)\n\u001b[0;32m      7\u001b[0m plt\u001b[38;5;241m.\u001b[39mtitle(\u001b[38;5;124m'\u001b[39m\u001b[38;5;124mDiabetes Progression Distribution\u001b[39m\u001b[38;5;124m'\u001b[39m)\n\u001b[0;32m      8\u001b[0m plt\u001b[38;5;241m.\u001b[39mxlabel(\u001b[38;5;124m'\u001b[39m\u001b[38;5;124mDiabetes Progression\u001b[39m\u001b[38;5;124m'\u001b[39m)\n",
      "\u001b[1;31mNameError\u001b[0m: name 'sns' is not defined"
     ]
    },
    {
     "data": {
      "image/png": "[encoded data removed]",
      "text/plain": [
       "<Figure size 1200x600 with 1 Axes>"
      ]
     },
     "metadata": {},
     "output_type": "display_data"
    }
   ],
   "source": [
    "# Histograms\n",
    "\n",
    "df['target'] = diabetes.target \n",
    "plt.figure(figsize=(12, 6))\n",
    "plt.subplot(1, 2, 1)\n",
    "sns.histplot(df['target'], bins=30, color='blue')\n",
    "plt.title('Diabetes Progression Distribution')\n",
    "plt.xlabel('Diabetes Progression')\n",
    "plt.ylabel('Count')\n",
    "\n",
    "plt.subplot(1, 2, 2)\n",
    "sns.histplot(df['bmi'], bins=30, color='orange')\n",
    "plt.title('BMI Distribution')\n",
    "plt.xlabel('BMI')\n",
    "plt.ylabel('Count')\n",
    "bmi_stats = df['bmi'].describe()\n",
    "print(bmi_stats)\n",
    "\n",
    "plt.tight_layout()\n",
    "plt.show()\n",
    "\n"
   ]
  },
  {
   "cell_type": "code",
   "execution_count": 9,
   "metadata": {},
   "outputs": [
    {
     "ename": "NameError",
     "evalue": "name 'sns' is not defined",
     "output_type": "error",
     "traceback": [
      "\u001b[1;31m---------------------------------------------------------------------------\u001b[0m",
      "\u001b[1;31mNameError\u001b[0m                                 Traceback (most recent call last)",
      "Cell \u001b[1;32mIn[9], line 4\u001b[0m\n\u001b[0;32m      2\u001b[0m correlation_matrix \u001b[38;5;241m=\u001b[39m df\u001b[38;5;241m.\u001b[39mcorr()\n\u001b[0;32m      3\u001b[0m plt\u001b[38;5;241m.\u001b[39mfigure(figsize\u001b[38;5;241m=\u001b[39m(\u001b[38;5;241m10\u001b[39m, \u001b[38;5;241m8\u001b[39m))\n\u001b[1;32m----> 4\u001b[0m \u001b[43msns\u001b[49m\u001b[38;5;241m.\u001b[39mheatmap(correlation_matrix, annot\u001b[38;5;241m=\u001b[39m\u001b[38;5;28;01mTrue\u001b[39;00m, cmap\u001b[38;5;241m=\u001b[39m\u001b[38;5;124m\"\u001b[39m\u001b[38;5;124mcoolwarm\u001b[39m\u001b[38;5;124m\"\u001b[39m)\n\u001b[0;32m      5\u001b[0m plt\u001b[38;5;241m.\u001b[39mtitle(\u001b[38;5;124m\"\u001b[39m\u001b[38;5;124mCorrelation Matrix\u001b[39m\u001b[38;5;124m\"\u001b[39m)\n\u001b[0;32m      6\u001b[0m plt\u001b[38;5;241m.\u001b[39mshow()\n",
      "\u001b[1;31mNameError\u001b[0m: name 'sns' is not defined"
     ]
    },
    {
     "data": {
      "text/plain": [
       "<Figure size 1000x800 with 0 Axes>"
      ]
     },
     "metadata": {},
     "output_type": "display_data"
    }
   ],
   "source": [
    "# Correlation Matrix\n",
    "correlation_matrix = df.corr()\n",
    "plt.figure(figsize=(10, 8))\n",
    "sns.heatmap(correlation_matrix, annot=True, cmap=\"coolwarm\")\n",
    "plt.title(\"Correlation Matrix\")\n",
    "plt.show()"
   ]
  },
  {
   "cell_type": "markdown",
   "metadata": {},
   "source": [
    "#### Insights about dataset"
   ]
  },
  {
   "cell_type": "markdown",
   "metadata": {},
   "source": [
    "This dataset comprises information from 442 diabetes patients, involving 18 numeric attributes and one target variable representing disease progression after a year. The data includes baseline variable like age,sex body mass index, average blood, pressure, and six blood serum measurements. Histograms illustrate the distribution of features, offering insights into their characteristics, while the correlation matrix highlights relationships between features and the target variable ."
   ]
  },
  {
   "cell_type": "markdown",
   "metadata": {},
   "source": [
    "## **4. Clean the data if needed, and explain your reasoning for your reader**"
   ]
  },
  {
   "cell_type": "code",
   "execution_count": 4,
   "metadata": {},
   "outputs": [
    {
     "ename": "NameError",
     "evalue": "name 'df' is not defined",
     "output_type": "error",
     "traceback": [
      "\u001b[1;31m---------------------------------------------------------------------------\u001b[0m",
      "\u001b[1;31mNameError\u001b[0m                                 Traceback (most recent call last)",
      "Cell \u001b[1;32mIn[4], line 1\u001b[0m\n\u001b[1;32m----> 1\u001b[0m \u001b[43mdf\u001b[49m\u001b[38;5;241m.\u001b[39misnull()\u001b[38;5;241m.\u001b[39msum()\n",
      "\u001b[1;31mNameError\u001b[0m: name 'df' is not defined"
     ]
    }
   ],
   "source": [
    "df.isnull().sum()"
   ]
  },
  {
   "cell_type": "markdown",
   "metadata": {},
   "source": [
    "From the above data, we can see  that the data is already standardized and there is Zero null values in this dataset. So, we need not to clean the data."
   ]
  },
  {
   "cell_type": "markdown",
   "metadata": {},
   "source": [
    "## **5. Split the dataset to a train (70%), validation (15%) and test (15%) sets.**"
   ]
  },
  {
   "cell_type": "code",
   "execution_count": 10,
   "metadata": {},
   "outputs": [
    {
     "name": "stdout",
     "output_type": "stream",
     "text": [
      "Train set size: 309\n",
      "Validation set size: 66\n",
      "Test set size: 67\n"
     ]
    }
   ],
   "source": [
    "X_train_temp, X_temp, y_train_temp, y_temp = train_test_split(diabetes.data, diabetes.target, test_size=0.3, random_state=42)\n",
    "\n",
    "# Splitting the temporary set into validation and test sets (50% each from the temporary set)\n",
    "X_valid, X_test, y_valid, y_test = train_test_split(X_temp, y_temp, test_size=0.5, random_state=42)\n",
    "\n",
    "# Displaying the sizes of train, validation, and test sets\n",
    "print(\"Train set size:\", len(X_train_temp))\n",
    "print(\"Validation set size:\", len(X_valid))\n",
    "print(\"Test set size:\", len(X_test))"
   ]
  },
  {
   "cell_type": "markdown",
   "metadata": {},
   "source": [
    "## **6. Run a polynomial regression on the BMI feature versus the \" disease progression one year after baseline\" - from degree 0 to 5 (6 models)** "
   ]
  },
  {
   "cell_type": "code",
   "execution_count": 11,
   "metadata": {},
   "outputs": [
    {
     "name": "stdout",
     "output_type": "stream",
     "text": [
      "Mean Squared Errors:\n",
      "Degree 0: 5929.884896910383\n",
      "Degree 1: 3890.4565854612715\n",
      "Degree 2: 3889.702145270231\n",
      "Degree 3: 3883.351178536732\n",
      "Degree 4: 3880.5464052343627\n",
      "Degree 5: 3858.0936025756755\n"
     ]
    }
   ],
   "source": [
    "# Extracting BMI feature\n",
    "X_bmi = diabetes.data[:, np.newaxis, 2]  # Assuming BMI is the third feature, hence index 2\n",
    "\n",
    "# Target variable (disease progression)\n",
    "y = diabetes.target\n",
    "\n",
    "# Dictionary to store models and their corresponding mean squared errors\n",
    "models = {}\n",
    "\n",
    "# Loop through polynomial degrees from 0 to 5\n",
    "for degree in range(6):\n",
    "    # Create polynomial features\n",
    "    poly_features = PolynomialFeatures(degree=degree)\n",
    "    X_poly = poly_features.fit_transform(X_bmi)\n",
    "    \n",
    "    # Fit linear regression model\n",
    "    model = LinearRegression()\n",
    "    model.fit(X_poly, y)\n",
    "    \n",
    "    # Make predictions\n",
    "    y_pred = model.predict(X_poly)\n",
    "\n",
    "    # Calculate mean squared error\n",
    "    mse = mean_squared_error(y, y_pred)\n",
    "    \n",
    "    # Store the model and its mean squared error\n",
    "    models[degree] = {'model': model, 'mse': mse}\n",
    "\n",
    "print(\"Mean Squared Errors:\")\n",
    "for degree, result in models.items():\n",
    "    print(f\"Degree {degree}: {result['mse']}\")\n"
   ]
  },
  {
   "cell_type": "markdown",
   "metadata": {},
   "source": [
    "## **7. Compare the six models using the training and validation data:**\n",
    "\n",
    "## **i. Report R-squared, MAPE and MAE. You should have 6 values per model**"
   ]
  },
  {
   "cell_type": "code",
   "execution_count": 12,
   "metadata": {},
   "outputs": [
    {
     "name": "stdout",
     "output_type": "stream",
     "text": [
      "Metrics for each model:\n",
      "Degree 0:\n",
      "R-squared (Train): -0.0005092279685678935\n",
      "R-squared (Validation): -0.004225762797119836\n",
      "MAE (Train): 66.51350144239922\n",
      "MAE (Validation): 61.721239544768956\n",
      "MAPE (Train): 62.90135741904245\n",
      "MAPE (Validation): 57.082367807909016\n",
      "\n",
      "Degree 1:\n",
      "R-squared (Train): 0.36504037635522346\n",
      "R-squared (Validation): 0.3089046710278085\n",
      "MAE (Train): 52.24061166569056\n",
      "MAE (Validation): 48.27163723876809\n",
      "MAPE (Train): 49.042242200247365\n",
      "MAPE (Validation): 42.518611003833975\n",
      "\n",
      "Degree 2:\n",
      "R-squared (Train): 0.3656771371056172\n",
      "R-squared (Validation): 0.3069803811250579\n",
      "MAE (Train): 52.19978607873814\n",
      "MAE (Validation): 48.27314514156851\n",
      "MAPE (Train): 49.006138633166444\n",
      "MAPE (Validation): 42.46213347617901\n",
      "\n",
      "Degree 3:\n",
      "R-squared (Train): 0.3651010985001547\n",
      "R-squared (Validation): 0.31645081499709327\n",
      "MAE (Train): 52.08482608801968\n",
      "MAE (Validation): 47.5484041907126\n",
      "MAPE (Train): 48.795437676536196\n",
      "MAPE (Validation): 41.95335963390816\n",
      "\n",
      "Degree 4:\n",
      "R-squared (Train): 0.3658750618678853\n",
      "R-squared (Validation): 0.3107969968946692\n",
      "MAE (Train): 52.059145690461264\n",
      "MAE (Validation): 47.517320422760264\n",
      "MAPE (Train): 48.70161007501761\n",
      "MAPE (Validation): 41.73969575832439\n",
      "\n",
      "Degree 5:\n",
      "R-squared (Train): 0.3681546850353642\n",
      "R-squared (Validation): 0.3276147207059322\n",
      "MAE (Train): 52.06585549591817\n",
      "MAE (Validation): 46.5057186256786\n",
      "MAPE (Train): 48.681555268765024\n",
      "MAPE (Validation): 40.91387682036611\n",
      "\n"
     ]
    }
   ],
   "source": [
    "# Function to calculate Mean Absolute Percentage Error (MAPE)\n",
    "def calculate_mape(y_true, y_pred):\n",
    "    return np.mean(np.abs((y_true - y_pred) / y_true)) * 100\n",
    "\n",
    "# Calculate metrics for each model\n",
    "metrics = {}\n",
    "\n",
    "# Loop through polynomial degrees from 0 to 5\n",
    "for degree, result in models.items():\n",
    "    model = result['model']\n",
    "    \n",
    "    # Predict on training data\n",
    "    X_train_poly = PolynomialFeatures(degree=degree).fit_transform(X_train_temp[:, np.newaxis, 2])\n",
    "    y_train_pred = model.predict(X_train_poly)\n",
    "    \n",
    "    # Predict on validation data\n",
    "    X_valid_poly = PolynomialFeatures(degree=degree).fit_transform(X_valid[:, np.newaxis, 2])\n",
    "    y_valid_pred = model.predict(X_valid_poly)\n",
    "    \n",
    "    # Calculate R-squared\n",
    "    r2_train = r2_score(y_train_temp, y_train_pred)\n",
    "    r2_valid = r2_score(y_valid, y_valid_pred)\n",
    "    \n",
    "    # Calculate MAE\n",
    "    mae_train = mean_absolute_error(y_train_temp, y_train_pred)\n",
    "    mae_valid = mean_absolute_error(y_valid, y_valid_pred)\n",
    "    \n",
    "    # Calculate MAPE\n",
    "    mape_train = calculate_mape(y_train_temp, y_train_pred)\n",
    "    mape_valid = calculate_mape(y_valid, y_valid_pred)\n",
    "    \n",
    "    # Store the metrics\n",
    "    metrics[degree] = {\n",
    "        'R-squared (Train)': r2_train,\n",
    "        'R-squared (Validation)': r2_valid,\n",
    "        'MAE (Train)': mae_train,\n",
    "        'MAE (Validation)': mae_valid,\n",
    "        'MAPE (Train)': mape_train,\n",
    "        'MAPE (Validation)': mape_valid\n",
    "    }\n",
    "\n",
    "# Display the metrics for each model\n",
    "print(\"Metrics for each model:\")\n",
    "for degree, result in metrics.items():\n",
    "    print(f\"Degree {degree}:\")\n",
    "    for metric, value in result.items():\n",
    "        print(f\"{metric}: {value}\")\n",
    "    print()"
   ]
  },
  {
   "cell_type": "markdown",
   "metadata": {},
   "source": [
    "## **ii. Conclusion: Choose the best model and explain your reasoning quantitively. Make it clear, and effective for a product manager to understand. This section includes the takeaway of the notebook.**  \n",
    "\n",
    "**A. Run the chosen model on the test set, and report R-Squared, MSE and MAE for it** "
   ]
  },
  {
   "cell_type": "markdown",
   "metadata": {},
   "source": [
    "\n",
    "The fifth-degree polynomial regression model emerges as the optimal choice for predicting disease progression based on BMI. It boasts the highest R-squared value, showcasing superior explanatory power, while achieving the lowest Mean Absolute Error (MAE) and Mean Absolute Percentage Error (MAPE). This suggests accurate predictions with minimal deviation from actual values. The model consistently outperforms others across all evaluation metrics on the validation set, showcasing robustness and reliability in capturing the BMI-disease progression relationship. Its balanced performance in both explanatory capability and predictive accuracy positions it as the most suitable option for practical deployment.\n",
    "\n",
    "1. With a validation set R-squared value of 0.3276147248067698, the fifth-degree polynomial model excels in explaining the variability in the target variable.\n",
    "\n",
    "2. The MAE for the degree 5 model is 46.505717908451146 on the validation set, indicating accurate predictions with minimal error compared to other models.\n",
    "\n",
    "3. The MAPE for degree 5 is 40.91387617467334, a relatively lower value among models on the validation set, signifying better predictive accuracy in terms of percentage difference."
   ]
  },
  {
   "cell_type": "code",
   "execution_count": 13,
   "metadata": {},
   "outputs": [
    {
     "name": "stdout",
     "output_type": "stream",
     "text": [
      "Performance on the test set:\n",
      "R-Squared: 0.26937642755382896\n",
      "Mean Squared Error: 4148.465019519117\n",
      "Mean Absolute Error: 52.5914707781693\n",
      "Mean Absolute Percentage Error: 45.84939016006086\n"
     ]
    }
   ],
   "source": [
    "# Extracting BMI feature from the test set\n",
    "X_test_poly = PolynomialFeatures(degree=5).fit_transform(X_test[:, np.newaxis, 2])\n",
    "\n",
    "# Predicting disease progression using the chosen model\n",
    "y_test_pred = models[5]['model'].predict(X_test_poly)\n",
    "\n",
    "# Calculating R-squared\n",
    "r2_test = r2_score(y_test, y_test_pred)\n",
    "\n",
    "# Calculating Mean Squared Error\n",
    "mse_test = mean_squared_error(y_test, y_test_pred)\n",
    "\n",
    "# Calculating Mean Absolute Error\n",
    "mae_test = mean_absolute_error(y_test, y_test_pred)\n",
    "\n",
    "# Calculating Mean Absolute Percentage Error\n",
    "mape_test = calculate_mape(y_test, y_test_pred)\n",
    "\n",
    "# Reporting the metrics\n",
    "print(\"Performance on the test set:\")\n",
    "print(f\"R-Squared: {r2_test}\")\n",
    "print(f\"Mean Squared Error: {mse_test}\")\n",
    "print(f\"Mean Absolute Error: {mae_test}\")\n",
    "print(f\"Mean Absolute Percentage Error: {mape_test}\")"
   ]
  },
  {
   "cell_type": "markdown",
   "metadata": {},
   "source": [
    "## **B. Plot a graph of the train, validation and test datapoints, and the fit of the chosen model over each of them** "
   ]
  },
  {
   "cell_type": "code",
   "execution_count": 113,
   "metadata": {},
   "outputs": [
    {
     "data": {
      "image/png": "[encoded data removed]",
      "text/plain": [
       "<Figure size 1000x800 with 1 Axes>"
      ]
     },
     "metadata": {},
     "output_type": "display_data"
    }
   ],
   "source": [
    "fig, ax = plt.subplots(figsize=(10, 8))\n",
    "\n",
    "# Plotting the train, validation, and test data points\n",
    "ax.scatter(X_train_temp[:, 2], y_train_temp, label='Train Data', color='blue')\n",
    "ax.scatter(X_valid[:, 2], y_valid, label='Validation Data', color='green')\n",
    "ax.scatter(X_test[:, 2], y_test, label='Test Data', color='orange')\n",
    "\n",
    "X_concat = np.concatenate((X_train_temp, X_valid, X_test))\n",
    "\n",
    "# Plotting the fit of the chosen model\n",
    "X_fit = np.linspace(X_concat.min(), X_concat.max(), 100).reshape(-1, 1)\n",
    "X_fit_poly = PolynomialFeatures(degree=5).fit_transform(X_fit)\n",
    "y_fit = models[5]['model'].predict(X_fit_poly)\n",
    "ax.plot(X_fit, y_fit, label='Degree 5 Model Fit', color='black')\n",
    "\n",
    "ax.set_xlabel('BMI')\n",
    "ax.set_ylabel('Disease Progression')\n",
    "ax.set_title('Polynomial Regression Fit for Model 5')\n",
    "ax.legend()\n",
    "plt.show()"
   ]
  },
  {
   "cell_type": "markdown",
   "metadata": {},
   "source": [
    "## **C. Write down the equation of the best model (with a two decimal digit precision, assuming it's sufficient). Manually calculate the expected diabetes progression for a BMI value of your choice, and compare it to model.perdict() for that value**"
   ]
  },
  {
   "cell_type": "code",
   "execution_count": 114,
   "metadata": {},
   "outputs": [
    {
     "name": "stdout",
     "output_type": "stream",
     "text": [
      "Equation of the best model (degree 5): \n",
      " y = 0.00 + 1020.80 * BMI + -4912.86 * BMI^2 + 674.46 * BMI^3 + 914675.81 * BMI^4 + -4761817.10 * BMI^5\n",
      "\n",
      "Manually calculated expected progression for BMI of 25.0 : -46144817366917.26\n",
      "Model prediction for the same BMI value: -46144817366762.55\n"
     ]
    }
   ],
   "source": [
    "coefficients = models[5]['model'].coef_\n",
    "\n",
    "# Writing down the equation of the best model\n",
    "equation = f\"y = {coefficients[0]:.2f} + {coefficients[1]:.2f} * BMI + {coefficients[2]:.2f} * BMI^2 + {coefficients[3]:.2f} * BMI^3 + {coefficients[4]:.2f} * BMI^4 + {coefficients[5]:.2f} * BMI^5\"\n",
    "print(\"Equation of the best model (degree 5): \\n\", equation)\n",
    "\n",
    "\n",
    "# Manually calculating the expected diabetes progression for a BMI value of your choice\n",
    "chosen_bmi = 25.0  # Choose a BMI value\n",
    "expected_progression_manual = coefficients[0] + coefficients[1] * chosen_bmi + coefficients[2] * chosen_bmi**2 + coefficients[3] * chosen_bmi**3 + coefficients[4] * chosen_bmi**4 + coefficients[5] * chosen_bmi**5\n",
    "print(\"\\nManually calculated expected progression for BMI of\", chosen_bmi, \":\", expected_progression_manual)\n",
    "\n",
    "# Comparing with model prediction for the same value\n",
    "X_chosen_bmi = np.array([[chosen_bmi]])\n",
    "X_chosen_bmi_poly = PolynomialFeatures(degree=5).fit_transform(X_chosen_bmi)\n",
    "expected_progression_model = models[5]['model'].predict(X_chosen_bmi_poly)[0]\n",
    "print(\"Model prediction for the same BMI value:\", expected_progression_model)"
   ]
  },
  {
   "cell_type": "markdown",
   "metadata": {},
   "source": [
    "## **iii. How many trainable parameters are we fitting for each of the six models? Explain these values. One way is to use sklearn function get_feature_names_out()**"
   ]
  },
  {
   "cell_type": "code",
   "execution_count": 115,
   "metadata": {},
   "outputs": [
    {
     "name": "stdout",
     "output_type": "stream",
     "text": [
      "Degree 0: ['1']\n",
      "Degree 1: ['1' 'x0']\n",
      "Degree 2: ['1' 'x0' 'x0^2']\n",
      "Degree 3: ['1' 'x0' 'x0^2' 'x0^3']\n",
      "Degree 4: ['1' 'x0' 'x0^2' 'x0^3' 'x0^4']\n",
      "Degree 5: ['1' 'x0' 'x0^2' 'x0^3' 'x0^4' 'x0^5']\n"
     ]
    }
   ],
   "source": [
    "degrees = [0, 1, 2, 3, 4, 5]\n",
    "\n",
    "for degree in degrees:\n",
    "    poly_features = PolynomialFeatures(degree=degree)\n",
    "    X_poly = poly_features.fit_transform(X_train_temp[:, np.newaxis, 2])\n",
    "    feature_names = poly_features.get_feature_names_out()\n",
    "    num_params = X_poly.shape[1]\n",
    "\n",
    "    print(f\"Degree {degree}: {feature_names}\")"
   ]
  },
  {
   "cell_type": "markdown",
   "metadata": {},
   "source": [
    "In polynomial regression models, the number of trainable parameters corresponds to the total number of coefficients that the model learns. Each term in the polynomial equation contributes to the number of parameters, and as the degree of the polynomial increases, more parameters are introduced.\n",
    "\n",
    "For example:\n",
    "\n",
    "A degree 0 model has 1 parameter (intercept term). <br>\n",
    "A degree 1 model has 2 parameters (intercept and linear coefficient). <br>\n",
    "A degree 2 model has 3 parameters (intercept, linear coefficient, and quadratic coefficient).\n",
    "\n",
    "Increasing the degree introduces more complexity and flexibility in capturing intricate patterns in the data. However, it also raises the risk of overfitting, where the model fits the training data too closely and may not generalize well to new, unseen data. Balancing model complexity with the risk of overfitting is crucial in selecting an appropriate degree for polynomial regression."
   ]
  },
  {
   "cell_type": "markdown",
   "metadata": {},
   "source": [
    "## **Conclusion**\n",
    "The project showcases the effectiveness of polynomial regression modeling in examining the correlation between BMI and disease progression in diabetes patients. The findings from this analysis contribute valuable insights into understanding diabetes progression, presenting potential avenues for enhanced diagnosis and treatment strategies.\n",
    "\n",
    "1. Modeling and Evaluation:\n",
    "\n",
    "The fifth-degree polynomial regression model demonstrated superior performance across various evaluation metrics on both the training and validation sets.\n",
    "\n",
    "A\n",
    "\n",
    "Degree 5: R-squared (Train): 0.36815468426778364 R-squared (Validation): 0.3276147248067698 MAE (Train): 52.06585524169334 MAE (Validation): 46.505717908451146 MAPE (Train): 48.68155494994758 MAPE (Validation): 40.91387617467334\n",
    "\n",
    "2. Model Interpretation:\n",
    "\n",
    "The equation for the optimal model (degree 5) was deduced, providing insights into the BMI-disease progression relationship. The count of trainable parameters for each model was computed, illustrating how model complexity increases with polynomial degree.\n",
    "\n",
    "Equation of the best model (degree 5): y = 0.00 1020.80 BMI +-4912.86 BMI^2+674.46 BMI^3+914675.81* BMI^4+-4761817.10* BMI^5\n",
    "\n",
    "Manually calculated expected progression for BMI of 25.0: -46144817366917.26 Model prediction for the same BMI value: -46144817366762.55\n",
    "\n",
    "• Consequently, the fifth-degree polynomial regression model was chosen as the most suitable for predicting disease progression based on BMI, striking a balance between model complexity and predictive performance.\n"
   ]
  }
 ],
 "metadata": {
  "kernelspec": {
   "display_name": "CSCN8010_classic_ml",
   "language": "python",
   "name": "python3"
  },
  "language_info": {
   "codemirror_mode": {
    "name": "ipython",
    "version": 3
   },
   "file_extension": ".py",
   "mimetype": "text/x-python",
   "name": "python",
   "nbconvert_exporter": "python",
   "pygments_lexer": "ipython3",
   "version": "3.11.7"
  }
 },
 "nbformat": 4,
 "nbformat_minor": 2
}
