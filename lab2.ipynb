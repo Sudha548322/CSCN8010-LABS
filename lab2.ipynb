{
 "cells": [
  {
   "cell_type": "markdown",
   "metadata": {},
   "source": [
    "# CSCN8010 LAB 2\n",
    "![The player of the decade ](download.webp)\n",
    "\n",
    "[AI and ML in cybersecurity ](https://www.kaspersky.com/resource-center/definitions/ai-cybersecurity)\n",
    "| Month  | Days |\n",
    "|--------| -----|\n",
    "| April  | 30   |\n",
    "| May    | 31   |"
   ]
  },
  {
   "cell_type": "markdown",
   "metadata": {},
   "source": [
    "graph using **Matplotlib**"
   ]
  },
  {
   "cell_type": "code",
   "execution_count": null,
   "metadata": {
    "vscode": {
     "languageId": "plaintext"
    }
   },
   "outputs": [],
   "source": []
  }
 ],
 "metadata": {
  "language_info": {
   "name": "python"
  }
 },
 "nbformat": 4,
 "nbformat_minor": 2
}
