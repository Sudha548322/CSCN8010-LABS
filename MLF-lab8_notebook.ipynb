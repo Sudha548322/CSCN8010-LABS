{
 "cells": [
  {
   "cell_type": "markdown",
   "id": "9a427278",
   "metadata": {},
   "source": [
    "# Fashion-MNIST Classification with Dense Neural Networks (using Tensorflow)\n",
    "\n",
    "### Student Name: Sudharsan\n",
    "### Student Number: 8977532"
   ]
  },
  {
   "cell_type": "markdown",
   "id": "15c5fc56",
   "metadata": {},
   "source": [
    "In this assignment we will use the Fashion MNIST Dataset from Kaggle from tensorflow and perform classification. The dimensions and organization of the original MNIST dataset, but instead of handwritten numbers, it includes pictures of clothing items. It has 10,000 test examples and 60,000 training examples, each of which is a 28 x 28 pixel grayscale image. Fashion-MNIST is a direct replacement for MNIST, providing a broad and difficult benchmark for assessing machine learning algorithms in the AI/ML/Data Science community. It has ten classes that represent various fashion items. Its adoption emphasizes how crucial it is to test algorithms on a variety of datasets, since performance on MNIST may not always translate to real-world tasks."
   ]
  },
  {
   "cell_type": "markdown",
   "id": "df015980",
   "metadata": {},
   "source": [
    "### Import the Required Libraries"
   ]
  },
  {
   "cell_type": "code",
   "execution_count": 1,
   "id": "f9c1e16a",
   "metadata": {},
   "outputs": [],
   "source": [
    "#import the required Libraries\n",
    "import numpy as np\n",
    "import pandas as pd\n",
    "from matplotlib import pyplot as plt\n",
    "from sklearn.model_selection import train_test_split"
   ]
  },
  {
   "cell_type": "markdown",
   "id": "f7ae83ca",
   "metadata": {},
   "source": [
    "### Load the Training and Testing Dataset\n",
    "\n",
    "   The dataset is provided as separate CSV files for both training and testing sets. We'll proceed by loading the data into pandas DataFrame objects, examining its structure, making inferences, and then converting it into numpy arrays for further analysis.\n"
   ]
  },
  {
   "cell_type": "code",
   "execution_count": 2,
   "id": "8b664a74",
   "metadata": {},
   "outputs": [],
   "source": [
    "fmnist_train_df = pd.read_csv(\"fashion-mnist_train.csv\")\n",
    "fmnist_test_df = pd.read_csv(\"fashion-mnist_test.csv\")"
   ]
  },
  {
   "cell_type": "code",
   "execution_count": 3,
   "id": "d30748b9",
   "metadata": {},
   "outputs": [
    {
     "data": {
      "text/html": [
       "<div>\n",
       "<style scoped>\n",
       "    .dataframe tbody tr th:only-of-type {\n",
       "        vertical-align: middle;\n",
       "    }\n",
       "\n",
       "    .dataframe tbody tr th {\n",
       "        vertical-align: top;\n",
       "    }\n",
       "\n",
       "    .dataframe thead th {\n",
       "        text-align: right;\n",
       "    }\n",
       "</style>\n",
       "<table border=\"1\" class=\"dataframe\">\n",
       "  <thead>\n",
       "    <tr style=\"text-align: right;\">\n",
       "      <th></th>\n",
       "      <th>label</th>\n",
       "      <th>pixel1</th>\n",
       "      <th>pixel2</th>\n",
       "      <th>pixel3</th>\n",
       "      <th>pixel4</th>\n",
       "      <th>pixel5</th>\n",
       "      <th>pixel6</th>\n",
       "      <th>pixel7</th>\n",
       "      <th>pixel8</th>\n",
       "      <th>pixel9</th>\n",
       "      <th>...</th>\n",
       "      <th>pixel775</th>\n",
       "      <th>pixel776</th>\n",
       "      <th>pixel777</th>\n",
       "      <th>pixel778</th>\n",
       "      <th>pixel779</th>\n",
       "      <th>pixel780</th>\n",
       "      <th>pixel781</th>\n",
       "      <th>pixel782</th>\n",
       "      <th>pixel783</th>\n",
       "      <th>pixel784</th>\n",
       "    </tr>\n",
       "  </thead>\n",
       "  <tbody>\n",
       "    <tr>\n",
       "      <th>0</th>\n",
       "      <td>2</td>\n",
       "      <td>0</td>\n",
       "      <td>0</td>\n",
       "      <td>0</td>\n",
       "      <td>0</td>\n",
       "      <td>0</td>\n",
       "      <td>0</td>\n",
       "      <td>0</td>\n",
       "      <td>0</td>\n",
       "      <td>0</td>\n",
       "      <td>...</td>\n",
       "      <td>0</td>\n",
       "      <td>0</td>\n",
       "      <td>0</td>\n",
       "      <td>0</td>\n",
       "      <td>0</td>\n",
       "      <td>0</td>\n",
       "      <td>0</td>\n",
       "      <td>0</td>\n",
       "      <td>0</td>\n",
       "      <td>0</td>\n",
       "    </tr>\n",
       "    <tr>\n",
       "      <th>1</th>\n",
       "      <td>9</td>\n",
       "      <td>0</td>\n",
       "      <td>0</td>\n",
       "      <td>0</td>\n",
       "      <td>0</td>\n",
       "      <td>0</td>\n",
       "      <td>0</td>\n",
       "      <td>0</td>\n",
       "      <td>0</td>\n",
       "      <td>0</td>\n",
       "      <td>...</td>\n",
       "      <td>0</td>\n",
       "      <td>0</td>\n",
       "      <td>0</td>\n",
       "      <td>0</td>\n",
       "      <td>0</td>\n",
       "      <td>0</td>\n",
       "      <td>0</td>\n",
       "      <td>0</td>\n",
       "      <td>0</td>\n",
       "      <td>0</td>\n",
       "    </tr>\n",
       "    <tr>\n",
       "      <th>2</th>\n",
       "      <td>6</td>\n",
       "      <td>0</td>\n",
       "      <td>0</td>\n",
       "      <td>0</td>\n",
       "      <td>0</td>\n",
       "      <td>0</td>\n",
       "      <td>0</td>\n",
       "      <td>0</td>\n",
       "      <td>5</td>\n",
       "      <td>0</td>\n",
       "      <td>...</td>\n",
       "      <td>0</td>\n",
       "      <td>0</td>\n",
       "      <td>0</td>\n",
       "      <td>30</td>\n",
       "      <td>43</td>\n",
       "      <td>0</td>\n",
       "      <td>0</td>\n",
       "      <td>0</td>\n",
       "      <td>0</td>\n",
       "      <td>0</td>\n",
       "    </tr>\n",
       "    <tr>\n",
       "      <th>3</th>\n",
       "      <td>0</td>\n",
       "      <td>0</td>\n",
       "      <td>0</td>\n",
       "      <td>0</td>\n",
       "      <td>1</td>\n",
       "      <td>2</td>\n",
       "      <td>0</td>\n",
       "      <td>0</td>\n",
       "      <td>0</td>\n",
       "      <td>0</td>\n",
       "      <td>...</td>\n",
       "      <td>3</td>\n",
       "      <td>0</td>\n",
       "      <td>0</td>\n",
       "      <td>0</td>\n",
       "      <td>0</td>\n",
       "      <td>1</td>\n",
       "      <td>0</td>\n",
       "      <td>0</td>\n",
       "      <td>0</td>\n",
       "      <td>0</td>\n",
       "    </tr>\n",
       "    <tr>\n",
       "      <th>4</th>\n",
       "      <td>3</td>\n",
       "      <td>0</td>\n",
       "      <td>0</td>\n",
       "      <td>0</td>\n",
       "      <td>0</td>\n",
       "      <td>0</td>\n",
       "      <td>0</td>\n",
       "      <td>0</td>\n",
       "      <td>0</td>\n",
       "      <td>0</td>\n",
       "      <td>...</td>\n",
       "      <td>0</td>\n",
       "      <td>0</td>\n",
       "      <td>0</td>\n",
       "      <td>0</td>\n",
       "      <td>0</td>\n",
       "      <td>0</td>\n",
       "      <td>0</td>\n",
       "      <td>0</td>\n",
       "      <td>0</td>\n",
       "      <td>0</td>\n",
       "    </tr>\n",
       "  </tbody>\n",
       "</table>\n",
       "<p>5 rows × 785 columns</p>\n",
       "</div>"
      ],
      "text/plain": [
       "   label  pixel1  pixel2  pixel3  pixel4  pixel5  pixel6  pixel7  pixel8   \n",
       "0      2       0       0       0       0       0       0       0       0  \\\n",
       "1      9       0       0       0       0       0       0       0       0   \n",
       "2      6       0       0       0       0       0       0       0       5   \n",
       "3      0       0       0       0       1       2       0       0       0   \n",
       "4      3       0       0       0       0       0       0       0       0   \n",
       "\n",
       "   pixel9  ...  pixel775  pixel776  pixel777  pixel778  pixel779  pixel780   \n",
       "0       0  ...         0         0         0         0         0         0  \\\n",
       "1       0  ...         0         0         0         0         0         0   \n",
       "2       0  ...         0         0         0        30        43         0   \n",
       "3       0  ...         3         0         0         0         0         1   \n",
       "4       0  ...         0         0         0         0         0         0   \n",
       "\n",
       "   pixel781  pixel782  pixel783  pixel784  \n",
       "0         0         0         0         0  \n",
       "1         0         0         0         0  \n",
       "2         0         0         0         0  \n",
       "3         0         0         0         0  \n",
       "4         0         0         0         0  \n",
       "\n",
       "[5 rows x 785 columns]"
      ]
     },
     "execution_count": 3,
     "metadata": {},
     "output_type": "execute_result"
    }
   ],
   "source": [
    "fmnist_train_df.head()"
   ]
  },
  {
   "cell_type": "code",
   "execution_count": 4,
   "id": "6a8bb2fb",
   "metadata": {},
   "outputs": [
    {
     "data": {
      "text/html": [
       "<div>\n",
       "<style scoped>\n",
       "    .dataframe tbody tr th:only-of-type {\n",
       "        vertical-align: middle;\n",
       "    }\n",
       "\n",
       "    .dataframe tbody tr th {\n",
       "        vertical-align: top;\n",
       "    }\n",
       "\n",
       "    .dataframe thead th {\n",
       "        text-align: right;\n",
       "    }\n",
       "</style>\n",
       "<table border=\"1\" class=\"dataframe\">\n",
       "  <thead>\n",
       "    <tr style=\"text-align: right;\">\n",
       "      <th></th>\n",
       "      <th>label</th>\n",
       "      <th>pixel1</th>\n",
       "      <th>pixel2</th>\n",
       "      <th>pixel3</th>\n",
       "      <th>pixel4</th>\n",
       "      <th>pixel5</th>\n",
       "      <th>pixel6</th>\n",
       "      <th>pixel7</th>\n",
       "      <th>pixel8</th>\n",
       "      <th>pixel9</th>\n",
       "      <th>...</th>\n",
       "      <th>pixel775</th>\n",
       "      <th>pixel776</th>\n",
       "      <th>pixel777</th>\n",
       "      <th>pixel778</th>\n",
       "      <th>pixel779</th>\n",
       "      <th>pixel780</th>\n",
       "      <th>pixel781</th>\n",
       "      <th>pixel782</th>\n",
       "      <th>pixel783</th>\n",
       "      <th>pixel784</th>\n",
       "    </tr>\n",
       "  </thead>\n",
       "  <tbody>\n",
       "    <tr>\n",
       "      <th>0</th>\n",
       "      <td>0</td>\n",
       "      <td>0</td>\n",
       "      <td>0</td>\n",
       "      <td>0</td>\n",
       "      <td>0</td>\n",
       "      <td>0</td>\n",
       "      <td>0</td>\n",
       "      <td>0</td>\n",
       "      <td>9</td>\n",
       "      <td>8</td>\n",
       "      <td>...</td>\n",
       "      <td>103</td>\n",
       "      <td>87</td>\n",
       "      <td>56</td>\n",
       "      <td>0</td>\n",
       "      <td>0</td>\n",
       "      <td>0</td>\n",
       "      <td>0</td>\n",
       "      <td>0</td>\n",
       "      <td>0</td>\n",
       "      <td>0</td>\n",
       "    </tr>\n",
       "    <tr>\n",
       "      <th>1</th>\n",
       "      <td>1</td>\n",
       "      <td>0</td>\n",
       "      <td>0</td>\n",
       "      <td>0</td>\n",
       "      <td>0</td>\n",
       "      <td>0</td>\n",
       "      <td>0</td>\n",
       "      <td>0</td>\n",
       "      <td>0</td>\n",
       "      <td>0</td>\n",
       "      <td>...</td>\n",
       "      <td>34</td>\n",
       "      <td>0</td>\n",
       "      <td>0</td>\n",
       "      <td>0</td>\n",
       "      <td>0</td>\n",
       "      <td>0</td>\n",
       "      <td>0</td>\n",
       "      <td>0</td>\n",
       "      <td>0</td>\n",
       "      <td>0</td>\n",
       "    </tr>\n",
       "    <tr>\n",
       "      <th>2</th>\n",
       "      <td>2</td>\n",
       "      <td>0</td>\n",
       "      <td>0</td>\n",
       "      <td>0</td>\n",
       "      <td>0</td>\n",
       "      <td>0</td>\n",
       "      <td>0</td>\n",
       "      <td>14</td>\n",
       "      <td>53</td>\n",
       "      <td>99</td>\n",
       "      <td>...</td>\n",
       "      <td>0</td>\n",
       "      <td>0</td>\n",
       "      <td>0</td>\n",
       "      <td>0</td>\n",
       "      <td>63</td>\n",
       "      <td>53</td>\n",
       "      <td>31</td>\n",
       "      <td>0</td>\n",
       "      <td>0</td>\n",
       "      <td>0</td>\n",
       "    </tr>\n",
       "    <tr>\n",
       "      <th>3</th>\n",
       "      <td>2</td>\n",
       "      <td>0</td>\n",
       "      <td>0</td>\n",
       "      <td>0</td>\n",
       "      <td>0</td>\n",
       "      <td>0</td>\n",
       "      <td>0</td>\n",
       "      <td>0</td>\n",
       "      <td>0</td>\n",
       "      <td>0</td>\n",
       "      <td>...</td>\n",
       "      <td>137</td>\n",
       "      <td>126</td>\n",
       "      <td>140</td>\n",
       "      <td>0</td>\n",
       "      <td>133</td>\n",
       "      <td>224</td>\n",
       "      <td>222</td>\n",
       "      <td>56</td>\n",
       "      <td>0</td>\n",
       "      <td>0</td>\n",
       "    </tr>\n",
       "    <tr>\n",
       "      <th>4</th>\n",
       "      <td>3</td>\n",
       "      <td>0</td>\n",
       "      <td>0</td>\n",
       "      <td>0</td>\n",
       "      <td>0</td>\n",
       "      <td>0</td>\n",
       "      <td>0</td>\n",
       "      <td>0</td>\n",
       "      <td>0</td>\n",
       "      <td>0</td>\n",
       "      <td>...</td>\n",
       "      <td>0</td>\n",
       "      <td>0</td>\n",
       "      <td>0</td>\n",
       "      <td>0</td>\n",
       "      <td>0</td>\n",
       "      <td>0</td>\n",
       "      <td>0</td>\n",
       "      <td>0</td>\n",
       "      <td>0</td>\n",
       "      <td>0</td>\n",
       "    </tr>\n",
       "  </tbody>\n",
       "</table>\n",
       "<p>5 rows × 785 columns</p>\n",
       "</div>"
      ],
      "text/plain": [
       "   label  pixel1  pixel2  pixel3  pixel4  pixel5  pixel6  pixel7  pixel8   \n",
       "0      0       0       0       0       0       0       0       0       9  \\\n",
       "1      1       0       0       0       0       0       0       0       0   \n",
       "2      2       0       0       0       0       0       0      14      53   \n",
       "3      2       0       0       0       0       0       0       0       0   \n",
       "4      3       0       0       0       0       0       0       0       0   \n",
       "\n",
       "   pixel9  ...  pixel775  pixel776  pixel777  pixel778  pixel779  pixel780   \n",
       "0       8  ...       103        87        56         0         0         0  \\\n",
       "1       0  ...        34         0         0         0         0         0   \n",
       "2      99  ...         0         0         0         0        63        53   \n",
       "3       0  ...       137       126       140         0       133       224   \n",
       "4       0  ...         0         0         0         0         0         0   \n",
       "\n",
       "   pixel781  pixel782  pixel783  pixel784  \n",
       "0         0         0         0         0  \n",
       "1         0         0         0         0  \n",
       "2        31         0         0         0  \n",
       "3       222        56         0         0  \n",
       "4         0         0         0         0  \n",
       "\n",
       "[5 rows x 785 columns]"
      ]
     },
     "execution_count": 4,
     "metadata": {},
     "output_type": "execute_result"
    }
   ],
   "source": [
    "fmnist_test_df.head()"
   ]
  },
  {
   "cell_type": "markdown",
   "id": "963cda6e",
   "metadata": {},
   "source": [
    "### 1. Load the data into a Numpy Arrays"
   ]
  },
  {
   "cell_type": "code",
   "execution_count": 13,
   "id": "0601a076",
   "metadata": {},
   "outputs": [],
   "source": [
    "# Convert data to NumPy arrays\n",
    "X_train_fmnist = fmnist_train_df.drop(\"label\", axis=1).values\n",
    "y_train_fmnist = fmnist_train_df[\"label\"].values\n",
    "X_test_fmnist = fmnist_test_df.drop(\"label\", axis=1).values\n",
    "y_test_fmnist = fmnist_test_df[\"label\"].values"
   ]
  },
  {
   "cell_type": "markdown",
   "id": "145d561e",
   "metadata": {},
   "source": [
    "### Split the dataset into Validation and testing part"
   ]
  },
  {
   "cell_type": "code",
   "execution_count": 14,
   "id": "19597615",
   "metadata": {},
   "outputs": [],
   "source": [
    "# Split the dataset into Validation and testing part\n",
    "X_vald_fmnist, X_test_fmnist, y_vald_fmnist, y_test_fmnist = train_test_split(X_test_fmnist, y_test_fmnist, test_size=0.5, random_state=42)"
   ]
  },
  {
   "cell_type": "markdown",
   "id": "b21262d0",
   "metadata": {},
   "source": [
    "### 2. Exploratory Data Analysis Process (EDA)"
   ]
  },
  {
   "cell_type": "code",
   "execution_count": 15,
   "id": "16506c01",
   "metadata": {},
   "outputs": [],
   "source": [
    "def plot_digit(image_data):\n",
    "    image = image_data.reshape(28, 28)\n",
    "    plt.imshow(image, cmap=\"binary\")\n",
    "    plt.axis(\"off\")"
   ]
  },
  {
   "cell_type": "code",
   "execution_count": 72,
   "id": "43f6e5bb",
   "metadata": {},
   "outputs": [
    {
     "data": {
      "image/png": "[encoded data removed]",
      "text/plain": [
       "<Figure size 640x480 with 1 Axes>"
      ]
     },
     "metadata": {},
     "output_type": "display_data"
    }
   ],
   "source": [
    "some_digit = X_train_fmnist[1]  # Assuming you want to use the first image in the dataset\n",
    "some_digit_image = some_digit.reshape(28, 28)  # Reshape the flattened image to its original dimensions\n",
    "plt.imshow(some_digit_image, cmap='viridis')  # Using the 'viridis' colormap\n",
    "plt.axis('off')\n",
    "plt.show()\n"
   ]
  },
  {
   "cell_type": "code",
   "execution_count": 42,
   "id": "0a0f81c3",
   "metadata": {},
   "outputs": [
    {
     "data": {
      "image/png": "[encoded data removed]",
      "text/plain": [
       "<Figure size 2000x200 with 10 Axes>"
      ]
     },
     "metadata": {},
     "output_type": "display_data"
    }
   ],
   "source": [
    "fig, ax = plt.subplots(1, 10, figsize=(20, 2))\n",
    "for val in range(0,10):\n",
    "    digit_indices = np.where(y_train_fmnist.astype('int8') == val)[0]\n",
    "    a_image = np.mean(X_train_fmnist[digit_indices], axis=0).reshape(28, 28)\n",
    "    ax[val].imshow(a_image, cmap='viridis')  # You can choose any colormap you prefer\n",
    "    ax[val].set_title(str(val))\n",
    "    ax[val].axis('off')\n",
    "plt.show()\n"
   ]
  },
  {
   "cell_type": "markdown",
   "id": "3ee98966",
   "metadata": {},
   "source": [
    "#### Comments: \n",
    "A variety of fashion images, such as pullovers, t-shirts, shoes, handbags, and pants, are displayed above. There are several entries in each category, each of which represents a variation of that particular fashion item.\n"
   ]
  },
  {
   "cell_type": "markdown",
   "id": "08b881b3",
   "metadata": {},
   "source": [
    "### 3. Define and Train a fully-connected feedforward neural network"
   ]
  },
  {
   "cell_type": "markdown",
   "id": "8e3d9bcb",
   "metadata": {},
   "source": [
    "#### Import the Neural Network Required Libraries:"
   ]
  },
  {
   "cell_type": "code",
   "execution_count": 44,
   "id": "9168350e",
   "metadata": {},
   "outputs": [],
   "source": [
    "import tensorflow as tf\n",
    "from tensorflow.keras import layers, models"
   ]
  },
  {
   "cell_type": "markdown",
   "id": "ef5ab7ec",
   "metadata": {},
   "source": [
    "#### Model Architecture"
   ]
  },
  {
   "cell_type": "code",
   "execution_count": 45,
   "id": "4faa937d",
   "metadata": {},
   "outputs": [],
   "source": [
    "# Define the model architecture with modified dense layer sizes\n",
    "model = models.Sequential([\n",
    "    layers.Dense(256, activation='relu', input_shape=(784,)),  \n",
    "    layers.Dense(128, activation='relu'),  \n",
    "    layers.Dense(20, activation='softmax') \n",
    "])\n"
   ]
  },
  {
   "cell_type": "markdown",
   "id": "38428798",
   "metadata": {},
   "source": [
    "#### Compile the model with RMSprop optimizer\n",
    "During neural network training, the RMSprop optimizer—short for Root Mean Square Propagation—is used to minimize the loss function. By dividing the learning rate by an exponentially decaying average of squared gradients, it modifies the learning rate for each parameter separately. This makes it possible to achieve better results and faster convergence, particularly when working with sparse datasets or non-stationary objectives. RMSprop helps to effectively train neural networks on challenging fashion image classification tasks by efficiently updating the model's parameters, which improves accuracy and convergence when applied to the Fashion-MNIST dataset.\n"
   ]
  },
  {
   "cell_type": "code",
   "execution_count": 56,
   "id": "4fbd6cb0",
   "metadata": {},
   "outputs": [],
   "source": [
    "# Compile the model with RMSprop optimizer\n",
    "model.compile(optimizer='rmsprop',\n",
    "              loss='sparse_categorical_crossentropy',\n",
    "              metrics=['accuracy'])\n"
   ]
  },
  {
   "cell_type": "markdown",
   "id": "a5811117",
   "metadata": {},
   "source": [
    "#### Train the Above model"
   ]
  },
  {
   "cell_type": "code",
   "execution_count": 57,
   "id": "6e5733fc",
   "metadata": {},
   "outputs": [
    {
     "name": "stdout",
     "output_type": "stream",
     "text": [
      "Epoch 1/10\n",
      "469/469 [==============================] - 26s 53ms/step - loss: 0.3827 - accuracy: 0.8708 - val_loss: 0.4279 - val_accuracy: 0.8702\n",
      "Epoch 2/10\n",
      "469/469 [==============================] - 20s 43ms/step - loss: 0.3695 - accuracy: 0.8746 - val_loss: 0.5504 - val_accuracy: 0.8476\n",
      "Epoch 3/10\n",
      "469/469 [==============================] - 21s 44ms/step - loss: 0.3706 - accuracy: 0.8750 - val_loss: 0.4899 - val_accuracy: 0.8586\n",
      "Epoch 4/10\n",
      "469/469 [==============================] - 20s 43ms/step - loss: 0.3645 - accuracy: 0.8777 - val_loss: 0.4375 - val_accuracy: 0.8680\n",
      "Epoch 5/10\n",
      "469/469 [==============================] - 20s 43ms/step - loss: 0.3583 - accuracy: 0.8784 - val_loss: 0.6295 - val_accuracy: 0.8440\n",
      "Epoch 6/10\n",
      "469/469 [==============================] - 22s 46ms/step - loss: 0.3603 - accuracy: 0.8801 - val_loss: 0.5252 - val_accuracy: 0.8700\n",
      "Epoch 7/10\n",
      "469/469 [==============================] - 22s 46ms/step - loss: 0.3559 - accuracy: 0.8829 - val_loss: 0.5362 - val_accuracy: 0.8590\n",
      "Epoch 8/10\n",
      "469/469 [==============================] - 24s 51ms/step - loss: 0.3551 - accuracy: 0.8829 - val_loss: 0.6647 - val_accuracy: 0.8614\n",
      "Epoch 9/10\n",
      "469/469 [==============================] - 24s 51ms/step - loss: 0.3516 - accuracy: 0.8813 - val_loss: 0.5005 - val_accuracy: 0.8730\n",
      "Epoch 10/10\n",
      "469/469 [==============================] - 23s 49ms/step - loss: 0.3504 - accuracy: 0.8833 - val_loss: 0.5339 - val_accuracy: 0.8760\n"
     ]
    }
   ],
   "source": [
    "# Train the model\n",
    "history = model.fit(X_train_fmnist, y_train_fmnist, epochs=10, batch_size=128, validation_data=(X_vald_fmnist, y_vald_fmnist))"
   ]
  },
  {
   "cell_type": "markdown",
   "id": "16ca12f8",
   "metadata": {},
   "source": [
    "#### Epochs Result comments :\n",
    "  Over the course of epochs, the model consistently improves its training accuracy; after ten epochs, it peaks at about 87.60%. Although the validation accuracy varies between 84 and 87%, it stays relatively near to the training accuracy, suggesting a slight overfitting. While fluctuations in validation loss indicate possible difficulties in generalizing to unseen data, a steady decrease in training loss indicates effective learning. Regularization, dropout, and architectural modifications are examples of additional optimization techniques that could improve the model's performance, especially in terms of improving generalization to the validation set.\n"
   ]
  },
  {
   "cell_type": "markdown",
   "id": "402c92e1",
   "metadata": {},
   "source": [
    "### 4. Evaluate the Model:"
   ]
  },
  {
   "cell_type": "code",
   "execution_count": 52,
   "id": "73ba00b8",
   "metadata": {},
   "outputs": [],
   "source": [
    "from sklearn.metrics import accuracy_score, precision_score, recall_score, f1_score"
   ]
  },
  {
   "cell_type": "code",
   "execution_count": 58,
   "id": "8d0c9167",
   "metadata": {},
   "outputs": [
    {
     "name": "stdout",
     "output_type": "stream",
     "text": [
      "157/157 [==============================] - 1s 9ms/step\n",
      "Accuracy: 0.876\n",
      "Precision: 0.87928024281085\n",
      "Recall: 0.876\n",
      "F1 Score: 0.876056195927007\n"
     ]
    }
   ],
   "source": [
    "# Predict on validation set\n",
    "y_val_pred = np.argmax(model.predict(X_vald_fmnist), axis=-1)\n",
    "\n",
    "# Calculate metrics\n",
    "accuracy = accuracy_score(y_vald_fmnist, y_val_pred)\n",
    "precision = precision_score(y_vald_fmnist, y_val_pred, average='weighted')\n",
    "recall = recall_score(y_vald_fmnist, y_val_pred, average='weighted')\n",
    "f1 = f1_score(y_vald_fmnist, y_val_pred, average='weighted')\n",
    "\n",
    "print(\"Accuracy:\", accuracy)\n",
    "print(\"Precision:\", precision)\n",
    "print(\"Recall:\", recall)\n",
    "print(\"F1 Score:\", f1)"
   ]
  },
  {
   "cell_type": "markdown",
   "id": "c54c6a4d",
   "metadata": {},
   "source": [
    "#### Result  comments:\n",
    "The model's accuracy of 87.6%, alongside precision, recall, and F1 score all hovering around 87%, underscores its robustness in accurately classifying fashion items.This metric measures the overall correctness of the model's predictions. These metrics collectively affirm the model's effectiveness in discerning various fashion categories, showcasing its reliability in real-world applications."
   ]
  },
  {
   "cell_type": "markdown",
   "id": "b184ea99",
   "metadata": {},
   "source": [
    "### 5. Run the Model on Test Set"
   ]
  },
  {
   "cell_type": "code",
   "execution_count": 59,
   "id": "a409282d",
   "metadata": {},
   "outputs": [
    {
     "name": "stdout",
     "output_type": "stream",
     "text": [
      "157/157 [==============================] - 2s 10ms/step - loss: 0.4707 - accuracy: 0.8740\n"
     ]
    }
   ],
   "source": [
    "# Run model on test set\n",
    "test_loss, test_accuracy = model.evaluate(X_test_fmnist, y_test_fmnist)"
   ]
  },
  {
   "cell_type": "markdown",
   "id": "9bde909e",
   "metadata": {},
   "source": [
    "The model's predictions and actual values diverge. Better performance is indicated by a lower loss, which shows that the model is successful in lowering prediction errors. In terms of overall prediction accuracy, the model's accuracy of 0.8740 indicates that it correctly classified approximately 87.7% of the test samples."
   ]
  },
  {
   "cell_type": "markdown",
   "id": "e6c4c1bf",
   "metadata": {},
   "source": [
    "### 6. Increase Precision:\n",
    "\n",
    "\n",
    "We're changing how we classify some instances labeled as '5' to improve how accurately we predict class '5'. By doing this, we hope to reduce incorrect predictions while being careful not to miss any instances. It's important to test different thresholds to find the right balance between getting things right and not missing anything important."
   ]
  },
  {
   "cell_type": "code",
   "execution_count": 60,
   "id": "19dde5bb",
   "metadata": {},
   "outputs": [
    {
     "name": "stdout",
     "output_type": "stream",
     "text": [
      "157/157 [==============================] - 1s 9ms/step\n"
     ]
    }
   ],
   "source": [
    "# Adjust threshold to increase precision for class '5'\n",
    "threshold = 0.5\n",
    "y_pred_proba = model.predict(X_test_fmnist)\n",
    "y_pred_adjusted = np.argmax(y_pred_proba, axis=-1)\n",
    "y_pred_adjusted[y_pred_proba[:, 5] < threshold] = 0  "
   ]
  },
  {
   "cell_type": "code",
   "execution_count": 61,
   "id": "af2ed972",
   "metadata": {},
   "outputs": [
    {
     "name": "stdout",
     "output_type": "stream",
     "text": [
      "Precision for class '5' after adjustment: 0.9867841409691629\n"
     ]
    }
   ],
   "source": [
    "# Calculate precision for class '5' after adjustment\n",
    "precision_class_5 = precision_score(y_test_fmnist, y_pred_adjusted, labels=[5], average='weighted')\n",
    "\n",
    "print(\"Precision for class '5' after adjustment:\", precision_class_5)"
   ]
  },
  {
   "cell_type": "markdown",
   "id": "0d9a6bfc",
   "metadata": {},
   "source": [
    "Following the modification, precision for a specific class increased substantially from 0.876 to 0.986, marking an impressive gain of approximately 12%. This enhancement underscores the model's improved ability to make accurate positive predictions for that class, signifying a notable advancement in its performance."
   ]
  },
  {
   "cell_type": "markdown",
   "id": "cc0f5f52",
   "metadata": {},
   "source": [
    "## 7. Increase Recall:"
   ]
  },
  {
   "cell_type": "code",
   "execution_count": 68,
   "id": "06c274aa",
   "metadata": {},
   "outputs": [
    {
     "name": "stdout",
     "output_type": "stream",
     "text": [
      "157/157 [==============================] - 1s 8ms/step\n"
     ]
    }
   ],
   "source": [
    "# Adjust decision threshold to increase recall for class '5'\n",
    "y_pred_proba = model.predict(X_test_fmnist)\n",
    "y_pred_adjusted = np.argmax(y_pred_proba, axis=-1)\n",
    "y_pred_adjusted[y_pred_proba[:, 5] > threshold] = 5  # Set instances with high confidence as '5'"
   ]
  },
  {
   "cell_type": "code",
   "execution_count": 69,
   "id": "84da2f25",
   "metadata": {},
   "outputs": [
    {
     "name": "stdout",
     "output_type": "stream",
     "text": [
      "Recall for class '5' after adjustment: 0.919917864476386\n"
     ]
    }
   ],
   "source": [
    "# Calculate recall for class '5' after adjustment\n",
    "recall_class_5 = recall_score(y_test_fmnist, y_pred_adjusted, labels=[5], average='weighted')\n",
    "\n",
    "print(\"Recall for class '5' after adjustment:\", recall_class_5)"
   ]
  },
  {
   "cell_type": "markdown",
   "id": "b0887519",
   "metadata": {},
   "source": [
    "After adjustment, the recall for class '5' significantly increased from 0.87 to 0.919. This indicates that the model now captures a higher proportion of true positive instances for class '5', reflecting improved performance. The adjustment likely focused on correctly identifying more instances of class '5', enhancing the model's ability to detect this specific category."
   ]
  }
 ],
 "metadata": {
  "kernelspec": {
   "display_name": "Python 3 (ipykernel)",
   "language": "python",
   "name": "python3"
  },
  "language_info": {
   "codemirror_mode": {
    "name": "ipython",
    "version": 3
   },
   "file_extension": ".py",
   "mimetype": "text/x-python",
   "name": "python",
   "nbconvert_exporter": "python",
   "pygments_lexer": "ipython3",
   "version": "3.10.11"
  }
 },
 "nbformat": 4,
 "nbformat_minor": 5
}
