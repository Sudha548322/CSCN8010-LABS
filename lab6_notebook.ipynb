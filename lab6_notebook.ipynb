{
 "cells": [
  {
   "cell_type": "markdown",
   "id": "8927e577",
   "metadata": {},
   "source": [
    "## CSCN8010-Lab6 - Logistic Regression"
   ]
  },
  {
   "cell_type": "markdown",
   "id": "86bdbc96",
   "metadata": {},
   "source": [
    "### NAME : Sudharsan Tirumal\n",
    "### Student No : 8977532 \n",
    "\n",
    "I load the IRIS dataset for evaluating accuracy and the confusion matrix. I used the SciKit-Learn (sklearn logistic regression model). In the Iris dataset, there are four types of features, and I used only two labels of data, such as \"Virginica and Non-Virginica.\". Using those features, we will see the demonstration and evaluated results using the logistic regression model. "
   ]
  },
  {
   "cell_type": "markdown",
   "id": "3354e2d1",
   "metadata": {},
   "source": [
    "## Import the required libraries"
   ]
  },
  {
   "cell_type": "code",
   "execution_count": 2,
   "id": "070e03a8",
   "metadata": {},
   "outputs": [],
   "source": [
    "import numpy as np\n",
    "import pandas as pd\n",
    "from sklearn.datasets import load_iris\n",
    "from sklearn.model_selection import train_test_split\n",
    "import seaborn as sns\n",
    "import matplotlib.pyplot as plt\n",
    "from sklearn.linear_model import LogisticRegression\n",
    "from sklearn.metrics import accuracy_score\n",
    "import plotly.graph_objs as go"
   ]
  },
  {
   "cell_type": "markdown",
   "id": "d27eaa50",
   "metadata": {},
   "source": [
    "## Load the Iris Dataset"
   ]
  },
  {
   "cell_type": "code",
   "execution_count": 3,
   "id": "d8139907",
   "metadata": {},
   "outputs": [
    {
     "data": {
      "text/html": [
       "<div>\n",
       "<style scoped>\n",
       "    .dataframe tbody tr th:only-of-type {\n",
       "        vertical-align: middle;\n",
       "    }\n",
       "\n",
       "    .dataframe tbody tr th {\n",
       "        vertical-align: top;\n",
       "    }\n",
       "\n",
       "    .dataframe thead th {\n",
       "        text-align: right;\n",
       "    }\n",
       "</style>\n",
       "<table border=\"1\" class=\"dataframe\">\n",
       "  <thead>\n",
       "    <tr style=\"text-align: right;\">\n",
       "      <th></th>\n",
       "      <th>sepal length (cm)</th>\n",
       "      <th>sepal width (cm)</th>\n",
       "      <th>petal length (cm)</th>\n",
       "      <th>petal width (cm)</th>\n",
       "      <th>target_species</th>\n",
       "    </tr>\n",
       "  </thead>\n",
       "  <tbody>\n",
       "    <tr>\n",
       "      <th>0</th>\n",
       "      <td>5.1</td>\n",
       "      <td>3.5</td>\n",
       "      <td>1.4</td>\n",
       "      <td>0.2</td>\n",
       "      <td>0</td>\n",
       "    </tr>\n",
       "    <tr>\n",
       "      <th>1</th>\n",
       "      <td>4.9</td>\n",
       "      <td>3.0</td>\n",
       "      <td>1.4</td>\n",
       "      <td>0.2</td>\n",
       "      <td>0</td>\n",
       "    </tr>\n",
       "    <tr>\n",
       "      <th>2</th>\n",
       "      <td>4.7</td>\n",
       "      <td>3.2</td>\n",
       "      <td>1.3</td>\n",
       "      <td>0.2</td>\n",
       "      <td>0</td>\n",
       "    </tr>\n",
       "    <tr>\n",
       "      <th>3</th>\n",
       "      <td>4.6</td>\n",
       "      <td>3.1</td>\n",
       "      <td>1.5</td>\n",
       "      <td>0.2</td>\n",
       "      <td>0</td>\n",
       "    </tr>\n",
       "    <tr>\n",
       "      <th>4</th>\n",
       "      <td>5.0</td>\n",
       "      <td>3.6</td>\n",
       "      <td>1.4</td>\n",
       "      <td>0.2</td>\n",
       "      <td>0</td>\n",
       "    </tr>\n",
       "    <tr>\n",
       "      <th>...</th>\n",
       "      <td>...</td>\n",
       "      <td>...</td>\n",
       "      <td>...</td>\n",
       "      <td>...</td>\n",
       "      <td>...</td>\n",
       "    </tr>\n",
       "    <tr>\n",
       "      <th>145</th>\n",
       "      <td>6.7</td>\n",
       "      <td>3.0</td>\n",
       "      <td>5.2</td>\n",
       "      <td>2.3</td>\n",
       "      <td>1</td>\n",
       "    </tr>\n",
       "    <tr>\n",
       "      <th>146</th>\n",
       "      <td>6.3</td>\n",
       "      <td>2.5</td>\n",
       "      <td>5.0</td>\n",
       "      <td>1.9</td>\n",
       "      <td>1</td>\n",
       "    </tr>\n",
       "    <tr>\n",
       "      <th>147</th>\n",
       "      <td>6.5</td>\n",
       "      <td>3.0</td>\n",
       "      <td>5.2</td>\n",
       "      <td>2.0</td>\n",
       "      <td>1</td>\n",
       "    </tr>\n",
       "    <tr>\n",
       "      <th>148</th>\n",
       "      <td>6.2</td>\n",
       "      <td>3.4</td>\n",
       "      <td>5.4</td>\n",
       "      <td>2.3</td>\n",
       "      <td>1</td>\n",
       "    </tr>\n",
       "    <tr>\n",
       "      <th>149</th>\n",
       "      <td>5.9</td>\n",
       "      <td>3.0</td>\n",
       "      <td>5.1</td>\n",
       "      <td>1.8</td>\n",
       "      <td>1</td>\n",
       "    </tr>\n",
       "  </tbody>\n",
       "</table>\n",
       "<p>150 rows × 5 columns</p>\n",
       "</div>"
      ],
      "text/plain": [
       "     sepal length (cm)  sepal width (cm)  petal length (cm)  petal width (cm)   \n",
       "0                  5.1               3.5                1.4               0.2  \\\n",
       "1                  4.9               3.0                1.4               0.2   \n",
       "2                  4.7               3.2                1.3               0.2   \n",
       "3                  4.6               3.1                1.5               0.2   \n",
       "4                  5.0               3.6                1.4               0.2   \n",
       "..                 ...               ...                ...               ...   \n",
       "145                6.7               3.0                5.2               2.3   \n",
       "146                6.3               2.5                5.0               1.9   \n",
       "147                6.5               3.0                5.2               2.0   \n",
       "148                6.2               3.4                5.4               2.3   \n",
       "149                5.9               3.0                5.1               1.8   \n",
       "\n",
       "     target_species  \n",
       "0                 0  \n",
       "1                 0  \n",
       "2                 0  \n",
       "3                 0  \n",
       "4                 0  \n",
       "..              ...  \n",
       "145               1  \n",
       "146               1  \n",
       "147               1  \n",
       "148               1  \n",
       "149               1  \n",
       "\n",
       "[150 rows x 5 columns]"
      ]
     },
     "execution_count": 3,
     "metadata": {},
     "output_type": "execute_result"
    }
   ],
   "source": [
    "#load the Iris datasets\n",
    "iris = load_iris()\n",
    "data = iris.data\n",
    "target = iris.target\n",
    "\n",
    "#Make a three class virginica and non virginica class)\n",
    "\n",
    "bin_data = np.where(target == 2, 1, 0)\n",
    "\n",
    "# Convert to DataFrame for visualization\n",
    "iris_df_data = pd.DataFrame(data, columns=iris.feature_names)\n",
    "\n",
    "# Add species class \n",
    "iris_df_data['target_species'] = bin_data\n",
    "iris_df_data.head(150)"
   ]
  },
  {
   "cell_type": "markdown",
   "id": "86304cb2",
   "metadata": {},
   "source": [
    "#### Descriptive statistics for Virginica and Non Vigrnica classes\n",
    "\n",
    "According to the descriptive data, sepals on Virginica flowers are often longer than those on Non-Virginica blooms, but they are also typically narrower. On the other hand, based on average measures, Virginica flowers have petals that are both wider and longer than those of Non-Virginica flowers."
   ]
  },
  {
   "cell_type": "code",
   "execution_count": 4,
   "id": "28bf1e93",
   "metadata": {},
   "outputs": [
    {
     "name": "stdout",
     "output_type": "stream",
     "text": [
      "    target_species level_1  sepal length (cm)  sepal width (cm)   \n",
      "0                0   count         100.000000        100.000000  \\\n",
      "1                0    mean           5.471000          3.099000   \n",
      "2                0     std           0.641698          0.478739   \n",
      "3                0     min           4.300000          2.000000   \n",
      "4                0     25%           5.000000          2.800000   \n",
      "5                0     50%           5.400000          3.050000   \n",
      "6                0     75%           5.900000          3.400000   \n",
      "7                0     max           7.000000          4.400000   \n",
      "8                1   count          50.000000         50.000000   \n",
      "9                1    mean           6.588000          2.974000   \n",
      "10               1     std           0.635880          0.322497   \n",
      "11               1     min           4.900000          2.200000   \n",
      "12               1     25%           6.225000          2.800000   \n",
      "13               1     50%           6.500000          3.000000   \n",
      "14               1     75%           6.900000          3.175000   \n",
      "15               1     max           7.900000          3.800000   \n",
      "\n",
      "    petal length (cm)  petal width (cm)  \n",
      "0          100.000000        100.000000  \n",
      "1            2.861000          0.786000  \n",
      "2            1.449549          0.565153  \n",
      "3            1.000000          0.100000  \n",
      "4            1.500000          0.200000  \n",
      "5            2.450000          0.800000  \n",
      "6            4.325000          1.300000  \n",
      "7            5.100000          1.800000  \n",
      "8           50.000000         50.000000  \n",
      "9            5.552000          2.026000  \n",
      "10           0.551895          0.274650  \n",
      "11           4.500000          1.400000  \n",
      "12           5.100000          1.800000  \n",
      "13           5.550000          2.000000  \n",
      "14           5.875000          2.300000  \n",
      "15           6.900000          2.500000  \n"
     ]
    }
   ],
   "source": [
    "iris_data_des_stat = iris_df_data.groupby('target_species').describe()\n",
    "iris_data_des_stat = iris_data_des_stat.stack()\n",
    "\n",
    "iris_data_des_stat = iris_data_des_stat.reset_index()\n",
    "\n",
    "print(iris_data_des_stat)"
   ]
  },
  {
   "cell_type": "markdown",
   "id": "788cedc2",
   "metadata": {},
   "source": [
    "### Histograms for the two classes"
   ]
  },
  {
   "cell_type": "code",
   "execution_count": 5,
   "id": "a86fa145",
   "metadata": {},
   "outputs": [
    {
     "data": {
      "image/png": "[encoded data removed]",
      "text/plain": [
       "<Figure size 800x600 with 1 Axes>"
      ]
     },
     "metadata": {},
     "output_type": "display_data"
    },
    {
     "data": {
      "image/png": "[encoded data removed]",
      "text/plain": [
       "<Figure size 800x600 with 1 Axes>"
      ]
     },
     "metadata": {},
     "output_type": "display_data"
    },
    {
     "data": {
      "image/png": "[encoded data removed]",
      "text/plain": [
       "<Figure size 800x600 with 1 Axes>"
      ]
     },
     "metadata": {},
     "output_type": "display_data"
    },
    {
     "data": {
      "image/png": "[encoded data removed]",
      "text/plain": [
       "<Figure size 800x600 with 1 Axes>"
      ]
     },
     "metadata": {},
     "output_type": "display_data"
    }
   ],
   "source": [
    "# Set style\n",
    "sns.set(style=\"whitegrid\")\n",
    "\n",
    "# Define feature names\n",
    "features = iris['feature_names']\n",
    "\n",
    "# Plot histograms for each feature for virginica and non-virginica classes separately\n",
    "for feature in features:\n",
    "    plt.figure(figsize=(8, 6))\n",
    "    sns.histplot(data=iris_df_data, x=feature, hue='target_species', element=\"step\", kde=True, palette=\"husl\", stat=\"density\", legend=True)\n",
    "    plt.title(f'Histogram graph of  {feature} by Class')\n",
    "    plt.xlabel(feature)\n",
    "    plt.ylabel('Density value')\n",
    "    plt.legend(title='target_species', labels=['Virginica', 'Non-Virginica'])\n",
    "    plt.show()"
   ]
  },
  {
   "cell_type": "markdown",
   "id": "7e35b042",
   "metadata": {},
   "source": [
    "### Correlation Matrix  for the four features (Sepla length, Sepal Width,Petal length, Petal Width)"
   ]
  },
  {
   "cell_type": "code",
   "execution_count": 6,
   "id": "d687b876",
   "metadata": {
    "scrolled": true
   },
   "outputs": [
    {
     "name": "stdout",
     "output_type": "stream",
     "text": [
      "correlation Matrix for the four features\n",
      "                   sepal length (cm)  sepal width (cm)  petal length (cm)   \n",
      "sepal length (cm)           1.000000         -0.117570           0.871754  \\\n",
      "sepal width (cm)           -0.117570          1.000000          -0.428440   \n",
      "petal length (cm)           0.871754         -0.428440           1.000000   \n",
      "petal width (cm)            0.817941         -0.366126           0.962865   \n",
      "\n",
      "                   petal width (cm)  \n",
      "sepal length (cm)          0.817941  \n",
      "sepal width (cm)          -0.366126  \n",
      "petal length (cm)          0.962865  \n",
      "petal width (cm)           1.000000  \n"
     ]
    },
    {
     "data": {
      "image/png": "[encoded data removed]",
      "text/plain": [
       "<Figure size 800x600 with 2 Axes>"
      ]
     },
     "metadata": {},
     "output_type": "display_data"
    }
   ],
   "source": [
    "#correlation matrix for four features\n",
    "\n",
    "iris_corr_matrix =  iris_df_data[features].corr()\n",
    "\n",
    "print(\"correlation Matrix for the four features\")\n",
    "print(iris_corr_matrix)\n",
    "\n",
    "#plot\n",
    "\n",
    "plt.figure(figsize=(8,6))\n",
    "sns.heatmap(iris_corr_matrix, annot = True, cmap=\"coolwarm\", fmt=\".2f\", linewidths=.5)\n",
    "plt.title('Correlation matric for  four fearures')\n",
    "plt.show()"
   ]
  },
  {
   "cell_type": "markdown",
   "id": "64051cf2",
   "metadata": {},
   "source": [
    "Only three features sepal length (cm), petal length (cm), and petal width (cm) have positive correlations in the correlation maxtrix above. Only one feature sepal width (cm) has negative correlations. As a result, for the virginica spciecis flower, there is a stronger link between the petal breadth and petal length. The virginica's size after being in bigger.\n"
   ]
  },
  {
   "cell_type": "markdown",
   "id": "e82b736e",
   "metadata": {},
   "source": [
    "### Data Visualization graph\n",
    "\n",
    "#### Scatter plot for the sepal length vs sepal width abd petal length vs petal width"
   ]
  },
  {
   "cell_type": "code",
   "execution_count": 7,
   "id": "f595051e",
   "metadata": {},
   "outputs": [
    {
     "data": {
      "image/png": "[encoded data removed]",
      "text/plain": [
       "<Figure size 640x480 with 1 Axes>"
      ]
     },
     "metadata": {},
     "output_type": "display_data"
    },
    {
     "data": {
      "image/png": "[encoded data removed]",
      "text/plain": [
       "<Figure size 640x480 with 1 Axes>"
      ]
     },
     "metadata": {},
     "output_type": "display_data"
    }
   ],
   "source": [
    "# Scatter plot of Sepal Length vs Sepal Width with custom color\n",
    "iris_df_data.plot(kind=\"scatter\", x=\"sepal length (cm)\", y=\"sepal width (cm)\", color=\"blue\")\n",
    "plt.title(\"Scatter Plot of Sepal Length vs Sepal Width\")\n",
    "plt.xlabel(\"Sepal Length (cm)\")\n",
    "plt.ylabel(\"Sepal Width (cm)\")\n",
    "plt.show()\n",
    "\n",
    "# Scatter plot of Petal Length vs Petal Width with custom color\n",
    "iris_df_data.plot(kind=\"scatter\", x=\"petal length (cm)\", y=\"petal width (cm)\", color=\"green\")\n",
    "plt.title(\"Scatter Plot of Petal Length vs Petal Width\")\n",
    "plt.xlabel(\"Petal Length (cm)\")\n",
    "plt.ylabel(\"Petal Width (cm)\")\n",
    "plt.show()\n"
   ]
  },
  {
   "cell_type": "markdown",
   "id": "e1c3ccee",
   "metadata": {},
   "source": [
    "### Box plot for four Features "
   ]
  },
  {
   "cell_type": "code",
   "execution_count": 8,
   "id": "f3e4ec82",
   "metadata": {},
   "outputs": [
    {
     "data": {
      "image/png": "[encoded data removed]",
      "text/plain": [
       "<Figure size 800x600 with 1 Axes>"
      ]
     },
     "metadata": {},
     "output_type": "display_data"
    }
   ],
   "source": [
    "#insight2\n",
    "plt.figure(figsize=(8, 6))\n",
    "sns.boxplot(data=iris_df_data.drop('target_species', axis=1))\n",
    "plt.title('Box Plot of four Features')\n",
    "plt.show()"
   ]
  },
  {
   "cell_type": "markdown",
   "id": "bc00677b",
   "metadata": {},
   "source": [
    "### Pair plot for the four features"
   ]
  },
  {
   "cell_type": "code",
   "execution_count": 9,
   "id": "1ca15ca4",
   "metadata": {},
   "outputs": [
    {
     "data": {
      "image/png": "[encoded data removed]",
      "text/plain": [
       "<Figure size 1250x1250 with 30 Axes>"
      ]
     },
     "metadata": {},
     "output_type": "display_data"
    }
   ],
   "source": [
    "#insight - 3\n",
    "sns.pairplot(data=iris_df_data)\n",
    "plt.show()"
   ]
  },
  {
   "cell_type": "markdown",
   "id": "a9c703e9",
   "metadata": {},
   "source": [
    "### Split the dataset into Training set and validation set and testing set\n",
    "\n",
    "Divide the collection into three groups. The dataset has 130 records in its shape, 120 records in the training set, and 15 records in each of the validation and testing sets for the evaluation."
   ]
  },
  {
   "cell_type": "code",
   "execution_count": 10,
   "id": "8fba0f8c",
   "metadata": {},
   "outputs": [],
   "source": [
    "iris_df_train_val, iris_df_test, iris_target_train_val, iris_target_test_val = train_test_split(data, bin_data, test_size=15, random_state=42)\n",
    "iris_data_train, iris_data_val, iris_target_train, iris_target_val = train_test_split(iris_df_train_val,iris_target_train_val, test_size=15, random_state=42)"
   ]
  },
  {
   "cell_type": "markdown",
   "id": "0391a167",
   "metadata": {},
   "source": [
    "### Model Training for the 1,2,3 and 4 features using Logistic Regression model"
   ]
  },
  {
   "cell_type": "code",
   "execution_count": 12,
   "id": "85a54fc9",
   "metadata": {},
   "outputs": [],
   "source": [
    "# Logistic Regression Models\n",
    "models = []\n",
    "# Define sets of features for each model\n",
    "features_sets = [\n",
    "    [0],              # Model with 1 feature\n",
    "    [0, 1],           # Model with 2 features\n",
    "    [0, 1, 2],        # Model with 3 features\n",
    "    [0, 1, 2, 3]      # Model with 4 features\n",
    "]\n",
    "\n",
    "for features in features_sets:\n",
    "    iris_train_subset = iris_data_train[:, features]\n",
    "    iris_val_subset = iris_data_val[:, features]\n",
    "    model = LogisticRegression()\n",
    "    model.fit(iris_train_subset, iris_target_train)\n",
    "    models.append((model, features))\n",
    "    "
   ]
  },
  {
   "cell_type": "markdown",
   "id": "cb140312",
   "metadata": {},
   "source": [
    "### Model Evaluation\n",
    "\n",
    "We will evaluate the probability of virginica, predicted and ground truth for each feature (0,1,2,3) based on the validation set of 15 records, and determine the accuracy for those characteristics."
   ]
  },
  {
   "cell_type": "code",
   "execution_count": 13,
   "id": "31f3383f",
   "metadata": {},
   "outputs": [
    {
     "name": "stdout",
     "output_type": "stream",
     "text": [
      "Model with features: [0]\n",
      "    Probability of Virginica  Predicted  Ground Truth\n",
      "0                   0.576720          1             1\n",
      "1                   0.064688          0             0\n",
      "2                   0.418391          0             0\n",
      "3                   0.018915          0             0\n",
      "4                   0.064688          0             0\n",
      "5                   0.167034          0             0\n",
      "6                   0.761502          1             1\n",
      "7                   0.198786          0             0\n",
      "8                   0.524087          1             0\n",
      "9                   0.319692          0             1\n",
      "10                  0.064688          0             0\n",
      "11                  0.275261          0             0\n",
      "12                  0.720719          1             0\n",
      "13                  0.797999          1             1\n",
      "14                  0.052939          0             0\n",
      "Accuracy: 0.8\n",
      "\n",
      "Model with features: [0, 1]\n",
      "    Probability of Virginica  Predicted  Ground Truth\n",
      "0                   0.527268          1             1\n",
      "1                   0.054036          0             0\n",
      "2                   0.413153          0             0\n",
      "3                   0.015733          0             0\n",
      "4                   0.041985          0             0\n",
      "5                   0.267725          0             0\n",
      "6                   0.722770          1             1\n",
      "7                   0.195875          0             0\n",
      "8                   0.666397          1             0\n",
      "9                   0.315295          0             1\n",
      "10                  0.141545          0             0\n",
      "11                  0.326790          0             0\n",
      "12                  0.697266          1             0\n",
      "13                  0.778828          1             1\n",
      "14                  0.052245          0             0\n",
      "Accuracy: 0.8\n",
      "\n",
      "Model with features: [0, 1, 2]\n",
      "    Probability of Virginica  Predicted  Ground Truth\n",
      "0                   0.779572          1             1\n",
      "1                   0.000005          0             0\n",
      "2                   0.290399          0             0\n",
      "3                   0.000009          0             0\n",
      "4                   0.000006          0             0\n",
      "5                   0.090373          0             0\n",
      "6                   0.959330          1             1\n",
      "7                   0.082049          0             0\n",
      "8                   0.225165          0             0\n",
      "9                   0.706750          1             1\n",
      "10                  0.025216          0             0\n",
      "11                  0.090214          0             0\n",
      "12                  0.304164          0             0\n",
      "13                  0.814903          1             1\n",
      "14                  0.000012          0             0\n",
      "Accuracy: 1.0\n",
      "\n",
      "Model with features: [0, 1, 2, 3]\n",
      "    Probability of Virginica  Predicted  Ground Truth\n",
      "0                   0.901372          1             1\n",
      "1                   0.000003          0             0\n",
      "2                   0.212009          0             0\n",
      "3                   0.000004          0             0\n",
      "4                   0.000003          0             0\n",
      "5                   0.079641          0             0\n",
      "6                   0.976464          1             1\n",
      "7                   0.061013          0             0\n",
      "8                   0.169502          0             0\n",
      "9                   0.716479          1             1\n",
      "10                  0.017029          0             0\n",
      "11                  0.039739          0             0\n",
      "12                  0.253573          0             0\n",
      "13                  0.881182          1             1\n",
      "14                  0.000005          0             0\n",
      "Accuracy: 1.0\n",
      "\n"
     ]
    }
   ],
   "source": [
    "# Evaluation on Validation Set\n",
    "iris_failure_indices = []\n",
    "for model, features in models:\n",
    "    iris_target_pred = model.predict(iris_data_val[:, features])\n",
    "    iris_target_pred_proba = model.predict_proba(iris_data_val[:, features])[:, 1]\n",
    "    validation_results = pd.DataFrame({\n",
    "        'Probability of Virginica': iris_target_pred_proba,\n",
    "        'Predicted': iris_target_pred,\n",
    "        'Ground Truth': iris_target_val\n",
    "    })\n",
    "    print(f\"Model with features: {features}\")\n",
    "    print(validation_results)\n",
    "    # Here, we can summarize the validation results using a single measure like accuracy.\n",
    "    accuracy = accuracy_score(iris_target_val, iris_target_pred)\n",
    "    print(f\"Accuracy: {accuracy}\\n\")\n",
    "    iris_failure_indices.append([i for i, (true, pred) in enumerate(zip(iris_target_val, iris_target_pred)) if true != pred])\n",
    "    \n"
   ]
  },
  {
   "cell_type": "markdown",
   "id": "556efe81",
   "metadata": {},
   "source": [
    "### Plotting the Decision Boundary for model (Logistic regression) for 1,2 and 3 Features"
   ]
  },
  {
   "cell_type": "code",
   "execution_count": 14,
   "id": "4a268cd1",
   "metadata": {},
   "outputs": [
    {
     "data": {
      "application/vnd.plotly.v1+json": {
       "config": {
        "plotlyServerURL": "https://plot.ly"
       },
       "data": [
        {
         "line": {
          "color": "green",
          "width": 2
         },
         "mode": "markers",
         "name": "Decision Boundary",
         "type": "scatter",
         "x": [
          6.25471120201549
         ],
         "y": [
          0
         ]
        }
       ],
       "layout": {
        "template": {
         "data": {
          "bar": [
           {
            "error_x": {
             "color": "#2a3f5f"
            },
            "error_y": {
             "color": "#2a3f5f"
            },
            "marker": {
             "line": {
              "color": "#E5ECF6",
              "width": 0.5
             },
             "pattern": {
              "fillmode": "overlay",
              "size": 10,
              "solidity": 0.2
             }
            },
            "type": "bar"
           }
          ],
          "barpolar": [
           {
            "marker": {
             "line": {
              "color": "#E5ECF6",
              "width": 0.5
             },
             "pattern": {
              "fillmode": "overlay",
              "size": 10,
              "solidity": 0.2
             }
            },
            "type": "barpolar"
           }
          ],
          "carpet": [
           {
            "aaxis": {
             "endlinecolor": "#2a3f5f",
             "gridcolor": "white",
             "linecolor": "white",
             "minorgridcolor": "white",
             "startlinecolor": "#2a3f5f"
            },
            "baxis": {
             "endlinecolor": "#2a3f5f",
             "gridcolor": "white",
             "linecolor": "white",
             "minorgridcolor": "white",
             "startlinecolor": "#2a3f5f"
            },
            "type": "carpet"
           }
          ],
          "choropleth": [
           {
            "colorbar": {
             "outlinewidth": 0,
             "ticks": ""
            },
            "type": "choropleth"
           }
          ],
          "contour": [
           {
            "colorbar": {
             "outlinewidth": 0,
             "ticks": ""
            },
            "colorscale": [
             [
              0,
              "#0d0887"
             ],
             [
              0.1111111111111111,
              "#46039f"
             ],
             [
              0.2222222222222222,
              "#7201a8"
             ],
             [
              0.3333333333333333,
              "#9c179e"
             ],
             [
              0.4444444444444444,
              "#bd3786"
             ],
             [
              0.5555555555555556,
              "#d8576b"
             ],
             [
              0.6666666666666666,
              "#ed7953"
             ],
             [
              0.7777777777777778,
              "#fb9f3a"
             ],
             [
              0.8888888888888888,
              "#fdca26"
             ],
             [
              1,
              "#f0f921"
             ]
            ],
            "type": "contour"
           }
          ],
          "contourcarpet": [
           {
            "colorbar": {
             "outlinewidth": 0,
             "ticks": ""
            },
            "type": "contourcarpet"
           }
          ],
          "heatmap": [
           {
            "colorbar": {
             "outlinewidth": 0,
             "ticks": ""
            },
            "colorscale": [
             [
              0,
              "#0d0887"
             ],
             [
              0.1111111111111111,
              "#46039f"
             ],
             [
              0.2222222222222222,
              "#7201a8"
             ],
             [
              0.3333333333333333,
              "#9c179e"
             ],
             [
              0.4444444444444444,
              "#bd3786"
             ],
             [
              0.5555555555555556,
              "#d8576b"
             ],
             [
              0.6666666666666666,
              "#ed7953"
             ],
             [
              0.7777777777777778,
              "#fb9f3a"
             ],
             [
              0.8888888888888888,
              "#fdca26"
             ],
             [
              1,
              "#f0f921"
             ]
            ],
            "type": "heatmap"
           }
          ],
          "heatmapgl": [
           {
            "colorbar": {
             "outlinewidth": 0,
             "ticks": ""
            },
            "colorscale": [
             [
              0,
              "#0d0887"
             ],
             [
              0.1111111111111111,
              "#46039f"
             ],
             [
              0.2222222222222222,
              "#7201a8"
             ],
             [
              0.3333333333333333,
              "#9c179e"
             ],
             [
              0.4444444444444444,
              "#bd3786"
             ],
             [
              0.5555555555555556,
              "#d8576b"
             ],
             [
              0.6666666666666666,
              "#ed7953"
             ],
             [
              0.7777777777777778,
              "#fb9f3a"
             ],
             [
              0.8888888888888888,
              "#fdca26"
             ],
             [
              1,
              "#f0f921"
             ]
            ],
            "type": "heatmapgl"
           }
          ],
          "histogram": [
           {
            "marker": {
             "pattern": {
              "fillmode": "overlay",
              "size": 10,
              "solidity": 0.2
             }
            },
            "type": "histogram"
           }
          ],
          "histogram2d": [
           {
            "colorbar": {
             "outlinewidth": 0,
             "ticks": ""
            },
            "colorscale": [
             [
              0,
              "#0d0887"
             ],
             [
              0.1111111111111111,
              "#46039f"
             ],
             [
              0.2222222222222222,
              "#7201a8"
             ],
             [
              0.3333333333333333,
              "#9c179e"
             ],
             [
              0.4444444444444444,
              "#bd3786"
             ],
             [
              0.5555555555555556,
              "#d8576b"
             ],
             [
              0.6666666666666666,
              "#ed7953"
             ],
             [
              0.7777777777777778,
              "#fb9f3a"
             ],
             [
              0.8888888888888888,
              "#fdca26"
             ],
             [
              1,
              "#f0f921"
             ]
            ],
            "type": "histogram2d"
           }
          ],
          "histogram2dcontour": [
           {
            "colorbar": {
             "outlinewidth": 0,
             "ticks": ""
            },
            "colorscale": [
             [
              0,
              "#0d0887"
             ],
             [
              0.1111111111111111,
              "#46039f"
             ],
             [
              0.2222222222222222,
              "#7201a8"
             ],
             [
              0.3333333333333333,
              "#9c179e"
             ],
             [
              0.4444444444444444,
              "#bd3786"
             ],
             [
              0.5555555555555556,
              "#d8576b"
             ],
             [
              0.6666666666666666,
              "#ed7953"
             ],
             [
              0.7777777777777778,
              "#fb9f3a"
             ],
             [
              0.8888888888888888,
              "#fdca26"
             ],
             [
              1,
              "#f0f921"
             ]
            ],
            "type": "histogram2dcontour"
           }
          ],
          "mesh3d": [
           {
            "colorbar": {
             "outlinewidth": 0,
             "ticks": ""
            },
            "type": "mesh3d"
           }
          ],
          "parcoords": [
           {
            "line": {
             "colorbar": {
              "outlinewidth": 0,
              "ticks": ""
             }
            },
            "type": "parcoords"
           }
          ],
          "pie": [
           {
            "automargin": true,
            "type": "pie"
           }
          ],
          "scatter": [
           {
            "fillpattern": {
             "fillmode": "overlay",
             "size": 10,
             "solidity": 0.2
            },
            "type": "scatter"
           }
          ],
          "scatter3d": [
           {
            "line": {
             "colorbar": {
              "outlinewidth": 0,
              "ticks": ""
             }
            },
            "marker": {
             "colorbar": {
              "outlinewidth": 0,
              "ticks": ""
             }
            },
            "type": "scatter3d"
           }
          ],
          "scattercarpet": [
           {
            "marker": {
             "colorbar": {
              "outlinewidth": 0,
              "ticks": ""
             }
            },
            "type": "scattercarpet"
           }
          ],
          "scattergeo": [
           {
            "marker": {
             "colorbar": {
              "outlinewidth": 0,
              "ticks": ""
             }
            },
            "type": "scattergeo"
           }
          ],
          "scattergl": [
           {
            "marker": {
             "colorbar": {
              "outlinewidth": 0,
              "ticks": ""
             }
            },
            "type": "scattergl"
           }
          ],
          "scattermapbox": [
           {
            "marker": {
             "colorbar": {
              "outlinewidth": 0,
              "ticks": ""
             }
            },
            "type": "scattermapbox"
           }
          ],
          "scatterpolar": [
           {
            "marker": {
             "colorbar": {
              "outlinewidth": 0,
              "ticks": ""
             }
            },
            "type": "scatterpolar"
           }
          ],
          "scatterpolargl": [
           {
            "marker": {
             "colorbar": {
              "outlinewidth": 0,
              "ticks": ""
             }
            },
            "type": "scatterpolargl"
           }
          ],
          "scatterternary": [
           {
            "marker": {
             "colorbar": {
              "outlinewidth": 0,
              "ticks": ""
             }
            },
            "type": "scatterternary"
           }
          ],
          "surface": [
           {
            "colorbar": {
             "outlinewidth": 0,
             "ticks": ""
            },
            "colorscale": [
             [
              0,
              "#0d0887"
             ],
             [
              0.1111111111111111,
              "#46039f"
             ],
             [
              0.2222222222222222,
              "#7201a8"
             ],
             [
              0.3333333333333333,
              "#9c179e"
             ],
             [
              0.4444444444444444,
              "#bd3786"
             ],
             [
              0.5555555555555556,
              "#d8576b"
             ],
             [
              0.6666666666666666,
              "#ed7953"
             ],
             [
              0.7777777777777778,
              "#fb9f3a"
             ],
             [
              0.8888888888888888,
              "#fdca26"
             ],
             [
              1,
              "#f0f921"
             ]
            ],
            "type": "surface"
           }
          ],
          "table": [
           {
            "cells": {
             "fill": {
              "color": "#EBF0F8"
             },
             "line": {
              "color": "white"
             }
            },
            "header": {
             "fill": {
              "color": "#C8D4E3"
             },
             "line": {
              "color": "white"
             }
            },
            "type": "table"
           }
          ]
         },
         "layout": {
          "annotationdefaults": {
           "arrowcolor": "#2a3f5f",
           "arrowhead": 0,
           "arrowwidth": 1
          },
          "autotypenumbers": "strict",
          "coloraxis": {
           "colorbar": {
            "outlinewidth": 0,
            "ticks": ""
           }
          },
          "colorscale": {
           "diverging": [
            [
             0,
             "#8e0152"
            ],
            [
             0.1,
             "#c51b7d"
            ],
            [
             0.2,
             "#de77ae"
            ],
            [
             0.3,
             "#f1b6da"
            ],
            [
             0.4,
             "#fde0ef"
            ],
            [
             0.5,
             "#f7f7f7"
            ],
            [
             0.6,
             "#e6f5d0"
            ],
            [
             0.7,
             "#b8e186"
            ],
            [
             0.8,
             "#7fbc41"
            ],
            [
             0.9,
             "#4d9221"
            ],
            [
             1,
             "#276419"
            ]
           ],
           "sequential": [
            [
             0,
             "#0d0887"
            ],
            [
             0.1111111111111111,
             "#46039f"
            ],
            [
             0.2222222222222222,
             "#7201a8"
            ],
            [
             0.3333333333333333,
             "#9c179e"
            ],
            [
             0.4444444444444444,
             "#bd3786"
            ],
            [
             0.5555555555555556,
             "#d8576b"
            ],
            [
             0.6666666666666666,
             "#ed7953"
            ],
            [
             0.7777777777777778,
             "#fb9f3a"
            ],
            [
             0.8888888888888888,
             "#fdca26"
            ],
            [
             1,
             "#f0f921"
            ]
           ],
           "sequentialminus": [
            [
             0,
             "#0d0887"
            ],
            [
             0.1111111111111111,
             "#46039f"
            ],
            [
             0.2222222222222222,
             "#7201a8"
            ],
            [
             0.3333333333333333,
             "#9c179e"
            ],
            [
             0.4444444444444444,
             "#bd3786"
            ],
            [
             0.5555555555555556,
             "#d8576b"
            ],
            [
             0.6666666666666666,
             "#ed7953"
            ],
            [
             0.7777777777777778,
             "#fb9f3a"
            ],
            [
             0.8888888888888888,
             "#fdca26"
            ],
            [
             1,
             "#f0f921"
            ]
           ]
          },
          "colorway": [
           "#636efa",
           "#EF553B",
           "#00cc96",
           "#ab63fa",
           "#FFA15A",
           "#19d3f3",
           "#FF6692",
           "#B6E880",
           "#FF97FF",
           "#FECB52"
          ],
          "font": {
           "color": "#2a3f5f"
          },
          "geo": {
           "bgcolor": "white",
           "lakecolor": "white",
           "landcolor": "#E5ECF6",
           "showlakes": true,
           "showland": true,
           "subunitcolor": "white"
          },
          "hoverlabel": {
           "align": "left"
          },
          "hovermode": "closest",
          "mapbox": {
           "style": "light"
          },
          "paper_bgcolor": "white",
          "plot_bgcolor": "#E5ECF6",
          "polar": {
           "angularaxis": {
            "gridcolor": "white",
            "linecolor": "white",
            "ticks": ""
           },
           "bgcolor": "#E5ECF6",
           "radialaxis": {
            "gridcolor": "white",
            "linecolor": "white",
            "ticks": ""
           }
          },
          "scene": {
           "xaxis": {
            "backgroundcolor": "#E5ECF6",
            "gridcolor": "white",
            "gridwidth": 2,
            "linecolor": "white",
            "showbackground": true,
            "ticks": "",
            "zerolinecolor": "white"
           },
           "yaxis": {
            "backgroundcolor": "#E5ECF6",
            "gridcolor": "white",
            "gridwidth": 2,
            "linecolor": "white",
            "showbackground": true,
            "ticks": "",
            "zerolinecolor": "white"
           },
           "zaxis": {
            "backgroundcolor": "#E5ECF6",
            "gridcolor": "white",
            "gridwidth": 2,
            "linecolor": "white",
            "showbackground": true,
            "ticks": "",
            "zerolinecolor": "white"
           }
          },
          "shapedefaults": {
           "line": {
            "color": "#2a3f5f"
           }
          },
          "ternary": {
           "aaxis": {
            "gridcolor": "white",
            "linecolor": "white",
            "ticks": ""
           },
           "baxis": {
            "gridcolor": "white",
            "linecolor": "white",
            "ticks": ""
           },
           "bgcolor": "#E5ECF6",
           "caxis": {
            "gridcolor": "white",
            "linecolor": "white",
            "ticks": ""
           }
          },
          "title": {
           "x": 0.05
          },
          "xaxis": {
           "automargin": true,
           "gridcolor": "white",
           "linecolor": "white",
           "ticks": "",
           "title": {
            "standoff": 15
           },
           "zerolinecolor": "white",
           "zerolinewidth": 2
          },
          "yaxis": {
           "automargin": true,
           "gridcolor": "white",
           "linecolor": "white",
           "ticks": "",
           "title": {
            "standoff": 15
           },
           "zerolinecolor": "white",
           "zerolinewidth": 2
          }
         }
        },
        "title": {
         "text": "Decision Boundary for Model with 1 Feature"
        },
        "xaxis": {
         "title": {
          "text": "sepal length (cm)"
         }
        },
        "yaxis": {
         "title": {
          "text": "Decision Boundary"
         }
        }
       }
      }
     },
     "metadata": {},
     "output_type": "display_data"
    },
    {
     "data": {
      "application/vnd.plotly.v1+json": {
       "config": {
        "plotlyServerURL": "https://plot.ly"
       },
       "data": [
        {
         "line": {
          "color": "green",
          "width": 2
         },
         "mode": "lines",
         "name": "Decision Boundary",
         "type": "scatter",
         "x": [
          4.4,
          4.677777777777778,
          4.955555555555556,
          5.233333333333333,
          5.511111111111111,
          5.78888888888889,
          6.066666666666667,
          6.344444444444445,
          6.622222222222223,
          6.9
         ],
         "y": [
          -1.4823110328631852,
          -0.8148237637558662,
          -0.14733649464854892,
          0.5201507744587683,
          1.1876380435660856,
          1.8551253126734046,
          2.522612581780722,
          3.190099850888039,
          3.857587119995358,
          4.525074389102674
         ]
        }
       ],
       "layout": {
        "template": {
         "data": {
          "bar": [
           {
            "error_x": {
             "color": "#2a3f5f"
            },
            "error_y": {
             "color": "#2a3f5f"
            },
            "marker": {
             "line": {
              "color": "#E5ECF6",
              "width": 0.5
             },
             "pattern": {
              "fillmode": "overlay",
              "size": 10,
              "solidity": 0.2
             }
            },
            "type": "bar"
           }
          ],
          "barpolar": [
           {
            "marker": {
             "line": {
              "color": "#E5ECF6",
              "width": 0.5
             },
             "pattern": {
              "fillmode": "overlay",
              "size": 10,
              "solidity": 0.2
             }
            },
            "type": "barpolar"
           }
          ],
          "carpet": [
           {
            "aaxis": {
             "endlinecolor": "#2a3f5f",
             "gridcolor": "white",
             "linecolor": "white",
             "minorgridcolor": "white",
             "startlinecolor": "#2a3f5f"
            },
            "baxis": {
             "endlinecolor": "#2a3f5f",
             "gridcolor": "white",
             "linecolor": "white",
             "minorgridcolor": "white",
             "startlinecolor": "#2a3f5f"
            },
            "type": "carpet"
           }
          ],
          "choropleth": [
           {
            "colorbar": {
             "outlinewidth": 0,
             "ticks": ""
            },
            "type": "choropleth"
           }
          ],
          "contour": [
           {
            "colorbar": {
             "outlinewidth": 0,
             "ticks": ""
            },
            "colorscale": [
             [
              0,
              "#0d0887"
             ],
             [
              0.1111111111111111,
              "#46039f"
             ],
             [
              0.2222222222222222,
              "#7201a8"
             ],
             [
              0.3333333333333333,
              "#9c179e"
             ],
             [
              0.4444444444444444,
              "#bd3786"
             ],
             [
              0.5555555555555556,
              "#d8576b"
             ],
             [
              0.6666666666666666,
              "#ed7953"
             ],
             [
              0.7777777777777778,
              "#fb9f3a"
             ],
             [
              0.8888888888888888,
              "#fdca26"
             ],
             [
              1,
              "#f0f921"
             ]
            ],
            "type": "contour"
           }
          ],
          "contourcarpet": [
           {
            "colorbar": {
             "outlinewidth": 0,
             "ticks": ""
            },
            "type": "contourcarpet"
           }
          ],
          "heatmap": [
           {
            "colorbar": {
             "outlinewidth": 0,
             "ticks": ""
            },
            "colorscale": [
             [
              0,
              "#0d0887"
             ],
             [
              0.1111111111111111,
              "#46039f"
             ],
             [
              0.2222222222222222,
              "#7201a8"
             ],
             [
              0.3333333333333333,
              "#9c179e"
             ],
             [
              0.4444444444444444,
              "#bd3786"
             ],
             [
              0.5555555555555556,
              "#d8576b"
             ],
             [
              0.6666666666666666,
              "#ed7953"
             ],
             [
              0.7777777777777778,
              "#fb9f3a"
             ],
             [
              0.8888888888888888,
              "#fdca26"
             ],
             [
              1,
              "#f0f921"
             ]
            ],
            "type": "heatmap"
           }
          ],
          "heatmapgl": [
           {
            "colorbar": {
             "outlinewidth": 0,
             "ticks": ""
            },
            "colorscale": [
             [
              0,
              "#0d0887"
             ],
             [
              0.1111111111111111,
              "#46039f"
             ],
             [
              0.2222222222222222,
              "#7201a8"
             ],
             [
              0.3333333333333333,
              "#9c179e"
             ],
             [
              0.4444444444444444,
              "#bd3786"
             ],
             [
              0.5555555555555556,
              "#d8576b"
             ],
             [
              0.6666666666666666,
              "#ed7953"
             ],
             [
              0.7777777777777778,
              "#fb9f3a"
             ],
             [
              0.8888888888888888,
              "#fdca26"
             ],
             [
              1,
              "#f0f921"
             ]
            ],
            "type": "heatmapgl"
           }
          ],
          "histogram": [
           {
            "marker": {
             "pattern": {
              "fillmode": "overlay",
              "size": 10,
              "solidity": 0.2
             }
            },
            "type": "histogram"
           }
          ],
          "histogram2d": [
           {
            "colorbar": {
             "outlinewidth": 0,
             "ticks": ""
            },
            "colorscale": [
             [
              0,
              "#0d0887"
             ],
             [
              0.1111111111111111,
              "#46039f"
             ],
             [
              0.2222222222222222,
              "#7201a8"
             ],
             [
              0.3333333333333333,
              "#9c179e"
             ],
             [
              0.4444444444444444,
              "#bd3786"
             ],
             [
              0.5555555555555556,
              "#d8576b"
             ],
             [
              0.6666666666666666,
              "#ed7953"
             ],
             [
              0.7777777777777778,
              "#fb9f3a"
             ],
             [
              0.8888888888888888,
              "#fdca26"
             ],
             [
              1,
              "#f0f921"
             ]
            ],
            "type": "histogram2d"
           }
          ],
          "histogram2dcontour": [
           {
            "colorbar": {
             "outlinewidth": 0,
             "ticks": ""
            },
            "colorscale": [
             [
              0,
              "#0d0887"
             ],
             [
              0.1111111111111111,
              "#46039f"
             ],
             [
              0.2222222222222222,
              "#7201a8"
             ],
             [
              0.3333333333333333,
              "#9c179e"
             ],
             [
              0.4444444444444444,
              "#bd3786"
             ],
             [
              0.5555555555555556,
              "#d8576b"
             ],
             [
              0.6666666666666666,
              "#ed7953"
             ],
             [
              0.7777777777777778,
              "#fb9f3a"
             ],
             [
              0.8888888888888888,
              "#fdca26"
             ],
             [
              1,
              "#f0f921"
             ]
            ],
            "type": "histogram2dcontour"
           }
          ],
          "mesh3d": [
           {
            "colorbar": {
             "outlinewidth": 0,
             "ticks": ""
            },
            "type": "mesh3d"
           }
          ],
          "parcoords": [
           {
            "line": {
             "colorbar": {
              "outlinewidth": 0,
              "ticks": ""
             }
            },
            "type": "parcoords"
           }
          ],
          "pie": [
           {
            "automargin": true,
            "type": "pie"
           }
          ],
          "scatter": [
           {
            "fillpattern": {
             "fillmode": "overlay",
             "size": 10,
             "solidity": 0.2
            },
            "type": "scatter"
           }
          ],
          "scatter3d": [
           {
            "line": {
             "colorbar": {
              "outlinewidth": 0,
              "ticks": ""
             }
            },
            "marker": {
             "colorbar": {
              "outlinewidth": 0,
              "ticks": ""
             }
            },
            "type": "scatter3d"
           }
          ],
          "scattercarpet": [
           {
            "marker": {
             "colorbar": {
              "outlinewidth": 0,
              "ticks": ""
             }
            },
            "type": "scattercarpet"
           }
          ],
          "scattergeo": [
           {
            "marker": {
             "colorbar": {
              "outlinewidth": 0,
              "ticks": ""
             }
            },
            "type": "scattergeo"
           }
          ],
          "scattergl": [
           {
            "marker": {
             "colorbar": {
              "outlinewidth": 0,
              "ticks": ""
             }
            },
            "type": "scattergl"
           }
          ],
          "scattermapbox": [
           {
            "marker": {
             "colorbar": {
              "outlinewidth": 0,
              "ticks": ""
             }
            },
            "type": "scattermapbox"
           }
          ],
          "scatterpolar": [
           {
            "marker": {
             "colorbar": {
              "outlinewidth": 0,
              "ticks": ""
             }
            },
            "type": "scatterpolar"
           }
          ],
          "scatterpolargl": [
           {
            "marker": {
             "colorbar": {
              "outlinewidth": 0,
              "ticks": ""
             }
            },
            "type": "scatterpolargl"
           }
          ],
          "scatterternary": [
           {
            "marker": {
             "colorbar": {
              "outlinewidth": 0,
              "ticks": ""
             }
            },
            "type": "scatterternary"
           }
          ],
          "surface": [
           {
            "colorbar": {
             "outlinewidth": 0,
             "ticks": ""
            },
            "colorscale": [
             [
              0,
              "#0d0887"
             ],
             [
              0.1111111111111111,
              "#46039f"
             ],
             [
              0.2222222222222222,
              "#7201a8"
             ],
             [
              0.3333333333333333,
              "#9c179e"
             ],
             [
              0.4444444444444444,
              "#bd3786"
             ],
             [
              0.5555555555555556,
              "#d8576b"
             ],
             [
              0.6666666666666666,
              "#ed7953"
             ],
             [
              0.7777777777777778,
              "#fb9f3a"
             ],
             [
              0.8888888888888888,
              "#fdca26"
             ],
             [
              1,
              "#f0f921"
             ]
            ],
            "type": "surface"
           }
          ],
          "table": [
           {
            "cells": {
             "fill": {
              "color": "#EBF0F8"
             },
             "line": {
              "color": "white"
             }
            },
            "header": {
             "fill": {
              "color": "#C8D4E3"
             },
             "line": {
              "color": "white"
             }
            },
            "type": "table"
           }
          ]
         },
         "layout": {
          "annotationdefaults": {
           "arrowcolor": "#2a3f5f",
           "arrowhead": 0,
           "arrowwidth": 1
          },
          "autotypenumbers": "strict",
          "coloraxis": {
           "colorbar": {
            "outlinewidth": 0,
            "ticks": ""
           }
          },
          "colorscale": {
           "diverging": [
            [
             0,
             "#8e0152"
            ],
            [
             0.1,
             "#c51b7d"
            ],
            [
             0.2,
             "#de77ae"
            ],
            [
             0.3,
             "#f1b6da"
            ],
            [
             0.4,
             "#fde0ef"
            ],
            [
             0.5,
             "#f7f7f7"
            ],
            [
             0.6,
             "#e6f5d0"
            ],
            [
             0.7,
             "#b8e186"
            ],
            [
             0.8,
             "#7fbc41"
            ],
            [
             0.9,
             "#4d9221"
            ],
            [
             1,
             "#276419"
            ]
           ],
           "sequential": [
            [
             0,
             "#0d0887"
            ],
            [
             0.1111111111111111,
             "#46039f"
            ],
            [
             0.2222222222222222,
             "#7201a8"
            ],
            [
             0.3333333333333333,
             "#9c179e"
            ],
            [
             0.4444444444444444,
             "#bd3786"
            ],
            [
             0.5555555555555556,
             "#d8576b"
            ],
            [
             0.6666666666666666,
             "#ed7953"
            ],
            [
             0.7777777777777778,
             "#fb9f3a"
            ],
            [
             0.8888888888888888,
             "#fdca26"
            ],
            [
             1,
             "#f0f921"
            ]
           ],
           "sequentialminus": [
            [
             0,
             "#0d0887"
            ],
            [
             0.1111111111111111,
             "#46039f"
            ],
            [
             0.2222222222222222,
             "#7201a8"
            ],
            [
             0.3333333333333333,
             "#9c179e"
            ],
            [
             0.4444444444444444,
             "#bd3786"
            ],
            [
             0.5555555555555556,
             "#d8576b"
            ],
            [
             0.6666666666666666,
             "#ed7953"
            ],
            [
             0.7777777777777778,
             "#fb9f3a"
            ],
            [
             0.8888888888888888,
             "#fdca26"
            ],
            [
             1,
             "#f0f921"
            ]
           ]
          },
          "colorway": [
           "#636efa",
           "#EF553B",
           "#00cc96",
           "#ab63fa",
           "#FFA15A",
           "#19d3f3",
           "#FF6692",
           "#B6E880",
           "#FF97FF",
           "#FECB52"
          ],
          "font": {
           "color": "#2a3f5f"
          },
          "geo": {
           "bgcolor": "white",
           "lakecolor": "white",
           "landcolor": "#E5ECF6",
           "showlakes": true,
           "showland": true,
           "subunitcolor": "white"
          },
          "hoverlabel": {
           "align": "left"
          },
          "hovermode": "closest",
          "mapbox": {
           "style": "light"
          },
          "paper_bgcolor": "white",
          "plot_bgcolor": "#E5ECF6",
          "polar": {
           "angularaxis": {
            "gridcolor": "white",
            "linecolor": "white",
            "ticks": ""
           },
           "bgcolor": "#E5ECF6",
           "radialaxis": {
            "gridcolor": "white",
            "linecolor": "white",
            "ticks": ""
           }
          },
          "scene": {
           "xaxis": {
            "backgroundcolor": "#E5ECF6",
            "gridcolor": "white",
            "gridwidth": 2,
            "linecolor": "white",
            "showbackground": true,
            "ticks": "",
            "zerolinecolor": "white"
           },
           "yaxis": {
            "backgroundcolor": "#E5ECF6",
            "gridcolor": "white",
            "gridwidth": 2,
            "linecolor": "white",
            "showbackground": true,
            "ticks": "",
            "zerolinecolor": "white"
           },
           "zaxis": {
            "backgroundcolor": "#E5ECF6",
            "gridcolor": "white",
            "gridwidth": 2,
            "linecolor": "white",
            "showbackground": true,
            "ticks": "",
            "zerolinecolor": "white"
           }
          },
          "shapedefaults": {
           "line": {
            "color": "#2a3f5f"
           }
          },
          "ternary": {
           "aaxis": {
            "gridcolor": "white",
            "linecolor": "white",
            "ticks": ""
           },
           "baxis": {
            "gridcolor": "white",
            "linecolor": "white",
            "ticks": ""
           },
           "bgcolor": "#E5ECF6",
           "caxis": {
            "gridcolor": "white",
            "linecolor": "white",
            "ticks": ""
           }
          },
          "title": {
           "x": 0.05
          },
          "xaxis": {
           "automargin": true,
           "gridcolor": "white",
           "linecolor": "white",
           "ticks": "",
           "title": {
            "standoff": 15
           },
           "zerolinecolor": "white",
           "zerolinewidth": 2
          },
          "yaxis": {
           "automargin": true,
           "gridcolor": "white",
           "linecolor": "white",
           "ticks": "",
           "title": {
            "standoff": 15
           },
           "zerolinecolor": "white",
           "zerolinewidth": 2
          }
         }
        },
        "title": {
         "text": "Decision Boundary for Model with 2 Features"
        },
        "xaxis": {
         "title": {
          "text": "sepal length (cm)"
         }
        },
        "yaxis": {
         "title": {
          "text": "sepal width (cm)"
         }
        }
       }
      }
     },
     "metadata": {},
     "output_type": "display_data"
    },
    {
     "data": {
      "application/vnd.plotly.v1+json": {
       "config": {
        "plotlyServerURL": "https://plot.ly"
       },
       "data": [
        {
         "colorscale": [
          [
           0,
           "rgb(103,0,31)"
          ],
          [
           0.1,
           "rgb(178,24,43)"
          ],
          [
           0.2,
           "rgb(214,96,77)"
          ],
          [
           0.3,
           "rgb(244,165,130)"
          ],
          [
           0.4,
           "rgb(253,219,199)"
          ],
          [
           0.5,
           "rgb(247,247,247)"
          ],
          [
           0.6,
           "rgb(209,229,240)"
          ],
          [
           0.7,
           "rgb(146,197,222)"
          ],
          [
           0.8,
           "rgb(67,147,195)"
          ],
          [
           0.9,
           "rgb(33,102,172)"
          ],
          [
           1,
           "rgb(5,48,97)"
          ]
         ],
         "name": "Decision Boundary",
         "type": "surface",
         "x": [
          [
           4.4,
           4.677777777777778,
           4.955555555555556,
           5.233333333333333,
           5.511111111111111,
           5.78888888888889,
           6.066666666666667,
           6.344444444444445,
           6.622222222222223,
           6.9
          ],
          [
           4.4,
           4.677777777777778,
           4.955555555555556,
           5.233333333333333,
           5.511111111111111,
           5.78888888888889,
           6.066666666666667,
           6.344444444444445,
           6.622222222222223,
           6.9
          ],
          [
           4.4,
           4.677777777777778,
           4.955555555555556,
           5.233333333333333,
           5.511111111111111,
           5.78888888888889,
           6.066666666666667,
           6.344444444444445,
           6.622222222222223,
           6.9
          ],
          [
           4.4,
           4.677777777777778,
           4.955555555555556,
           5.233333333333333,
           5.511111111111111,
           5.78888888888889,
           6.066666666666667,
           6.344444444444445,
           6.622222222222223,
           6.9
          ],
          [
           4.4,
           4.677777777777778,
           4.955555555555556,
           5.233333333333333,
           5.511111111111111,
           5.78888888888889,
           6.066666666666667,
           6.344444444444445,
           6.622222222222223,
           6.9
          ],
          [
           4.4,
           4.677777777777778,
           4.955555555555556,
           5.233333333333333,
           5.511111111111111,
           5.78888888888889,
           6.066666666666667,
           6.344444444444445,
           6.622222222222223,
           6.9
          ],
          [
           4.4,
           4.677777777777778,
           4.955555555555556,
           5.233333333333333,
           5.511111111111111,
           5.78888888888889,
           6.066666666666667,
           6.344444444444445,
           6.622222222222223,
           6.9
          ],
          [
           4.4,
           4.677777777777778,
           4.955555555555556,
           5.233333333333333,
           5.511111111111111,
           5.78888888888889,
           6.066666666666667,
           6.344444444444445,
           6.622222222222223,
           6.9
          ],
          [
           4.4,
           4.677777777777778,
           4.955555555555556,
           5.233333333333333,
           5.511111111111111,
           5.78888888888889,
           6.066666666666667,
           6.344444444444445,
           6.622222222222223,
           6.9
          ],
          [
           4.4,
           4.677777777777778,
           4.955555555555556,
           5.233333333333333,
           5.511111111111111,
           5.78888888888889,
           6.066666666666667,
           6.344444444444445,
           6.622222222222223,
           6.9
          ]
         ],
         "y": [
          [
           2,
           2,
           2,
           2,
           2,
           2,
           2,
           2,
           2,
           2
          ],
          [
           2.1666666666666665,
           2.1666666666666665,
           2.1666666666666665,
           2.1666666666666665,
           2.1666666666666665,
           2.1666666666666665,
           2.1666666666666665,
           2.1666666666666665,
           2.1666666666666665,
           2.1666666666666665
          ],
          [
           2.3333333333333335,
           2.3333333333333335,
           2.3333333333333335,
           2.3333333333333335,
           2.3333333333333335,
           2.3333333333333335,
           2.3333333333333335,
           2.3333333333333335,
           2.3333333333333335,
           2.3333333333333335
          ],
          [
           2.5,
           2.5,
           2.5,
           2.5,
           2.5,
           2.5,
           2.5,
           2.5,
           2.5,
           2.5
          ],
          [
           2.6666666666666665,
           2.6666666666666665,
           2.6666666666666665,
           2.6666666666666665,
           2.6666666666666665,
           2.6666666666666665,
           2.6666666666666665,
           2.6666666666666665,
           2.6666666666666665,
           2.6666666666666665
          ],
          [
           2.833333333333333,
           2.833333333333333,
           2.833333333333333,
           2.833333333333333,
           2.833333333333333,
           2.833333333333333,
           2.833333333333333,
           2.833333333333333,
           2.833333333333333,
           2.833333333333333
          ],
          [
           3,
           3,
           3,
           3,
           3,
           3,
           3,
           3,
           3,
           3
          ],
          [
           3.1666666666666665,
           3.1666666666666665,
           3.1666666666666665,
           3.1666666666666665,
           3.1666666666666665,
           3.1666666666666665,
           3.1666666666666665,
           3.1666666666666665,
           3.1666666666666665,
           3.1666666666666665
          ],
          [
           3.333333333333333,
           3.333333333333333,
           3.333333333333333,
           3.333333333333333,
           3.333333333333333,
           3.333333333333333,
           3.333333333333333,
           3.333333333333333,
           3.333333333333333,
           3.333333333333333
          ],
          [
           3.5,
           3.5,
           3.5,
           3.5,
           3.5,
           3.5,
           3.5,
           3.5,
           3.5,
           3.5
          ]
         ],
         "z": [
          [
           4.510763935264736,
           4.540122594878972,
           4.569481254493209,
           4.598839914107446,
           4.628198573721682,
           4.657557233335918,
           4.686915892950155,
           4.716274552564392,
           4.745633212178628,
           4.7749918717928646
          ],
          [
           4.539456842705472,
           4.568815502319708,
           4.598174161933946,
           4.627532821548182,
           4.656891481162418,
           4.686250140776655,
           4.715608800390891,
           4.744967460005128,
           4.7743261196193645,
           4.803684779233601
          ],
          [
           4.568149750146208,
           4.597508409760445,
           4.626867069374682,
           4.656225728988918,
           4.6855843886031545,
           4.714943048217391,
           4.744301707831627,
           4.773660367445864,
           4.803019027060101,
           4.832377686674337
          ],
          [
           4.5968426575869445,
           4.626201317201181,
           4.655559976815418,
           4.6849186364296544,
           4.714277296043891,
           4.743635955658127,
           4.7729946152723635,
           4.802353274886601,
           4.831711934500837,
           4.861070594115073
          ],
          [
           4.625535565027681,
           4.654894224641918,
           4.684252884256155,
           4.713611543870391,
           4.742970203484628,
           4.772328863098863,
           4.801687522713101,
           4.831046182327338,
           4.860404841941573,
           4.8897635015558105
          ],
          [
           4.654228472468418,
           4.683587132082654,
           4.7129457916968915,
           4.742304451311128,
           4.771663110925364,
           4.8010217705396006,
           4.830380430153837,
           4.859739089768074,
           4.8890977493823105,
           4.918456408996547
          ],
          [
           4.682921379909154,
           4.712280039523391,
           4.741638699137628,
           4.770997358751864,
           4.8003560183661005,
           4.829714677980337,
           4.859073337594573,
           4.88843199720881,
           4.917790656823047,
           4.947149316437283
          ],
          [
           4.7116142873498905,
           4.740972946964127,
           4.770331606578364,
           4.7996902661926,
           4.829048925806837,
           4.858407585421073,
           4.887766245035309,
           4.917124904649547,
           4.946483564263783,
           4.975842223878019
          ],
          [
           4.740307194790627,
           4.769665854404863,
           4.7990245140191,
           4.828383173633337,
           4.857741833247573,
           4.887100492861809,
           4.916459152476046,
           4.945817812090283,
           4.975176471704519,
           5.004535131318756
          ],
          [
           4.769000102231364,
           4.7983587618456,
           4.8277174214598375,
           4.857076081074074,
           4.88643474068831,
           4.9157934003025465,
           4.945152059916783,
           4.97451071953102,
           5.003869379145256,
           5.033228038759493
          ]
         ]
        }
       ],
       "layout": {
        "scene": {
         "xaxis": {
          "title": {
           "text": "sepal length (cm)"
          }
         },
         "yaxis": {
          "title": {
           "text": "sepal width (cm)"
          }
         },
         "zaxis": {
          "title": {
           "text": "petal length (cm)"
          }
         }
        },
        "template": {
         "data": {
          "bar": [
           {
            "error_x": {
             "color": "#2a3f5f"
            },
            "error_y": {
             "color": "#2a3f5f"
            },
            "marker": {
             "line": {
              "color": "#E5ECF6",
              "width": 0.5
             },
             "pattern": {
              "fillmode": "overlay",
              "size": 10,
              "solidity": 0.2
             }
            },
            "type": "bar"
           }
          ],
          "barpolar": [
           {
            "marker": {
             "line": {
              "color": "#E5ECF6",
              "width": 0.5
             },
             "pattern": {
              "fillmode": "overlay",
              "size": 10,
              "solidity": 0.2
             }
            },
            "type": "barpolar"
           }
          ],
          "carpet": [
           {
            "aaxis": {
             "endlinecolor": "#2a3f5f",
             "gridcolor": "white",
             "linecolor": "white",
             "minorgridcolor": "white",
             "startlinecolor": "#2a3f5f"
            },
            "baxis": {
             "endlinecolor": "#2a3f5f",
             "gridcolor": "white",
             "linecolor": "white",
             "minorgridcolor": "white",
             "startlinecolor": "#2a3f5f"
            },
            "type": "carpet"
           }
          ],
          "choropleth": [
           {
            "colorbar": {
             "outlinewidth": 0,
             "ticks": ""
            },
            "type": "choropleth"
           }
          ],
          "contour": [
           {
            "colorbar": {
             "outlinewidth": 0,
             "ticks": ""
            },
            "colorscale": [
             [
              0,
              "#0d0887"
             ],
             [
              0.1111111111111111,
              "#46039f"
             ],
             [
              0.2222222222222222,
              "#7201a8"
             ],
             [
              0.3333333333333333,
              "#9c179e"
             ],
             [
              0.4444444444444444,
              "#bd3786"
             ],
             [
              0.5555555555555556,
              "#d8576b"
             ],
             [
              0.6666666666666666,
              "#ed7953"
             ],
             [
              0.7777777777777778,
              "#fb9f3a"
             ],
             [
              0.8888888888888888,
              "#fdca26"
             ],
             [
              1,
              "#f0f921"
             ]
            ],
            "type": "contour"
           }
          ],
          "contourcarpet": [
           {
            "colorbar": {
             "outlinewidth": 0,
             "ticks": ""
            },
            "type": "contourcarpet"
           }
          ],
          "heatmap": [
           {
            "colorbar": {
             "outlinewidth": 0,
             "ticks": ""
            },
            "colorscale": [
             [
              0,
              "#0d0887"
             ],
             [
              0.1111111111111111,
              "#46039f"
             ],
             [
              0.2222222222222222,
              "#7201a8"
             ],
             [
              0.3333333333333333,
              "#9c179e"
             ],
             [
              0.4444444444444444,
              "#bd3786"
             ],
             [
              0.5555555555555556,
              "#d8576b"
             ],
             [
              0.6666666666666666,
              "#ed7953"
             ],
             [
              0.7777777777777778,
              "#fb9f3a"
             ],
             [
              0.8888888888888888,
              "#fdca26"
             ],
             [
              1,
              "#f0f921"
             ]
            ],
            "type": "heatmap"
           }
          ],
          "heatmapgl": [
           {
            "colorbar": {
             "outlinewidth": 0,
             "ticks": ""
            },
            "colorscale": [
             [
              0,
              "#0d0887"
             ],
             [
              0.1111111111111111,
              "#46039f"
             ],
             [
              0.2222222222222222,
              "#7201a8"
             ],
             [
              0.3333333333333333,
              "#9c179e"
             ],
             [
              0.4444444444444444,
              "#bd3786"
             ],
             [
              0.5555555555555556,
              "#d8576b"
             ],
             [
              0.6666666666666666,
              "#ed7953"
             ],
             [
              0.7777777777777778,
              "#fb9f3a"
             ],
             [
              0.8888888888888888,
              "#fdca26"
             ],
             [
              1,
              "#f0f921"
             ]
            ],
            "type": "heatmapgl"
           }
          ],
          "histogram": [
           {
            "marker": {
             "pattern": {
              "fillmode": "overlay",
              "size": 10,
              "solidity": 0.2
             }
            },
            "type": "histogram"
           }
          ],
          "histogram2d": [
           {
            "colorbar": {
             "outlinewidth": 0,
             "ticks": ""
            },
            "colorscale": [
             [
              0,
              "#0d0887"
             ],
             [
              0.1111111111111111,
              "#46039f"
             ],
             [
              0.2222222222222222,
              "#7201a8"
             ],
             [
              0.3333333333333333,
              "#9c179e"
             ],
             [
              0.4444444444444444,
              "#bd3786"
             ],
             [
              0.5555555555555556,
              "#d8576b"
             ],
             [
              0.6666666666666666,
              "#ed7953"
             ],
             [
              0.7777777777777778,
              "#fb9f3a"
             ],
             [
              0.8888888888888888,
              "#fdca26"
             ],
             [
              1,
              "#f0f921"
             ]
            ],
            "type": "histogram2d"
           }
          ],
          "histogram2dcontour": [
           {
            "colorbar": {
             "outlinewidth": 0,
             "ticks": ""
            },
            "colorscale": [
             [
              0,
              "#0d0887"
             ],
             [
              0.1111111111111111,
              "#46039f"
             ],
             [
              0.2222222222222222,
              "#7201a8"
             ],
             [
              0.3333333333333333,
              "#9c179e"
             ],
             [
              0.4444444444444444,
              "#bd3786"
             ],
             [
              0.5555555555555556,
              "#d8576b"
             ],
             [
              0.6666666666666666,
              "#ed7953"
             ],
             [
              0.7777777777777778,
              "#fb9f3a"
             ],
             [
              0.8888888888888888,
              "#fdca26"
             ],
             [
              1,
              "#f0f921"
             ]
            ],
            "type": "histogram2dcontour"
           }
          ],
          "mesh3d": [
           {
            "colorbar": {
             "outlinewidth": 0,
             "ticks": ""
            },
            "type": "mesh3d"
           }
          ],
          "parcoords": [
           {
            "line": {
             "colorbar": {
              "outlinewidth": 0,
              "ticks": ""
             }
            },
            "type": "parcoords"
           }
          ],
          "pie": [
           {
            "automargin": true,
            "type": "pie"
           }
          ],
          "scatter": [
           {
            "fillpattern": {
             "fillmode": "overlay",
             "size": 10,
             "solidity": 0.2
            },
            "type": "scatter"
           }
          ],
          "scatter3d": [
           {
            "line": {
             "colorbar": {
              "outlinewidth": 0,
              "ticks": ""
             }
            },
            "marker": {
             "colorbar": {
              "outlinewidth": 0,
              "ticks": ""
             }
            },
            "type": "scatter3d"
           }
          ],
          "scattercarpet": [
           {
            "marker": {
             "colorbar": {
              "outlinewidth": 0,
              "ticks": ""
             }
            },
            "type": "scattercarpet"
           }
          ],
          "scattergeo": [
           {
            "marker": {
             "colorbar": {
              "outlinewidth": 0,
              "ticks": ""
             }
            },
            "type": "scattergeo"
           }
          ],
          "scattergl": [
           {
            "marker": {
             "colorbar": {
              "outlinewidth": 0,
              "ticks": ""
             }
            },
            "type": "scattergl"
           }
          ],
          "scattermapbox": [
           {
            "marker": {
             "colorbar": {
              "outlinewidth": 0,
              "ticks": ""
             }
            },
            "type": "scattermapbox"
           }
          ],
          "scatterpolar": [
           {
            "marker": {
             "colorbar": {
              "outlinewidth": 0,
              "ticks": ""
             }
            },
            "type": "scatterpolar"
           }
          ],
          "scatterpolargl": [
           {
            "marker": {
             "colorbar": {
              "outlinewidth": 0,
              "ticks": ""
             }
            },
            "type": "scatterpolargl"
           }
          ],
          "scatterternary": [
           {
            "marker": {
             "colorbar": {
              "outlinewidth": 0,
              "ticks": ""
             }
            },
            "type": "scatterternary"
           }
          ],
          "surface": [
           {
            "colorbar": {
             "outlinewidth": 0,
             "ticks": ""
            },
            "colorscale": [
             [
              0,
              "#0d0887"
             ],
             [
              0.1111111111111111,
              "#46039f"
             ],
             [
              0.2222222222222222,
              "#7201a8"
             ],
             [
              0.3333333333333333,
              "#9c179e"
             ],
             [
              0.4444444444444444,
              "#bd3786"
             ],
             [
              0.5555555555555556,
              "#d8576b"
             ],
             [
              0.6666666666666666,
              "#ed7953"
             ],
             [
              0.7777777777777778,
              "#fb9f3a"
             ],
             [
              0.8888888888888888,
              "#fdca26"
             ],
             [
              1,
              "#f0f921"
             ]
            ],
            "type": "surface"
           }
          ],
          "table": [
           {
            "cells": {
             "fill": {
              "color": "#EBF0F8"
             },
             "line": {
              "color": "white"
             }
            },
            "header": {
             "fill": {
              "color": "#C8D4E3"
             },
             "line": {
              "color": "white"
             }
            },
            "type": "table"
           }
          ]
         },
         "layout": {
          "annotationdefaults": {
           "arrowcolor": "#2a3f5f",
           "arrowhead": 0,
           "arrowwidth": 1
          },
          "autotypenumbers": "strict",
          "coloraxis": {
           "colorbar": {
            "outlinewidth": 0,
            "ticks": ""
           }
          },
          "colorscale": {
           "diverging": [
            [
             0,
             "#8e0152"
            ],
            [
             0.1,
             "#c51b7d"
            ],
            [
             0.2,
             "#de77ae"
            ],
            [
             0.3,
             "#f1b6da"
            ],
            [
             0.4,
             "#fde0ef"
            ],
            [
             0.5,
             "#f7f7f7"
            ],
            [
             0.6,
             "#e6f5d0"
            ],
            [
             0.7,
             "#b8e186"
            ],
            [
             0.8,
             "#7fbc41"
            ],
            [
             0.9,
             "#4d9221"
            ],
            [
             1,
             "#276419"
            ]
           ],
           "sequential": [
            [
             0,
             "#0d0887"
            ],
            [
             0.1111111111111111,
             "#46039f"
            ],
            [
             0.2222222222222222,
             "#7201a8"
            ],
            [
             0.3333333333333333,
             "#9c179e"
            ],
            [
             0.4444444444444444,
             "#bd3786"
            ],
            [
             0.5555555555555556,
             "#d8576b"
            ],
            [
             0.6666666666666666,
             "#ed7953"
            ],
            [
             0.7777777777777778,
             "#fb9f3a"
            ],
            [
             0.8888888888888888,
             "#fdca26"
            ],
            [
             1,
             "#f0f921"
            ]
           ],
           "sequentialminus": [
            [
             0,
             "#0d0887"
            ],
            [
             0.1111111111111111,
             "#46039f"
            ],
            [
             0.2222222222222222,
             "#7201a8"
            ],
            [
             0.3333333333333333,
             "#9c179e"
            ],
            [
             0.4444444444444444,
             "#bd3786"
            ],
            [
             0.5555555555555556,
             "#d8576b"
            ],
            [
             0.6666666666666666,
             "#ed7953"
            ],
            [
             0.7777777777777778,
             "#fb9f3a"
            ],
            [
             0.8888888888888888,
             "#fdca26"
            ],
            [
             1,
             "#f0f921"
            ]
           ]
          },
          "colorway": [
           "#636efa",
           "#EF553B",
           "#00cc96",
           "#ab63fa",
           "#FFA15A",
           "#19d3f3",
           "#FF6692",
           "#B6E880",
           "#FF97FF",
           "#FECB52"
          ],
          "font": {
           "color": "#2a3f5f"
          },
          "geo": {
           "bgcolor": "white",
           "lakecolor": "white",
           "landcolor": "#E5ECF6",
           "showlakes": true,
           "showland": true,
           "subunitcolor": "white"
          },
          "hoverlabel": {
           "align": "left"
          },
          "hovermode": "closest",
          "mapbox": {
           "style": "light"
          },
          "paper_bgcolor": "white",
          "plot_bgcolor": "#E5ECF6",
          "polar": {
           "angularaxis": {
            "gridcolor": "white",
            "linecolor": "white",
            "ticks": ""
           },
           "bgcolor": "#E5ECF6",
           "radialaxis": {
            "gridcolor": "white",
            "linecolor": "white",
            "ticks": ""
           }
          },
          "scene": {
           "xaxis": {
            "backgroundcolor": "#E5ECF6",
            "gridcolor": "white",
            "gridwidth": 2,
            "linecolor": "white",
            "showbackground": true,
            "ticks": "",
            "zerolinecolor": "white"
           },
           "yaxis": {
            "backgroundcolor": "#E5ECF6",
            "gridcolor": "white",
            "gridwidth": 2,
            "linecolor": "white",
            "showbackground": true,
            "ticks": "",
            "zerolinecolor": "white"
           },
           "zaxis": {
            "backgroundcolor": "#E5ECF6",
            "gridcolor": "white",
            "gridwidth": 2,
            "linecolor": "white",
            "showbackground": true,
            "ticks": "",
            "zerolinecolor": "white"
           }
          },
          "shapedefaults": {
           "line": {
            "color": "#2a3f5f"
           }
          },
          "ternary": {
           "aaxis": {
            "gridcolor": "white",
            "linecolor": "white",
            "ticks": ""
           },
           "baxis": {
            "gridcolor": "white",
            "linecolor": "white",
            "ticks": ""
           },
           "bgcolor": "#E5ECF6",
           "caxis": {
            "gridcolor": "white",
            "linecolor": "white",
            "ticks": ""
           }
          },
          "title": {
           "x": 0.05
          },
          "xaxis": {
           "automargin": true,
           "gridcolor": "white",
           "linecolor": "white",
           "ticks": "",
           "title": {
            "standoff": 15
           },
           "zerolinecolor": "white",
           "zerolinewidth": 2
          },
          "yaxis": {
           "automargin": true,
           "gridcolor": "white",
           "linecolor": "white",
           "ticks": "",
           "title": {
            "standoff": 15
           },
           "zerolinecolor": "white",
           "zerolinewidth": 2
          }
         }
        },
        "title": {
         "text": "Decision Boundary for Model with 3 Features"
        }
       }
      }
     },
     "metadata": {},
     "output_type": "display_data"
    }
   ],
   "source": [
    "def plot_decision_boundary(model, X, y):\n",
    "    if len(model[1]) == 1:\n",
    "        # Decision boundary with 1 feature\n",
    "        decision_boundary = -model[0].intercept_ / model[0].coef_[0]\n",
    "        trace = go.Scatter(x=decision_boundary, y=[0],\n",
    "                           mode='markers',\n",
    "                           line=dict(color='green', width=2),\n",
    "                           name='Decision Boundary')\n",
    "        layout = dict(title='Decision Boundary for Model with 1 Feature',\n",
    "                      xaxis=dict(title=iris.feature_names[model[1][0]]),\n",
    "                      yaxis=dict(title='Decision Boundary'))\n",
    "    elif len(model[1]) == 2:\n",
    "        # Decision boundary with 2 features\n",
    "        MIN_FEATURE_VALUE = X[:, model[1][0]].min()\n",
    "        MAX_FEATURE_VALUE = X[:, model[1][0]].max()\n",
    "        decision_boundary_x1 = np.linspace(MIN_FEATURE_VALUE, MAX_FEATURE_VALUE, 10)\n",
    "        decision_boundary_x2 = -model[0].intercept_ / model[0].coef_[0][1] - \\\n",
    "                                model[0].coef_[0][0] / model[0].coef_[0][1] * decision_boundary_x1\n",
    "        trace = go.Scatter(x=decision_boundary_x1, y=decision_boundary_x2,\n",
    "                           mode='lines',\n",
    "                           line=dict(color='green', width=2),\n",
    "                           name='Decision Boundary')\n",
    "        layout = dict(title='Decision Boundary for Model with 2 Features',\n",
    "                      xaxis=dict(title=iris.feature_names[model[1][0]]),\n",
    "                      yaxis=dict(title=iris.feature_names[model[1][1]]))\n",
    "    elif len(model[1]) == 3:\n",
    "        # Decision boundary with 3 features\n",
    "        x1, x2 = np.meshgrid(np.linspace(X[:, model[1][0]].min(), X[:, model[1][0]].max(), 10),\n",
    "                             np.linspace(X[:, model[1][1]].min(), X[:, model[1][1]].max(), 10))\n",
    "        decision_boundary_x3 = -model[0].intercept_ / model[0].coef_[0][2] - \\\n",
    "                                model[0].coef_[0][0] / model[0].coef_[0][2] * x1 - \\\n",
    "                                model[0].coef_[0][1] / model[0].coef_[0][2] * x2\n",
    "        trace = go.Surface(x=x1, y=x2, z=decision_boundary_x3,\n",
    "                           colorscale='RdBu',\n",
    "                           name='Decision Boundary')\n",
    "        layout = dict(title='Decision Boundary for Model with 3 Features',\n",
    "                      scene=dict(xaxis_title=iris.feature_names[model[1][0]],\n",
    "                                 yaxis_title=iris.feature_names[model[1][1]],\n",
    "                                 zaxis_title=iris.feature_names[model[1][2]]))\n",
    "    return trace, layout\n",
    "        # Decision boundary with 2 features\n",
    "for i, model in enumerate(models[:3]):\n",
    "    trace, layout = plot_decision_boundary(model, iris_data_val, iris_target_val)\n",
    "    fig = go.Figure(data=trace, layout=layout)\n",
    "    fig.show()"
   ]
  },
  {
   "cell_type": "markdown",
   "id": "9b310e6d",
   "metadata": {},
   "source": [
    "A single point on the plot represents the decision boundary for the model with one feature. On the other hand, the two-feature model shows a boundary that is represented by a line that separates the classes. Additionally, the three-feature model shows a border that divides the classes in an effective manner, represented by a surface plane.\n"
   ]
  },
  {
   "cell_type": "markdown",
   "id": "c8d0e7bb",
   "metadata": {},
   "source": [
    "#### Failure intance from the test data\n",
    "\n",
    "There are three failure instances total for the 1- and 2-feature models, which are identical. The values in these cases fall in between the two classes' means. The accuracy of accurate probability prediction is reduced due to the limited number of data points linked to only one or two features. On the other hand, because they have a larger feature set and can estimate probability more precisely, models with three or more features perform better.\n"
   ]
  },
  {
   "cell_type": "code",
   "execution_count": 32,
   "id": "9d7d5935",
   "metadata": {},
   "outputs": [
    {
     "name": "stdout",
     "output_type": "stream",
     "text": [
      " Failure instances for 1 feature model:\n",
      " [[6.2 2.2 4.5 1.5]\n",
      " [5.8 2.7 3.9 1.2]\n",
      " [5.5 3.5 1.3 0.2]]\n",
      " Failure instances for 2 feature model:\n",
      " [[6.2 2.2 4.5 1.5]\n",
      " [5.8 2.7 3.9 1.2]\n",
      " [5.5 3.5 1.3 0.2]]\n",
      " Failure instances for 3 feature model:\n",
      " []\n",
      " Failure instances for 4 feature model:\n",
      " []\n"
     ]
    }
   ],
   "source": [
    "\n",
    "for i, indices in enumerate(iris_failure_indices):\n",
    "    iris_failure_indices = iris_df_test[indices]\n",
    "    print(f\" Failure instances for {i+1} feature model:\\n\", iris_failure_indices)"
   ]
  },
  {
   "cell_type": "markdown",
   "id": "3978282d",
   "metadata": {},
   "source": [
    "### Best Fitted model recommendation:"
   ]
  },
  {
   "cell_type": "code",
   "execution_count": 15,
   "id": "e2691f8a",
   "metadata": {},
   "outputs": [
    {
     "name": "stdout",
     "output_type": "stream",
     "text": [
      "Test Accuracy of model 1: 0.9333333333333333\n",
      "Test Accuracy of model 2: 0.8666666666666667\n",
      "Test Accuracy of model 3: 1.0\n",
      "Test Accuracy of model 4: 1.0\n"
     ]
    }
   ],
   "source": [
    "from sklearn.metrics import accuracy_score\n",
    "\n",
    "# Iterate through the models and calculate accuracies\n",
    "for i, model in enumerate(models):\n",
    "    best_model = model[0]\n",
    "    features_indices = model[1]\n",
    "    data_test_subset = iris_df_test[:, features_indices]  # Using array indexing directly\n",
    "    target_test_pred = best_model.predict(data_test_subset)\n",
    "    test_accuracy = accuracy_score(iris_target_test_val, target_test_pred)\n",
    "    print(f\"Test Accuracy of model {i+1}: {test_accuracy}\")\n"
   ]
  },
  {
   "cell_type": "markdown",
   "id": "cc4ba7e3",
   "metadata": {},
   "source": [
    "Based on the model accuracy with four features, Model 3 and Model 4 have 100% accuracy with four features. Therefore, it is possible to regard either of the two models as the best option. Model 3 seems more efficient because it requires less internal computation by evaluating one fewer feature than model 4, even though model 4 may seem fail-safe because it examines all four features.\n"
   ]
  }
 ],
 "metadata": {
  "kernelspec": {
   "display_name": "Python 3 (ipykernel)",
   "language": "python",
   "name": "python3"
  },
  "language_info": {
   "codemirror_mode": {
    "name": "ipython",
    "version": 3
   },
   "file_extension": ".py",
   "mimetype": "text/x-python",
   "name": "python",
   "nbconvert_exporter": "python",
   "pygments_lexer": "ipython3",
   "version": "3.11.7"
  }
 },
 "nbformat": 4,
 "nbformat_minor": 5
}
